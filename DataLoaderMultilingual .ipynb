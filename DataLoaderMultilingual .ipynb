{
  "nbformat": 4,
  "nbformat_minor": 0,
  "metadata": {
    "colab": {
      "name": "DataLoaderMultilingual.ipynb",
      "version": "0.3.2",
      "provenance": [],
      "collapsed_sections": []
    },
    "kernelspec": {
      "name": "python3",
      "display_name": "Python 3"
    },
    "accelerator": "GPU"
  },
  "cells": [
    {
      "cell_type": "code",
      "metadata": {
        "id": "65SenMp-U7N4",
        "colab_type": "code",
        "outputId": "f3b0c196-ef82-4ba6-b5b7-422739cb99bc",
        "colab": {
          "base_uri": "https://localhost:8080/",
          "height": 34
        }
      },
      "source": [
        "  from google.colab import drive\n",
        "drive.mount('/content/gdrive')"
      ],
      "execution_count": 0,
      "outputs": [
        {
          "output_type": "stream",
          "text": [
            "Drive already mounted at /content/gdrive; to attempt to forcibly remount, call drive.mount(\"/content/gdrive\", force_remount=True).\n"
          ],
          "name": "stdout"
        }
      ]
    },
    {
      "cell_type": "code",
      "metadata": {
        "id": "3FF3CDFrWUzP",
        "colab_type": "code",
        "colab": {}
      },
      "source": [
        "# Install the PyDrive wrapper & import libraries.\n",
        "# This only needs to be done once in a notebook.\n",
        "!pip install -U -q PyDrive\n",
        "from pydrive.auth import GoogleAuth\n",
        "from pydrive.drive import GoogleDrive\n",
        "from google.colab import auth\n",
        "from oauth2client.client import GoogleCredentials\n",
        "\n",
        "# Authenticate and create the PyDrive client.\n",
        "# This only needs to be done once in a notebook.\n",
        "auth.authenticate_user()\n",
        "gauth = GoogleAuth()\n",
        "gauth.credentials = GoogleCredentials.get_application_default()\n",
        "drive = GoogleDrive(gauth)"
      ],
      "execution_count": 0,
      "outputs": []
    },
    {
      "cell_type": "code",
      "metadata": {
        "id": "D2XWTQUlXd7d",
        "colab_type": "code",
        "outputId": "a9217cb2-3629-4194-8a57-041e16707976",
        "colab": {
          "base_uri": "https://localhost:8080/",
          "height": 85
        }
      },
      "source": [
        "listed = drive.ListFile({'q': \"title contains '.tsv'\"}).GetList()\n",
        "for file in listed:\n",
        "  print('title {}, id {}'.format(file['title'], file['id']))"
      ],
      "execution_count": 0,
      "outputs": [
        {
          "output_type": "stream",
          "text": [
            "title multilingual.tsv, id 1G9L_GIt7NKKwsukgrSm-ZwdGReFZg9-v\n",
            "title multilingual.tsv, id 1OishOd0Ma2tfSVP3RlLicUlq8rQLQFt2\n",
            "title multilingual.tsv, id 1Tv4W0dlYEzVoPRWJeGrwCUtuE-1Q3R1K\n",
            "title amazon_reviews_multilingual_DE_v1_00.tsv, id 1dEO1ofXilgv_mMUwH6bC5F2HFnGuExaO\n"
          ],
          "name": "stdout"
        }
      ]
    },
    {
      "cell_type": "code",
      "metadata": {
        "colab_type": "code",
        "outputId": "e998f3cc-6486-43fb-fac3-38d8961a92ca",
        "id": "Vpjsi4DefNex",
        "colab": {
          "base_uri": "https://localhost:8080/",
          "height": 34
        }
      },
      "source": [
        "#DOWNLOADING title amazon_reviews_multilingual_DE_v1_00.tsv TO COLAB\n",
        "import pandas as pd\n",
        "\n",
        "file_id = '1dEO1ofXilgv_mMUwH6bC5F2HFnGuExaO'\n",
        "downloaded = drive.CreateFile({'id': file_id})\n",
        "downloaded.GetContentFile('multilingual.tsv')\n",
        "df = pd.read_csv('multilingual.tsv', sep='\\t', error_bad_lines=False)\n",
        "print('Success!')"
      ],
      "execution_count": 0,
      "outputs": [
        {
          "output_type": "stream",
          "text": [
            "Success!\n"
          ],
          "name": "stdout"
        }
      ]
    },
    {
      "cell_type": "code",
      "metadata": {
        "id": "n2e34Jvkhjny",
        "colab_type": "code",
        "outputId": "3bfcc871-96e8-4b75-b0e7-8d4ae21af6f2",
        "colab": {
          "base_uri": "https://localhost:8080/",
          "height": 102
        }
      },
      "source": [
        "df.keys()\n"
      ],
      "execution_count": 0,
      "outputs": [
        {
          "output_type": "execute_result",
          "data": {
            "text/plain": [
              "Index(['marketplace', 'customer_id', 'review_id', 'product_id',\n",
              "       'product_parent', 'product_title', 'product_category', 'star_rating',\n",
              "       'helpful_votes', 'total_votes', 'vine', 'verified_purchase',\n",
              "       'review_headline', 'review_body', 'review_date'],\n",
              "      dtype='object')"
            ]
          },
          "metadata": {
            "tags": []
          },
          "execution_count": 5
        }
      ]
    },
    {
      "cell_type": "code",
      "metadata": {
        "id": "S0OqRISdi541",
        "colab_type": "code",
        "outputId": "b0cd4f39-144a-4969-a9ba-725a4780e5ff",
        "colab": {
          "base_uri": "https://localhost:8080/",
          "height": 496
        }
      },
      "source": [
        "df.head()"
      ],
      "execution_count": 0,
      "outputs": [
        {
          "output_type": "execute_result",
          "data": {
            "text/html": [
              "<div>\n",
              "<style scoped>\n",
              "    .dataframe tbody tr th:only-of-type {\n",
              "        vertical-align: middle;\n",
              "    }\n",
              "\n",
              "    .dataframe tbody tr th {\n",
              "        vertical-align: top;\n",
              "    }\n",
              "\n",
              "    .dataframe thead th {\n",
              "        text-align: right;\n",
              "    }\n",
              "</style>\n",
              "<table border=\"1\" class=\"dataframe\">\n",
              "  <thead>\n",
              "    <tr style=\"text-align: right;\">\n",
              "      <th></th>\n",
              "      <th>marketplace</th>\n",
              "      <th>customer_id</th>\n",
              "      <th>review_id</th>\n",
              "      <th>product_id</th>\n",
              "      <th>product_parent</th>\n",
              "      <th>product_title</th>\n",
              "      <th>product_category</th>\n",
              "      <th>star_rating</th>\n",
              "      <th>helpful_votes</th>\n",
              "      <th>total_votes</th>\n",
              "      <th>vine</th>\n",
              "      <th>verified_purchase</th>\n",
              "      <th>review_headline</th>\n",
              "      <th>review_body</th>\n",
              "      <th>review_date</th>\n",
              "    </tr>\n",
              "  </thead>\n",
              "  <tbody>\n",
              "    <tr>\n",
              "      <th>0</th>\n",
              "      <td>DE</td>\n",
              "      <td>10133</td>\n",
              "      <td>RVOG49N0H1FB6</td>\n",
              "      <td>B004TACMZ8</td>\n",
              "      <td>569741360</td>\n",
              "      <td>Bosch GMS120 Ortungsgerät digital multi-Scanner</td>\n",
              "      <td>Home Improvement</td>\n",
              "      <td>5</td>\n",
              "      <td>0</td>\n",
              "      <td>0</td>\n",
              "      <td>N</td>\n",
              "      <td>Y</td>\n",
              "      <td>Super</td>\n",
              "      <td>Delivery took a little bit more then i expecte...</td>\n",
              "      <td>2014-08-01</td>\n",
              "    </tr>\n",
              "    <tr>\n",
              "      <th>1</th>\n",
              "      <td>DE</td>\n",
              "      <td>19612</td>\n",
              "      <td>RNCMD6OLTP4HM</td>\n",
              "      <td>1846071224</td>\n",
              "      <td>785505948</td>\n",
              "      <td>The Wheels On The Bus: Favourite Nursery Rhyme...</td>\n",
              "      <td>Books</td>\n",
              "      <td>5</td>\n",
              "      <td>1</td>\n",
              "      <td>1</td>\n",
              "      <td>N</td>\n",
              "      <td>Y</td>\n",
              "      <td>Great compilation</td>\n",
              "      <td>We enjoy listening to the song as preparation ...</td>\n",
              "      <td>2014-12-04</td>\n",
              "    </tr>\n",
              "    <tr>\n",
              "      <th>2</th>\n",
              "      <td>DE</td>\n",
              "      <td>19612</td>\n",
              "      <td>R4AUOBI8YC0R8</td>\n",
              "      <td>0375851569</td>\n",
              "      <td>516548029</td>\n",
              "      <td>Dr. Seuss's  Beginner Book Collection</td>\n",
              "      <td>Books</td>\n",
              "      <td>5</td>\n",
              "      <td>0</td>\n",
              "      <td>0</td>\n",
              "      <td>N</td>\n",
              "      <td>Y</td>\n",
              "      <td>Great Collection</td>\n",
              "      <td>Very great compilation. Interesting story and ...</td>\n",
              "      <td>2014-12-04</td>\n",
              "    </tr>\n",
              "    <tr>\n",
              "      <th>3</th>\n",
              "      <td>DE</td>\n",
              "      <td>19677</td>\n",
              "      <td>R1VSHIJ1RHIBTE</td>\n",
              "      <td>B0060SVG54</td>\n",
              "      <td>302116447</td>\n",
              "      <td>Zwei an einem Tag</td>\n",
              "      <td>Video DVD</td>\n",
              "      <td>5</td>\n",
              "      <td>0</td>\n",
              "      <td>0</td>\n",
              "      <td>N</td>\n",
              "      <td>Y</td>\n",
              "      <td>Guter Verfilmung</td>\n",
              "      <td>Den Film habe ich bereits vor lesen des Buches...</td>\n",
              "      <td>2015-07-16</td>\n",
              "    </tr>\n",
              "    <tr>\n",
              "      <th>4</th>\n",
              "      <td>DE</td>\n",
              "      <td>19999</td>\n",
              "      <td>R3JBLVALWSLCZD</td>\n",
              "      <td>B00EYQ6CVC</td>\n",
              "      <td>368843515</td>\n",
              "      <td>Dr. House - Die komplette Serie, Season 1-8 (L...</td>\n",
              "      <td>Video DVD</td>\n",
              "      <td>5</td>\n",
              "      <td>9</td>\n",
              "      <td>14</td>\n",
              "      <td>N</td>\n",
              "      <td>Y</td>\n",
              "      <td>Kauft diese Box!</td>\n",
              "      <td>Die Box ist super verarbeitet, sieht gut aus b...</td>\n",
              "      <td>2014-02-08</td>\n",
              "    </tr>\n",
              "  </tbody>\n",
              "</table>\n",
              "</div>"
            ],
            "text/plain": [
              "  marketplace  ...  review_date\n",
              "0          DE  ...   2014-08-01\n",
              "1          DE  ...   2014-12-04\n",
              "2          DE  ...   2014-12-04\n",
              "3          DE  ...   2015-07-16\n",
              "4          DE  ...   2014-02-08\n",
              "\n",
              "[5 rows x 15 columns]"
            ]
          },
          "metadata": {
            "tags": []
          },
          "execution_count": 6
        }
      ]
    },
    {
      "cell_type": "code",
      "metadata": {
        "id": "S7xMq3D-OHwu",
        "colab_type": "code",
        "outputId": "7014dea7-e44f-44b8-a28e-e35757cf6b8b",
        "colab": {
          "base_uri": "https://localhost:8080/",
          "height": 102
        }
      },
      "source": [
        "df.columns"
      ],
      "execution_count": 0,
      "outputs": [
        {
          "output_type": "execute_result",
          "data": {
            "text/plain": [
              "Index(['marketplace', 'customer_id', 'review_id', 'product_id',\n",
              "       'product_parent', 'product_title', 'product_category', 'star_rating',\n",
              "       'helpful_votes', 'total_votes', 'vine', 'verified_purchase',\n",
              "       'review_headline', 'review_body', 'review_date'],\n",
              "      dtype='object')"
            ]
          },
          "metadata": {
            "tags": []
          },
          "execution_count": 7
        }
      ]
    },
    {
      "cell_type": "code",
      "metadata": {
        "id": "BRVcePGGoC-5",
        "colab_type": "code",
        "outputId": "abe99e8a-d581-46bb-a4c4-fce15665ac4e",
        "colab": {
          "base_uri": "https://localhost:8080/",
          "height": 34
        }
      },
      "source": [
        "type(df.review_body)\n",
        "#df.at[1,'review_body']"
      ],
      "execution_count": 0,
      "outputs": [
        {
          "output_type": "execute_result",
          "data": {
            "text/plain": [
              "pandas.core.series.Series"
            ]
          },
          "metadata": {
            "tags": []
          },
          "execution_count": 8
        }
      ]
    },
    {
      "cell_type": "code",
      "metadata": {
        "id": "dz-enqC5Lti2",
        "colab_type": "code",
        "outputId": "205a1eee-86a0-40f9-8c9f-e8023a8148d3",
        "colab": {
          "base_uri": "https://localhost:8080/",
          "height": 34
        }
      },
      "source": [
        "df.columns = ['marketplace', 'customer_id', 'review_id', 'product_id','product_parent', 'product_title', 'product_category', 'star_rating','helpful_votes', 'total_votes', 'vine', 'verified_purchase','review_headline', 'review_body', 'review_date']\n",
        "print(\"Success\")"
      ],
      "execution_count": 0,
      "outputs": [
        {
          "output_type": "stream",
          "text": [
            "Success\n"
          ],
          "name": "stdout"
        }
      ]
    },
    {
      "cell_type": "code",
      "metadata": {
        "id": "53nRw3CQOdqN",
        "colab_type": "code",
        "outputId": "55b78d13-ae0e-4485-9dbf-416549ac5865",
        "colab": {
          "base_uri": "https://localhost:8080/",
          "height": 272
        }
      },
      "source": [
        "train1 = pd.DataFrame(pd.concat([df['customer_id'], df['review_id'],df['product_id'],df['product_title'],df['product_category'],df['review_headline'],df['review_body']], axis=1))\n",
        "train1.head()"
      ],
      "execution_count": 0,
      "outputs": [
        {
          "output_type": "execute_result",
          "data": {
            "text/html": [
              "<div>\n",
              "<style scoped>\n",
              "    .dataframe tbody tr th:only-of-type {\n",
              "        vertical-align: middle;\n",
              "    }\n",
              "\n",
              "    .dataframe tbody tr th {\n",
              "        vertical-align: top;\n",
              "    }\n",
              "\n",
              "    .dataframe thead th {\n",
              "        text-align: right;\n",
              "    }\n",
              "</style>\n",
              "<table border=\"1\" class=\"dataframe\">\n",
              "  <thead>\n",
              "    <tr style=\"text-align: right;\">\n",
              "      <th></th>\n",
              "      <th>customer_id</th>\n",
              "      <th>review_id</th>\n",
              "      <th>product_id</th>\n",
              "      <th>product_title</th>\n",
              "      <th>product_category</th>\n",
              "      <th>review_headline</th>\n",
              "      <th>review_body</th>\n",
              "    </tr>\n",
              "  </thead>\n",
              "  <tbody>\n",
              "    <tr>\n",
              "      <th>0</th>\n",
              "      <td>10133</td>\n",
              "      <td>RVOG49N0H1FB6</td>\n",
              "      <td>B004TACMZ8</td>\n",
              "      <td>Bosch GMS120 Ortungsgerät digital multi-Scanner</td>\n",
              "      <td>Home Improvement</td>\n",
              "      <td>Super</td>\n",
              "      <td>Delivery took a little bit more then i expecte...</td>\n",
              "    </tr>\n",
              "    <tr>\n",
              "      <th>1</th>\n",
              "      <td>19612</td>\n",
              "      <td>RNCMD6OLTP4HM</td>\n",
              "      <td>1846071224</td>\n",
              "      <td>The Wheels On The Bus: Favourite Nursery Rhyme...</td>\n",
              "      <td>Books</td>\n",
              "      <td>Great compilation</td>\n",
              "      <td>We enjoy listening to the song as preparation ...</td>\n",
              "    </tr>\n",
              "    <tr>\n",
              "      <th>2</th>\n",
              "      <td>19612</td>\n",
              "      <td>R4AUOBI8YC0R8</td>\n",
              "      <td>0375851569</td>\n",
              "      <td>Dr. Seuss's  Beginner Book Collection</td>\n",
              "      <td>Books</td>\n",
              "      <td>Great Collection</td>\n",
              "      <td>Very great compilation. Interesting story and ...</td>\n",
              "    </tr>\n",
              "    <tr>\n",
              "      <th>3</th>\n",
              "      <td>19677</td>\n",
              "      <td>R1VSHIJ1RHIBTE</td>\n",
              "      <td>B0060SVG54</td>\n",
              "      <td>Zwei an einem Tag</td>\n",
              "      <td>Video DVD</td>\n",
              "      <td>Guter Verfilmung</td>\n",
              "      <td>Den Film habe ich bereits vor lesen des Buches...</td>\n",
              "    </tr>\n",
              "    <tr>\n",
              "      <th>4</th>\n",
              "      <td>19999</td>\n",
              "      <td>R3JBLVALWSLCZD</td>\n",
              "      <td>B00EYQ6CVC</td>\n",
              "      <td>Dr. House - Die komplette Serie, Season 1-8 (L...</td>\n",
              "      <td>Video DVD</td>\n",
              "      <td>Kauft diese Box!</td>\n",
              "      <td>Die Box ist super verarbeitet, sieht gut aus b...</td>\n",
              "    </tr>\n",
              "  </tbody>\n",
              "</table>\n",
              "</div>"
            ],
            "text/plain": [
              "   customer_id  ...                                        review_body\n",
              "0        10133  ...  Delivery took a little bit more then i expecte...\n",
              "1        19612  ...  We enjoy listening to the song as preparation ...\n",
              "2        19612  ...  Very great compilation. Interesting story and ...\n",
              "3        19677  ...  Den Film habe ich bereits vor lesen des Buches...\n",
              "4        19999  ...  Die Box ist super verarbeitet, sieht gut aus b...\n",
              "\n",
              "[5 rows x 7 columns]"
            ]
          },
          "metadata": {
            "tags": []
          },
          "execution_count": 10
        }
      ]
    },
    {
      "cell_type": "code",
      "metadata": {
        "id": "Dnfwv6f364O0",
        "colab_type": "code",
        "outputId": "14ef6bb3-0bbd-4548-9a0c-2f14d9b6e064",
        "colab": {
          "base_uri": "https://localhost:8080/",
          "height": 153
        }
      },
      "source": [
        "train1.dtypes"
      ],
      "execution_count": 0,
      "outputs": [
        {
          "output_type": "execute_result",
          "data": {
            "text/plain": [
              "customer_id          int64\n",
              "review_id           object\n",
              "product_id          object\n",
              "product_title       object\n",
              "product_category    object\n",
              "review_headline     object\n",
              "review_body         object\n",
              "dtype: object"
            ]
          },
          "metadata": {
            "tags": []
          },
          "execution_count": 11
        }
      ]
    },
    {
      "cell_type": "code",
      "metadata": {
        "id": "jVRrt6CkZzau",
        "colab_type": "code",
        "colab": {}
      },
      "source": [
        ""
      ],
      "execution_count": 0,
      "outputs": []
    },
    {
      "cell_type": "code",
      "metadata": {
        "id": "VjtqEG-KPkxf",
        "colab_type": "code",
        "outputId": "61d8c983-5c5a-4f1b-c66a-d01fec67f2cd",
        "colab": {
          "base_uri": "https://localhost:8080/",
          "height": 85
        }
      },
      "source": [
        "import numpy as np\n",
        "import nltk\n",
        "nltk.download('stopwords')\n",
        "nltk.download('punkt')\n",
        "import re  \n",
        "from nltk.corpus import stopwords\n",
        "stops1 = set(stopwords.words(\"english\"))"
      ],
      "execution_count": 0,
      "outputs": [
        {
          "output_type": "stream",
          "text": [
            "[nltk_data] Downloading package stopwords to /root/nltk_data...\n",
            "[nltk_data]   Package stopwords is already up-to-date!\n",
            "[nltk_data] Downloading package punkt to /root/nltk_data...\n",
            "[nltk_data]   Package punkt is already up-to-date!\n"
          ],
          "name": "stdout"
        }
      ]
    },
    {
      "cell_type": "code",
      "metadata": {
        "id": "YVGp7vnmaKZ5",
        "colab_type": "code",
        "colab": {}
      },
      "source": [
        "def clean_sent(sent):\n",
        "    sent = sent.lower()\n",
        "    sent = re.sub(u'[_\"\\-;%()|+&=*%.,!?:#$@\\[\\]/]',' ',sent)\n",
        "    return sent\n",
        "def clean(df):\n",
        "    df['review_body'] = df.review_body.map(lambda x: ' '.join([ word for word in\n",
        "                                                         nltk.word_tokenize(clean_sent(x))]).encode('utf-8'))\n",
        "\n",
        "    df['product_title'] = df.product_title.map(lambda x: ' '.join([ word for word in\n",
        "                                                         nltk.word_tokenize(clean_sent(x))]).encode('utf-8'))\n",
        "def removeStopWords(df, stop):\n",
        "\tdf['review_body'] = df.review_body.map(lambda x: ' '.join([word for word in nltk.word_tokenize(x.decode('utf-8'))\n",
        "                                                         if word not in stop]).encode('utf-8'))\n",
        "\tdf['product_title'] = df.product_title.map(lambda x: ' '.join([word for word in nltk.word_tokenize(x.decode('utf-8'))\n",
        "                                                         if word not in stop]).encode('utf-8'))\n"
      ],
      "execution_count": 0,
      "outputs": []
    },
    {
      "cell_type": "code",
      "metadata": {
        "id": "wryCvNqbbjuq",
        "colab_type": "code",
        "colab": {}
      },
      "source": [
        "#Calling Clean and Stop words on Amazon Product data DF\n",
        "clean(train1)\n",
        "removeStopWords(train1, stops1)"
      ],
      "execution_count": 0,
      "outputs": []
    },
    {
      "cell_type": "code",
      "metadata": {
        "id": "s5Cx-7Q-ivFS",
        "colab_type": "code",
        "outputId": "168e2317-78cb-4e2c-bec7-52c6b5bc9d91",
        "colab": {
          "base_uri": "https://localhost:8080/"
        }
      },
      "source": [
        "#Checking for data after Pre-processing\n",
        "train1.at[1,'review_body']"
      ],
      "execution_count": 0,
      "outputs": [
        {
          "output_type": "execute_result",
          "data": {
            "text/plain": [
              "b'enjoy listening song preparation baby songs quite new even us hope baby enjoy songs much'"
            ]
          },
          "metadata": {
            "tags": []
          },
          "execution_count": 15
        }
      ]
    },
    {
      "cell_type": "code",
      "metadata": {
        "id": "mQ46fi9NmrVu",
        "colab_type": "code",
        "outputId": "844e8ffe-5e8e-486f-a9b1-549d16fcbe0a",
        "colab": {
          "base_uri": "https://localhost:8080/"
        }
      },
      "source": [
        "train1.keys()"
      ],
      "execution_count": 0,
      "outputs": [
        {
          "output_type": "execute_result",
          "data": {
            "text/plain": [
              "Index(['customer_id', 'review_id', 'product_id', 'product_title',\n",
              "       'product_category', 'review_headline', 'review_body'],\n",
              "      dtype='object')"
            ]
          },
          "metadata": {
            "tags": []
          },
          "execution_count": 16
        }
      ]
    },
    {
      "cell_type": "code",
      "metadata": {
        "id": "fZogn8LEcEAD",
        "colab_type": "code",
        "outputId": "e525df02-0b17-4b88-ee9f-bac002539734",
        "colab": {
          "base_uri": "https://localhost:8080/",
          "height": 85
        }
      },
      "source": [
        "#Statistics after Data Preprocessing\n",
        "train1.replace('', np.nan, inplace=True)\n",
        "dirty_data = train1[train1.isnull().any(axis=1)]\n",
        "print ('dirty sample count:', dirty_data.shape[0])\n",
        "print ('positive dirty training sample:', len(dirty_data[dirty_data['product_category'] == 1]))\n",
        "print ('negative dirty training sample:', len(dirty_data[dirty_data['product_category'] == 0]))\n",
        "\n",
        "train1 = train1.dropna()\n",
        "    \n",
        "print ('Train sample count:', train1.shape[0])\n",
        "train1.columns = ['customer_id', 'review_id', 'product_id', 'product_title',\n",
        "       'product_category', 'review_headline', 'review_body']"
      ],
      "execution_count": 0,
      "outputs": [
        {
          "output_type": "stream",
          "text": [
            "dirty sample count: 1\n",
            "positive dirty training sample: 0\n",
            "negative dirty training sample: 0\n",
            "Train sample count: 678992\n"
          ],
          "name": "stdout"
        }
      ]
    }
  ]
}