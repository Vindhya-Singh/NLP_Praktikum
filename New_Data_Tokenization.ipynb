{
  "nbformat": 4,
  "nbformat_minor": 0,
  "metadata": {
    "colab": {
      "name": "Data_Tokenization.ipynb",
      "version": "0.3.2",
      "provenance": [],
      "collapsed_sections": [],
      "toc_visible": true,
      "include_colab_link": true
    },
    "language_info": {
      "codemirror_mode": {
        "name": "ipython",
        "version": 3
      },
      "file_extension": ".py",
      "mimetype": "text/x-python",
      "name": "python",
      "nbconvert_exporter": "python",
      "pygments_lexer": "ipython3",
      "version": "3.7.3"
    },
    "kernelspec": {
      "display_name": "Python 3",
      "language": "python",
      "name": "python3"
    },
    "accelerator": "GPU"
  },
  "cells": [
    {
      "cell_type": "markdown",
      "metadata": {
        "id": "view-in-github",
        "colab_type": "text"
      },
      "source": [
        "<a href=\"https://colab.research.google.com/github/VindhyaSRajan/NLP_Praktikum/blob/master/New_Data_Tokenization.ipynb\" target=\"_parent\"><img src=\"https://colab.research.google.com/assets/colab-badge.svg\" alt=\"Open In Colab\"/></a>"
      ]
    },
    {
      "cell_type": "markdown",
      "metadata": {
        "colab_type": "text",
        "id": "_wUDuuzC3knQ"
      },
      "source": [
        "# This is an attempt to include the LASER multi lingual embedding\n"
      ]
    },
    {
      "cell_type": "code",
      "metadata": {
        "colab_type": "code",
        "id": "mngRKDEg3x2h",
        "outputId": "c5cc9d03-baea-48b9-d86e-3d8e7541ded1",
        "colab": {
          "base_uri": "https://localhost:8080/",
          "height": 102
        }
      },
      "source": [
        "!git clone https://github.com/ceshine/LASER.git"
      ],
      "execution_count": 0,
      "outputs": [
        {
          "output_type": "stream",
          "text": [
            "Cloning into 'LASER'...\n",
            "remote: Enumerating objects: 591, done.\u001b[K\n",
            "remote: Total 591 (delta 0), reused 0 (delta 0), pack-reused 591\u001b[K\n",
            "Receiving objects: 100% (591/591), 2.60 MiB | 1.96 MiB/s, done.\n",
            "Resolving deltas: 100% (185/185), done.\n"
          ],
          "name": "stdout"
        }
      ]
    },
    {
      "cell_type": "code",
      "metadata": {
        "colab_type": "code",
        "id": "1Akm1QeP4lea",
        "outputId": "29767b1a-cb4c-45d8-9f29-068e4ddd2c01",
        "colab": {
          "base_uri": "https://localhost:8080/",
          "height": 51
        }
      },
      "source": [
        "%env LASER=/content/LASER\n",
        "!echo $LASER"
      ],
      "execution_count": 0,
      "outputs": [
        {
          "output_type": "stream",
          "text": [
            "env: LASER=/content/LASER\n",
            "/content/LASER\n"
          ],
          "name": "stdout"
        }
      ]
    },
    {
      "cell_type": "code",
      "metadata": {
        "colab_type": "code",
        "id": "3KxeDCC74lhZ",
        "outputId": "747ceeee-1dfd-4994-d6af-4e9180513be6",
        "colab": {
          "base_uri": "https://localhost:8080/",
          "height": 34
        }
      },
      "source": [
        "%cd LASER"
      ],
      "execution_count": 0,
      "outputs": [
        {
          "output_type": "stream",
          "text": [
            "/content/LASER\n"
          ],
          "name": "stdout"
        }
      ]
    },
    {
      "cell_type": "code",
      "metadata": {
        "colab_type": "code",
        "id": "D7ADRwFZ4lp8",
        "outputId": "9339f2d0-409a-48e4-cae6-b8f8bb613ec3",
        "colab": {
          "base_uri": "https://localhost:8080/",
          "height": 102
        }
      },
      "source": [
        "!bash install_models.sh"
      ],
      "execution_count": 0,
      "outputs": [
        {
          "output_type": "stream",
          "text": [
            "Downloading networks\n",
            " - creating directory /content/LASER/models\n",
            " - bilstm.93langs.2018-12-26.pt\n",
            " - 93langs.fcodes\n",
            " - 93langs.fvocab\n"
          ],
          "name": "stdout"
        }
      ]
    },
    {
      "cell_type": "code",
      "metadata": {
        "colab_type": "code",
        "id": "U5F_sNpe4lkm",
        "outputId": "a2816174-de43-4b28-8715-f197ba0512f7",
        "colab": {
          "base_uri": "https://localhost:8080/",
          "height": 1000
        }
      },
      "source": [
        "!bash install_external_tools.sh"
      ],
      "execution_count": 0,
      "outputs": [
        {
          "output_type": "stream",
          "text": [
            "Installing external tools\n",
            " - creating directory /content/LASER/tools-external/moses-tokenizer/tokenizer\n",
            " - download tokenizer/tokenizer.perl\n",
            " - download tokenizer/detokenizer.perl\n",
            " - download tokenizer/normalize-punctuation.perl\n",
            " - download tokenizer/remove-non-printing-char.perl\n",
            " - download tokenizer/deescape-special-chars.perl\n",
            " - download tokenizer/lowercase.perl\n",
            " - download tokenizer/basic-protected-patterns\n",
            " - creating directory /content/LASER/tools-external/moses-tokenizer/share/nonbreaking_prefixes\n",
            " - download share/nonbreaking_prefixes/nonbreaking_prefix.ca\n",
            " - download share/nonbreaking_prefixes/nonbreaking_prefix.cs\n",
            " - download share/nonbreaking_prefixes/nonbreaking_prefix.de\n",
            " - download share/nonbreaking_prefixes/nonbreaking_prefix.el\n",
            " - download share/nonbreaking_prefixes/nonbreaking_prefix.en\n",
            " - download share/nonbreaking_prefixes/nonbreaking_prefix.es\n",
            " - download share/nonbreaking_prefixes/nonbreaking_prefix.fi\n",
            " - download share/nonbreaking_prefixes/nonbreaking_prefix.fr\n",
            " - download share/nonbreaking_prefixes/nonbreaking_prefix.ga\n",
            " - download share/nonbreaking_prefixes/nonbreaking_prefix.hu\n",
            " - download share/nonbreaking_prefixes/nonbreaking_prefix.is\n",
            " - download share/nonbreaking_prefixes/nonbreaking_prefix.it\n",
            " - download share/nonbreaking_prefixes/nonbreaking_prefix.lt\n",
            " - download share/nonbreaking_prefixes/nonbreaking_prefix.lv\n",
            " - download share/nonbreaking_prefixes/nonbreaking_prefix.nl\n",
            " - download share/nonbreaking_prefixes/nonbreaking_prefix.pl\n",
            " - download share/nonbreaking_prefixes/nonbreaking_prefix.pt\n",
            " - download share/nonbreaking_prefixes/nonbreaking_prefix.ro\n",
            " - download share/nonbreaking_prefixes/nonbreaking_prefix.ru\n",
            " - download share/nonbreaking_prefixes/nonbreaking_prefix.sk\n",
            " - download share/nonbreaking_prefixes/nonbreaking_prefix.sl\n",
            " - download share/nonbreaking_prefixes/nonbreaking_prefix.sv\n",
            " - download share/nonbreaking_prefixes/nonbreaking_prefix.ta\n",
            " - download share/nonbreaking_prefixes/nonbreaking_prefix.yue\n",
            " - download share/nonbreaking_prefixes/nonbreaking_prefix.zh\n",
            " - download fastBPE software from github\n",
            "--2019-07-11 16:57:45--  https://github.com/glample/fastBPE/archive/master.zip\n",
            "Resolving github.com (github.com)... 140.82.114.3\n",
            "Connecting to github.com (github.com)|140.82.114.3|:443... connected.\n",
            "HTTP request sent, awaiting response... 302 Found\n",
            "Location: https://codeload.github.com/glample/fastBPE/zip/master [following]\n",
            "--2019-07-11 16:57:46--  https://codeload.github.com/glample/fastBPE/zip/master\n",
            "Resolving codeload.github.com (codeload.github.com)... 140.82.113.10\n",
            "Connecting to codeload.github.com (codeload.github.com)|140.82.113.10|:443... connected.\n",
            "HTTP request sent, awaiting response... 200 OK\n",
            "Length: unspecified [application/zip]\n",
            "Saving to: ‘master.zip’\n",
            "\n",
            "master.zip              [ <=>                ]   8.88K  46.7KB/s    in 0.2s    \n",
            "\n",
            "2019-07-11 16:57:47 (46.7 KB/s) - ‘master.zip’ saved [9093]\n",
            "\n",
            "Archive:  master.zip\n",
            "874634b2676d091ced2aa5a2f5917c7106735fa8\n",
            "   creating: fastBPE-master/\n",
            "  inflating: fastBPE-master/LICENSE  \n",
            "  inflating: fastBPE-master/README.md  \n",
            "   creating: fastBPE-master/fastBPE/\n",
            "  inflating: fastBPE-master/fastBPE/fastBPE.hpp  \n",
            "  inflating: fastBPE-master/fastBPE/fastBPE.pyx  \n",
            "  inflating: fastBPE-master/fastBPE/main.cc  \n",
            "  inflating: fastBPE-master/setup.py  \n",
            " - compiling\n",
            "Warning: passing language='c++' to cythonize() is deprecated. Instead, put \"# distutils: language=c++\" in your .pyx or .pxd file(s)\n",
            "Compiling fastBPE/fastBPE.pyx because it changed.\n",
            "[1/1] Cythonizing fastBPE/fastBPE.pyx\n",
            "/usr/local/lib/python3.6/dist-packages/Cython/Compiler/Main.py:367: FutureWarning: Cython directive 'language_level' not set, using 2 for now (Py2). This will change in a later release! File: /content/LASER/tools-external/fastBPE/fastBPE/fastBPE.pyx\n",
            "  tree = Parsing.p_module(s, pxd, full_module_name)\n",
            "running install\n",
            "running bdist_egg\n",
            "running egg_info\n",
            "creating fastBPE.egg-info\n",
            "writing fastBPE.egg-info/PKG-INFO\n",
            "writing dependency_links to fastBPE.egg-info/dependency_links.txt\n",
            "writing requirements to fastBPE.egg-info/requires.txt\n",
            "writing top-level names to fastBPE.egg-info/top_level.txt\n",
            "writing manifest file 'fastBPE.egg-info/SOURCES.txt'\n",
            "package init file 'fastBPE/__init__.py' not found (or not a regular file)\n",
            "reading manifest file 'fastBPE.egg-info/SOURCES.txt'\n",
            "writing manifest file 'fastBPE.egg-info/SOURCES.txt'\n",
            "installing library code to build/bdist.linux-x86_64/egg\n",
            "running install_lib\n",
            "running build_py\n",
            "running build_ext\n",
            "building 'fastBPE' extension\n",
            "creating build\n",
            "creating build/temp.linux-x86_64-3.6\n",
            "creating build/temp.linux-x86_64-3.6/fastBPE\n",
            "x86_64-linux-gnu-gcc -pthread -DNDEBUG -g -fwrapv -O2 -Wall -g -fstack-protector-strong -Wformat -Werror=format-security -Wdate-time -D_FORTIFY_SOURCE=2 -fPIC -IfastBPE -I/usr/include/python3.6m -c fastBPE/fastBPE.cpp -o build/temp.linux-x86_64-3.6/fastBPE/fastBPE.o -std=c++11 -Ofast -pthread\n",
            "creating build/lib.linux-x86_64-3.6\n",
            "x86_64-linux-gnu-g++ -pthread -shared -Wl,-O1 -Wl,-Bsymbolic-functions -Wl,-Bsymbolic-functions -Wl,-z,relro -Wl,-Bsymbolic-functions -Wl,-z,relro -g -fstack-protector-strong -Wformat -Werror=format-security -Wdate-time -D_FORTIFY_SOURCE=2 build/temp.linux-x86_64-3.6/fastBPE/fastBPE.o -o build/lib.linux-x86_64-3.6/fastBPE.cpython-36m-x86_64-linux-gnu.so\n",
            "creating build/bdist.linux-x86_64\n",
            "creating build/bdist.linux-x86_64/egg\n",
            "copying build/lib.linux-x86_64-3.6/fastBPE.cpython-36m-x86_64-linux-gnu.so -> build/bdist.linux-x86_64/egg\n",
            "creating stub loader for fastBPE.cpython-36m-x86_64-linux-gnu.so\n",
            "byte-compiling build/bdist.linux-x86_64/egg/fastBPE.py to fastBPE.cpython-36.pyc\n",
            "creating build/bdist.linux-x86_64/egg/EGG-INFO\n",
            "copying fastBPE.egg-info/PKG-INFO -> build/bdist.linux-x86_64/egg/EGG-INFO\n",
            "copying fastBPE.egg-info/SOURCES.txt -> build/bdist.linux-x86_64/egg/EGG-INFO\n",
            "copying fastBPE.egg-info/dependency_links.txt -> build/bdist.linux-x86_64/egg/EGG-INFO\n",
            "copying fastBPE.egg-info/requires.txt -> build/bdist.linux-x86_64/egg/EGG-INFO\n",
            "copying fastBPE.egg-info/top_level.txt -> build/bdist.linux-x86_64/egg/EGG-INFO\n",
            "writing build/bdist.linux-x86_64/egg/EGG-INFO/native_libs.txt\n",
            "zip_safe flag not set; analyzing archive contents...\n",
            "__pycache__.fastBPE.cpython-36: module references __file__\n",
            "creating dist\n",
            "creating 'dist/fastBPE-0.0.0-py3.6-linux-x86_64.egg' and adding 'build/bdist.linux-x86_64/egg' to it\n",
            "removing 'build/bdist.linux-x86_64/egg' (and everything under it)\n",
            "Processing fastBPE-0.0.0-py3.6-linux-x86_64.egg\n",
            "creating /usr/local/lib/python3.6/dist-packages/fastBPE-0.0.0-py3.6-linux-x86_64.egg\n",
            "Extracting fastBPE-0.0.0-py3.6-linux-x86_64.egg to /usr/local/lib/python3.6/dist-packages\n",
            "Adding fastBPE 0.0.0 to easy-install.pth file\n",
            "\n",
            "Installed /usr/local/lib/python3.6/dist-packages/fastBPE-0.0.0-py3.6-linux-x86_64.egg\n",
            "Processing dependencies for fastBPE==0.0.0\n",
            "Searching for Cython==0.29.10\n",
            "Best match: Cython 0.29.10\n",
            "Adding Cython 0.29.10 to easy-install.pth file\n",
            "Installing cygdb script to /usr/local/bin\n",
            "Installing cython script to /usr/local/bin\n",
            "Installing cythonize script to /usr/local/bin\n",
            "\n",
            "Using /usr/local/lib/python3.6/dist-packages\n",
            "Finished processing dependencies for fastBPE==0.0.0\n",
            "\n",
            "automatic installation of the Japanese tokenizer mecab may be tricky\n",
            "Please install it manually from https://github.com/taku910/mecab\n",
            "\n",
            "The installation directory should be /content/LASER/tools-external/mecab\n",
            "\n"
          ],
          "name": "stdout"
        }
      ]
    },
    {
      "cell_type": "code",
      "metadata": {
        "colab_type": "code",
        "id": "Wq9RVwqi8pyM",
        "outputId": "73e187d2-77cd-4c24-b0ec-0a8130d54db4",
        "colab": {
          "base_uri": "https://localhost:8080/",
          "height": 34
        }
      },
      "source": [
        "%cd tools-external/fastBPE/\n",
        "! g++ -std=c++11 -pthread -O3 fastBPE/main.cc -IfastBPE -o fast"
      ],
      "execution_count": 0,
      "outputs": [
        {
          "output_type": "stream",
          "text": [
            "/content/LASER/tools-external/fastBPE\n"
          ],
          "name": "stdout"
        }
      ]
    },
    {
      "cell_type": "code",
      "metadata": {
        "id": "xahYxLS667yF",
        "colab_type": "code",
        "colab": {}
      },
      "source": [
        "import fastBPE"
      ],
      "execution_count": 0,
      "outputs": []
    },
    {
      "cell_type": "code",
      "metadata": {
        "colab_type": "code",
        "id": "KpraUBs38jZO",
        "outputId": "9baf4ae3-1149-44e3-b6fe-cf605c0a6371",
        "colab": {
          "base_uri": "https://localhost:8080/",
          "height": 51
        }
      },
      "source": [
        "%cd ../../tasks/similarity/\n",
        "! ls"
      ],
      "execution_count": 0,
      "outputs": [
        {
          "output_type": "stream",
          "text": [
            "/content/LASER/tasks/similarity\n",
            "README.md  wmt.sh\n"
          ],
          "name": "stdout"
        }
      ]
    },
    {
      "cell_type": "code",
      "metadata": {
        "colab_type": "code",
        "id": "uVjP99krE02v",
        "outputId": "d26a421d-30b6-4285-af83-3d09aa0e0af5",
        "colab": {
          "base_uri": "https://localhost:8080/",
          "height": 493
        }
      },
      "source": [
        "! apt install libopenblas-base libomp-dev"
      ],
      "execution_count": 0,
      "outputs": [
        {
          "output_type": "stream",
          "text": [
            "Reading package lists... Done\n",
            "Building dependency tree       \n",
            "Reading state information... Done\n",
            "libopenblas-base is already the newest version (0.2.20+ds-4).\n",
            "libopenblas-base set to manually installed.\n",
            "The following package was automatically installed and is no longer required:\n",
            "  libnvidia-common-410\n",
            "Use 'apt autoremove' to remove it.\n",
            "Suggested packages:\n",
            "  libomp-doc\n",
            "The following NEW packages will be installed:\n",
            "  libomp-dev libomp5\n",
            "0 upgraded, 2 newly installed, 0 to remove and 4 not upgraded.\n",
            "Need to get 239 kB of archives.\n",
            "After this operation, 804 kB of additional disk space will be used.\n",
            "Get:1 http://archive.ubuntu.com/ubuntu bionic/universe amd64 libomp5 amd64 5.0.1-1 [234 kB]\n",
            "Get:2 http://archive.ubuntu.com/ubuntu bionic/universe amd64 libomp-dev amd64 5.0.1-1 [5,088 B]\n",
            "Fetched 239 kB in 2s (111 kB/s)\n",
            "Selecting previously unselected package libomp5:amd64.\n",
            "(Reading database ... 130963 files and directories currently installed.)\n",
            "Preparing to unpack .../libomp5_5.0.1-1_amd64.deb ...\n",
            "Unpacking libomp5:amd64 (5.0.1-1) ...\n",
            "Selecting previously unselected package libomp-dev.\n",
            "Preparing to unpack .../libomp-dev_5.0.1-1_amd64.deb ...\n",
            "Unpacking libomp-dev (5.0.1-1) ...\n",
            "Setting up libomp5:amd64 (5.0.1-1) ...\n",
            "Processing triggers for libc-bin (2.27-3ubuntu1) ...\n",
            "Setting up libomp-dev (5.0.1-1) ...\n"
          ],
          "name": "stdout"
        }
      ]
    },
    {
      "cell_type": "code",
      "metadata": {
        "colab_type": "code",
        "id": "zdgEtRK5AN9g",
        "outputId": "f67d072f-fd2f-41bc-d6bf-4664ec504a24",
        "colab": {
          "base_uri": "https://localhost:8080/",
          "height": 139
        }
      },
      "source": [
        "! pip install faiss"
      ],
      "execution_count": 0,
      "outputs": [
        {
          "output_type": "stream",
          "text": [
            "Collecting faiss\n",
            "\u001b[?25l  Downloading https://files.pythonhosted.org/packages/bd/1c/4ae6cb87cf0c09c25561ea48db11e25713b25c580909902a92c090b377c0/faiss-1.5.3-cp36-cp36m-manylinux1_x86_64.whl (4.7MB)\n",
            "\u001b[K     |████████████████████████████████| 4.7MB 2.7MB/s \n",
            "\u001b[?25hRequirement already satisfied: numpy in /usr/local/lib/python3.6/dist-packages (from faiss) (1.16.4)\n",
            "Installing collected packages: faiss\n",
            "Successfully installed faiss-1.5.3\n"
          ],
          "name": "stdout"
        }
      ]
    },
    {
      "cell_type": "code",
      "metadata": {
        "colab_type": "code",
        "id": "lBPIo9wj9GSg",
        "outputId": "d136b7da-86f6-42c9-c030-91e46345e16e",
        "colab": {
          "base_uri": "https://localhost:8080/",
          "height": 816
        }
      },
      "source": [
        " % cd ./tasks/similarity\n",
        "! bash wmt.sh"
      ],
      "execution_count": 0,
      "outputs": [
        {
          "output_type": "stream",
          "text": [
            "[Errno 2] No such file or directory: './tasks/similarity'\n",
            "/content/LASER/tasks/similarity\n",
            " - Download WMT data\n",
            "LASER: similarity search\n",
            "\n",
            "Processing:\n",
            " - loading encoder /content/LASER/models/bilstm.93langs.2018-12-26.pt\n",
            " - transfer encoder to GPU\n",
            " - creating directory embed\n",
            " - Tokenizer: newstest2012.cs in language cs  \n",
            " - fast BPE: processing newstest2012.tok.cs\n",
            " - Encoder: newstest2012.bpe.cs to newstest2012.enc.cs\n",
            " - Encoder: 3003 sentences in 5s\n",
            " - embedding: ./embed/newstest2012.enc.cs 3003 examples of dim 1024\n",
            " - creating FAISS index\n",
            " - Tokenizer: newstest2012.de in language de  \n",
            " - fast BPE: processing newstest2012.tok.de\n",
            " - Encoder: newstest2012.bpe.de to newstest2012.enc.de\n",
            " - Encoder: 3003 sentences in 4s\n",
            " - embedding: ./embed/newstest2012.enc.de 3003 examples of dim 1024\n",
            " - creating FAISS index\n",
            " - Tokenizer: newstest2012.en in language en  \n",
            " - fast BPE: processing newstest2012.tok.en\n",
            " - Encoder: newstest2012.bpe.en to newstest2012.enc.en\n",
            " - Encoder: 3003 sentences in 4s\n",
            " - embedding: ./embed/newstest2012.enc.en 3003 examples of dim 1024\n",
            " - creating FAISS index\n",
            " - Tokenizer: newstest2012.es in language es  \n",
            " - fast BPE: processing newstest2012.tok.es\n",
            " - Encoder: newstest2012.bpe.es to newstest2012.enc.es\n",
            " - Encoder: 3003 sentences in 4s\n",
            " - embedding: ./embed/newstest2012.enc.es 3003 examples of dim 1024\n",
            " - creating FAISS index\n",
            " - Tokenizer: newstest2012.fr in language fr  \n",
            " - fast BPE: processing newstest2012.tok.fr\n",
            " - Encoder: newstest2012.bpe.fr to newstest2012.enc.fr\n",
            " - Encoder: 3003 sentences in 4s\n",
            " - embedding: ./embed/newstest2012.enc.fr 3003 examples of dim 1024\n",
            " - creating FAISS index\n",
            "Confusion matrix:\n",
            "langs   cs       de       en       es       fr       avg     \n",
            "cs     0.00%    0.70%    0.90%    0.67%    0.77%    0.76%\n",
            "de     0.83%    0.00%    1.17%    0.93%    1.03%    0.99%\n",
            "en     0.93%    1.27%    0.00%    0.83%    1.07%    1.02%\n",
            "es     0.53%    0.77%    0.97%    0.00%    0.57%    0.71%\n",
            "fr     0.50%    0.90%    1.13%    0.60%    0.00%    0.78%\n",
            "avg    0.70%    0.91%    1.04%    0.76%    0.86%    0.85%\n"
          ],
          "name": "stdout"
        }
      ]
    },
    {
      "cell_type": "code",
      "metadata": {
        "colab_type": "code",
        "id": "9sS0FP2kG-cd",
        "colab": {}
      },
      "source": [
        "import os\n",
        "import sys\n",
        "LASER = os.environ['LASER']\n",
        "# now include the extra files in the source\n",
        "sys.path.append(LASER + '/source')\n",
        "sys.path.append(LASER + '/source/lib')"
      ],
      "execution_count": 0,
      "outputs": []
    },
    {
      "cell_type": "code",
      "metadata": {
        "colab_type": "code",
        "id": "39VFH-l3G-l4",
        "colab": {}
      },
      "source": [
        "from embed import SentenceEncoder, EncodeLoad, EncodeFile\n",
        "from text_processing import Token, BPEfastApply\n",
        "from indexing import IndexCreate, IndexSearchMultiple, IndexPrintConfusionMatrix"
      ],
      "execution_count": 0,
      "outputs": []
    },
    {
      "cell_type": "code",
      "metadata": {
        "colab_type": "code",
        "id": "c3ZY3F5ZbCwJ",
        "colab": {}
      },
      "source": [
        "MODEL_PATH = '/content/LASER/models/'\n",
        "sentence_encoder = SentenceEncoder(\n",
        "    str(MODEL_PATH + \"bilstm.93langs.2018-12-26.pt\"),\n",
        "    max_sentences=None,\n",
        "    max_tokens=10000,\n",
        "    cpu=False)"
      ],
      "execution_count": 0,
      "outputs": []
    },
    {
      "cell_type": "markdown",
      "metadata": {
        "id": "YSq0IMO78Rnk",
        "colab_type": "text"
      },
      "source": [
        "# Copy and paste the code by clicking on the generated link and press Enter"
      ]
    },
    {
      "cell_type": "code",
      "metadata": {
        "id": "k30PCfcugynk",
        "colab_type": "code",
        "outputId": "b4ec90ac-af9e-4809-b70e-f8b42a14a91a",
        "colab": {
          "base_uri": "https://localhost:8080/",
          "height": 122
        }
      },
      "source": [
        "from google.colab import drive\n",
        "drive.mount(\"/content/gdrive\", force_remount=True)"
      ],
      "execution_count": 1,
      "outputs": [
        {
          "output_type": "stream",
          "text": [
            "Go to this URL in a browser: https://accounts.google.com/o/oauth2/auth?client_id=947318989803-6bn6qk8qdgf4n4g3pfee6491hc0brc4i.apps.googleusercontent.com&redirect_uri=urn%3Aietf%3Awg%3Aoauth%3A2.0%3Aoob&scope=email%20https%3A%2F%2Fwww.googleapis.com%2Fauth%2Fdocs.test%20https%3A%2F%2Fwww.googleapis.com%2Fauth%2Fdrive%20https%3A%2F%2Fwww.googleapis.com%2Fauth%2Fdrive.photos.readonly%20https%3A%2F%2Fwww.googleapis.com%2Fauth%2Fpeopleapi.readonly&response_type=code\n",
            "\n",
            "Enter your authorization code:\n",
            "··········\n",
            "Mounted at /content/gdrive\n"
          ],
          "name": "stdout"
        }
      ]
    },
    {
      "cell_type": "markdown",
      "metadata": {
        "id": "IowSOIlt3gt9",
        "colab_type": "text"
      },
      "source": [
        "# Change the file name below"
      ]
    },
    {
      "cell_type": "code",
      "metadata": {
        "colab_type": "code",
        "id": "MzVaHR7VcQlH",
        "colab": {}
      },
      "source": [
        "# Replace filename at the end\n",
        "import pandas as pd\n",
        "input_data = pd.read_pickle('/content/gdrive/My Drive/d_training_final.pkl')"
      ],
      "execution_count": 0,
      "outputs": []
    },
    {
      "cell_type": "code",
      "metadata": {
        "colab_type": "code",
        "id": "sJ9OuN6fnEjE",
        "outputId": "8719e839-371c-4422-a0fd-19ee83d939ab",
        "colab": {
          "base_uri": "https://localhost:8080/",
          "height": 34
        }
      },
      "source": [
        "input_data.columns"
      ],
      "execution_count": 4,
      "outputs": [
        {
          "output_type": "execute_result",
          "data": {
            "text/plain": [
              "Index(['sentence_embedding', 'labels_encoded'], dtype='object')"
            ]
          },
          "metadata": {
            "tags": []
          },
          "execution_count": 4
        }
      ]
    },
    {
      "cell_type": "code",
      "metadata": {
        "colab_type": "code",
        "id": "ImQg2ouIupGA",
        "outputId": "fd56c94e-dec0-486d-a6d4-44988caf482d",
        "colab": {
          "base_uri": "https://localhost:8080/",
          "height": 204
        }
      },
      "source": [
        "input_data.head()"
      ],
      "execution_count": 5,
      "outputs": [
        {
          "output_type": "execute_result",
          "data": {
            "text/html": [
              "<div>\n",
              "<style scoped>\n",
              "    .dataframe tbody tr th:only-of-type {\n",
              "        vertical-align: middle;\n",
              "    }\n",
              "\n",
              "    .dataframe tbody tr th {\n",
              "        vertical-align: top;\n",
              "    }\n",
              "\n",
              "    .dataframe thead th {\n",
              "        text-align: right;\n",
              "    }\n",
              "</style>\n",
              "<table border=\"1\" class=\"dataframe\">\n",
              "  <thead>\n",
              "    <tr style=\"text-align: right;\">\n",
              "      <th></th>\n",
              "      <th>sentence_embedding</th>\n",
              "      <th>labels_encoded</th>\n",
              "    </tr>\n",
              "  </thead>\n",
              "  <tbody>\n",
              "    <tr>\n",
              "      <th>0</th>\n",
              "      <td>[[0.017418101, 0.003224724, 0.00979801, 0.0071...</td>\n",
              "      <td>20</td>\n",
              "    </tr>\n",
              "    <tr>\n",
              "      <th>1</th>\n",
              "      <td>[[0.0093318345, -3.4339969e-06, 0.005169349, 0...</td>\n",
              "      <td>17</td>\n",
              "    </tr>\n",
              "    <tr>\n",
              "      <th>2</th>\n",
              "      <td>[[0.018201692, -7.0058045e-06, 0.0027392416, 0...</td>\n",
              "      <td>16</td>\n",
              "    </tr>\n",
              "    <tr>\n",
              "      <th>3</th>\n",
              "      <td>[[0.015383401, -2.7567687e-06, -0.0008938909, ...</td>\n",
              "      <td>15</td>\n",
              "    </tr>\n",
              "    <tr>\n",
              "      <th>4</th>\n",
              "      <td>[[0.0031439448, -4.9704126e-05, 0.06903063, 0....</td>\n",
              "      <td>20</td>\n",
              "    </tr>\n",
              "  </tbody>\n",
              "</table>\n",
              "</div>"
            ],
            "text/plain": [
              "                                  sentence_embedding  labels_encoded\n",
              "0  [[0.017418101, 0.003224724, 0.00979801, 0.0071...              20\n",
              "1  [[0.0093318345, -3.4339969e-06, 0.005169349, 0...              17\n",
              "2  [[0.018201692, -7.0058045e-06, 0.0027392416, 0...              16\n",
              "3  [[0.015383401, -2.7567687e-06, -0.0008938909, ...              15\n",
              "4  [[0.0031439448, -4.9704126e-05, 0.06903063, 0....              20"
            ]
          },
          "metadata": {
            "tags": []
          },
          "execution_count": 5
        }
      ]
    },
    {
      "cell_type": "code",
      "metadata": {
        "colab_type": "code",
        "id": "cfzKSTw5vMvP",
        "outputId": "2175a1d7-4676-45ce-f521-9caac98fe198",
        "colab": {
          "base_uri": "https://localhost:8080/",
          "height": 170
        }
      },
      "source": [
        "input_data.labels_encoded.describe()"
      ],
      "execution_count": 7,
      "outputs": [
        {
          "output_type": "execute_result",
          "data": {
            "text/plain": [
              "count    193940.000000\n",
              "mean         11.278545\n",
              "std           6.575187\n",
              "min           0.000000\n",
              "25%           6.000000\n",
              "50%          12.000000\n",
              "75%          17.000000\n",
              "max          22.000000\n",
              "Name: labels_encoded, dtype: float64"
            ]
          },
          "metadata": {
            "tags": []
          },
          "execution_count": 7
        }
      ]
    },
    {
      "cell_type": "code",
      "metadata": {
        "colab_type": "code",
        "id": "HbUHtUzLl-T1",
        "outputId": "e3f38d6e-0ff3-4049-db2f-cefc72d45031",
        "colab": {
          "base_uri": "https://localhost:8080/",
          "height": 204
        }
      },
      "source": [
        "input_data = input_data.rename(columns={'Product_Category':'label'})\n",
        "input_data.head()"
      ],
      "execution_count": 0,
      "outputs": [
        {
          "output_type": "execute_result",
          "data": {
            "text/html": [
              "<div>\n",
              "<style scoped>\n",
              "    .dataframe tbody tr th:only-of-type {\n",
              "        vertical-align: middle;\n",
              "    }\n",
              "\n",
              "    .dataframe tbody tr th {\n",
              "        vertical-align: top;\n",
              "    }\n",
              "\n",
              "    .dataframe thead th {\n",
              "        text-align: right;\n",
              "    }\n",
              "</style>\n",
              "<table border=\"1\" class=\"dataframe\">\n",
              "  <thead>\n",
              "    <tr style=\"text-align: right;\">\n",
              "      <th></th>\n",
              "      <th>reviewText</th>\n",
              "      <th>label</th>\n",
              "    </tr>\n",
              "  </thead>\n",
              "  <tbody>\n",
              "    <tr>\n",
              "      <th>0</th>\n",
              "      <td>I like the item pricing. My granddaughter want...</td>\n",
              "      <td>Toys_and_Games</td>\n",
              "    </tr>\n",
              "    <tr>\n",
              "      <th>1</th>\n",
              "      <td>Love the magnet easel... great for moving to d...</td>\n",
              "      <td>Toys_and_Games</td>\n",
              "    </tr>\n",
              "    <tr>\n",
              "      <th>2</th>\n",
              "      <td>Both sides are magnetic.  A real plus when you...</td>\n",
              "      <td>Toys_and_Games</td>\n",
              "    </tr>\n",
              "    <tr>\n",
              "      <th>3</th>\n",
              "      <td>Bought one a few years ago for my daughter and...</td>\n",
              "      <td>Toys_and_Games</td>\n",
              "    </tr>\n",
              "    <tr>\n",
              "      <th>4</th>\n",
              "      <td>I have a stainless steel refrigerator therefor...</td>\n",
              "      <td>Toys_and_Games</td>\n",
              "    </tr>\n",
              "  </tbody>\n",
              "</table>\n",
              "</div>"
            ],
            "text/plain": [
              "                                          reviewText           label\n",
              "0  I like the item pricing. My granddaughter want...  Toys_and_Games\n",
              "1  Love the magnet easel... great for moving to d...  Toys_and_Games\n",
              "2  Both sides are magnetic.  A real plus when you...  Toys_and_Games\n",
              "3  Bought one a few years ago for my daughter and...  Toys_and_Games\n",
              "4  I have a stainless steel refrigerator therefor...  Toys_and_Games"
            ]
          },
          "metadata": {
            "tags": []
          },
          "execution_count": 7
        }
      ]
    },
    {
      "cell_type": "code",
      "metadata": {
        "colab_type": "code",
        "id": "Cm6KWbuh95tX",
        "colab": {}
      },
      "source": [
        "LASER = os.environ['LASER']\n",
        "FASTBPE = LASER + '/tools-external/fastBPE/fast'\n",
        "MOSES_BDIR = LASER + '/tools-external/moses-tokenizer/tokenizer/'\n",
        "MOSES_TOKENIZER = MOSES_BDIR + 'tokenizer.perl -q -no-escape -threads 20 -l '\n",
        "MOSES_LC = MOSES_BDIR + 'lowercase.perl'\n",
        "NORM_PUNC = MOSES_BDIR + 'normalize-punctuation.perl -l '\n",
        "DESCAPE = MOSES_BDIR + 'deescape-special-chars.perl'\n",
        "REM_NON_PRINT_CHAR = MOSES_BDIR + 'remove-non-printing-char.perl'\n",
        "MECAB = LASER + '/tools-external/mecab'"
      ],
      "execution_count": 0,
      "outputs": []
    },
    {
      "cell_type": "code",
      "metadata": {
        "colab_type": "code",
        "id": "h9sXKsW1M9Xt",
        "colab": {}
      },
      "source": [
        "from subprocess import check_output\n",
        "def sample_token(string_val, lang='en'):  #remember to check for which language are you tokenising\n",
        "    tok = check_output(\n",
        "                REM_NON_PRINT_CHAR\n",
        "                + '|' + NORM_PUNC + lang\n",
        "                + '|' + DESCAPE\n",
        "                + '|' + MOSES_TOKENIZER + lang\n",
        "                + ('| python3 -m jieba -d ' if lang == 'zh' else '')\n",
        "                + ('|' + MECAB + '/bin/mecab -O wakati -b 50000 ' if lang == 'ja' else ''),\n",
        "                input=string_val,\n",
        "                encoding='UTF-8',\n",
        "                shell=True)\n",
        "    return tok.strip()"
      ],
      "execution_count": 0,
      "outputs": []
    },
    {
      "cell_type": "code",
      "metadata": {
        "colab_type": "code",
        "id": "faPNpMFclPpq",
        "colab": {}
      },
      "source": [
        "index = input_data.reviewText.isnull()==True\n",
        "samp = index[index==True]\n",
        "input_data = input_data.drop(samp.index)"
      ],
      "execution_count": 0,
      "outputs": []
    },
    {
      "cell_type": "code",
      "metadata": {
        "colab_type": "code",
        "id": "KID-p2ZpvZP9",
        "outputId": "1b36814c-f0aa-4afd-abbc-9fe430150c73",
        "colab": {
          "base_uri": "https://localhost:8080/",
          "height": 34
        }
      },
      "source": [
        "input_data.reviewText.isnull().sum() #Value should be always zero"
      ],
      "execution_count": 0,
      "outputs": [
        {
          "output_type": "execute_result",
          "data": {
            "text/plain": [
              "0"
            ]
          },
          "metadata": {
            "tags": []
          },
          "execution_count": 27
        }
      ]
    },
    {
      "cell_type": "code",
      "metadata": {
        "colab_type": "code",
        "id": "zmGwWzJZNkwZ",
        "colab": {}
      },
      "source": [
        "input_data['tokenized_review'] = input_data.reviewText.apply(sample_token)"
      ],
      "execution_count": 0,
      "outputs": []
    },
    {
      "cell_type": "code",
      "metadata": {
        "id": "jyGL40Qeizzi",
        "colab_type": "code",
        "outputId": "55dc84f9-c90b-4638-c4b7-2f72841b38eb",
        "colab": {
          "base_uri": "https://localhost:8080/",
          "height": 204
        }
      },
      "source": [
        "input_data.head()"
      ],
      "execution_count": 0,
      "outputs": [
        {
          "output_type": "execute_result",
          "data": {
            "text/html": [
              "<div>\n",
              "<style scoped>\n",
              "    .dataframe tbody tr th:only-of-type {\n",
              "        vertical-align: middle;\n",
              "    }\n",
              "\n",
              "    .dataframe tbody tr th {\n",
              "        vertical-align: top;\n",
              "    }\n",
              "\n",
              "    .dataframe thead th {\n",
              "        text-align: right;\n",
              "    }\n",
              "</style>\n",
              "<table border=\"1\" class=\"dataframe\">\n",
              "  <thead>\n",
              "    <tr style=\"text-align: right;\">\n",
              "      <th></th>\n",
              "      <th>reviewText</th>\n",
              "      <th>label</th>\n",
              "      <th>tokenized_review</th>\n",
              "    </tr>\n",
              "  </thead>\n",
              "  <tbody>\n",
              "    <tr>\n",
              "      <th>0</th>\n",
              "      <td>I like the item pricing. My granddaughter want...</td>\n",
              "      <td>Toys_and_Games</td>\n",
              "      <td>I like the item pricing . My granddaughter wan...</td>\n",
              "    </tr>\n",
              "    <tr>\n",
              "      <th>1</th>\n",
              "      <td>Love the magnet easel... great for moving to d...</td>\n",
              "      <td>Toys_and_Games</td>\n",
              "      <td>Love the magnet easel ... great for moving to ...</td>\n",
              "    </tr>\n",
              "    <tr>\n",
              "      <th>2</th>\n",
              "      <td>Both sides are magnetic.  A real plus when you...</td>\n",
              "      <td>Toys_and_Games</td>\n",
              "      <td>Both sides are magnetic . A real plus when you...</td>\n",
              "    </tr>\n",
              "    <tr>\n",
              "      <th>3</th>\n",
              "      <td>Bought one a few years ago for my daughter and...</td>\n",
              "      <td>Toys_and_Games</td>\n",
              "      <td>Bought one a few years ago for my daughter and...</td>\n",
              "    </tr>\n",
              "    <tr>\n",
              "      <th>4</th>\n",
              "      <td>I have a stainless steel refrigerator therefor...</td>\n",
              "      <td>Toys_and_Games</td>\n",
              "      <td>I have a stainless steel refrigerator therefor...</td>\n",
              "    </tr>\n",
              "  </tbody>\n",
              "</table>\n",
              "</div>"
            ],
            "text/plain": [
              "                                          reviewText  ...                                   tokenized_review\n",
              "0  I like the item pricing. My granddaughter want...  ...  I like the item pricing . My granddaughter wan...\n",
              "1  Love the magnet easel... great for moving to d...  ...  Love the magnet easel ... great for moving to ...\n",
              "2  Both sides are magnetic.  A real plus when you...  ...  Both sides are magnetic . A real plus when you...\n",
              "3  Bought one a few years ago for my daughter and...  ...  Bought one a few years ago for my daughter and...\n",
              "4  I have a stainless steel refrigerator therefor...  ...  I have a stainless steel refrigerator therefor...\n",
              "\n",
              "[5 rows x 3 columns]"
            ]
          },
          "metadata": {
            "tags": []
          },
          "execution_count": 30
        }
      ]
    },
    {
      "cell_type": "code",
      "metadata": {
        "id": "dedfJcdEC5St",
        "colab_type": "code",
        "colab": {}
      },
      "source": [
        "#Reshuffling the labels\n",
        "input_data = input_data.sample(frac=1).reset_index(drop=True)\n",
        "\n",
        "input_data.head(50)\n",
        "#sorted(random_df.label.unique())"
      ],
      "execution_count": 0,
      "outputs": []
    },
    {
      "cell_type": "code",
      "metadata": {
        "colab_type": "code",
        "id": "sPBpVwpGROPc",
        "colab": {}
      },
      "source": [
        "bpe_codes = './LASER/models/93langs.fcodes'\n",
        "bpe_vocab = bpe_codes.replace('fcodes', 'fvocab')\n",
        "\n",
        "\n",
        "def apply_bpe(sentence):\n",
        "  sentence = sentence.replace('\\\\',\"\")\n",
        "  sentence = sentence.replace('\"','\\\\\"')\n",
        "  bpe = check_output(\n",
        "      'echo -n \"'+sentence +'\" | '+ FASTBPE + ' applybpe_stream '+  bpe_codes +' '+bpe_vocab,\n",
        "      encoding='UTF-8',\n",
        "      shell=True)\n",
        "  return bpe.strip()"
      ],
      "execution_count": 0,
      "outputs": []
    },
    {
      "cell_type": "code",
      "metadata": {
        "id": "jpoGbyTWUy5t",
        "colab_type": "code",
        "outputId": "940d2c03-aa03-4289-f8ad-7f196884e832",
        "colab": {
          "base_uri": "https://localhost:8080/",
          "height": 34
        }
      },
      "source": [
        "%pwd"
      ],
      "execution_count": 0,
      "outputs": [
        {
          "output_type": "execute_result",
          "data": {
            "text/plain": [
              "'/content/LASER/tasks/similarity'"
            ]
          },
          "metadata": {
            "tags": []
          },
          "execution_count": 38
        }
      ]
    },
    {
      "cell_type": "code",
      "metadata": {
        "colab_type": "code",
        "id": "sEgQx2HgZml4",
        "outputId": "ce764b2f-25c1-4b78-862c-e878b20ecd09",
        "colab": {
          "base_uri": "https://localhost:8080/",
          "height": 71
        }
      },
      "source": [
        "%cd /content\n",
        "tok_sentence = '\"love the magnet easel ... \" slow motion me \"great for moving to different areas ... wish it had some sort of non skid pad on bottom though ...'\n",
        "apply_bpe(tok_sentence)"
      ],
      "execution_count": 0,
      "outputs": [
        {
          "output_type": "stream",
          "text": [
            "/content\n"
          ],
          "name": "stdout"
        },
        {
          "output_type": "execute_result",
          "data": {
            "text/plain": [
              "'\"@@ love the magn@@ et ea@@ sel ... \" slo@@ w motion me \"@@ great for mo@@ ving to different areas ... wish it had some sort of non sk@@ id pad on bot@@ tom though ...'"
            ]
          },
          "metadata": {
            "tags": []
          },
          "execution_count": 39
        }
      ]
    },
    {
      "cell_type": "code",
      "metadata": {
        "id": "Oq41BnItrj-7",
        "colab_type": "code",
        "outputId": "c0a6072e-a2f5-46c5-8d12-8778e83d9bed",
        "colab": {
          "base_uri": "https://localhost:8080/",
          "height": 204
        }
      },
      "source": [
        "input_data.head()"
      ],
      "execution_count": 0,
      "outputs": [
        {
          "output_type": "execute_result",
          "data": {
            "text/html": [
              "<div>\n",
              "<style scoped>\n",
              "    .dataframe tbody tr th:only-of-type {\n",
              "        vertical-align: middle;\n",
              "    }\n",
              "\n",
              "    .dataframe tbody tr th {\n",
              "        vertical-align: top;\n",
              "    }\n",
              "\n",
              "    .dataframe thead th {\n",
              "        text-align: right;\n",
              "    }\n",
              "</style>\n",
              "<table border=\"1\" class=\"dataframe\">\n",
              "  <thead>\n",
              "    <tr style=\"text-align: right;\">\n",
              "      <th></th>\n",
              "      <th>reviewText</th>\n",
              "      <th>label</th>\n",
              "      <th>tokenized_review</th>\n",
              "    </tr>\n",
              "  </thead>\n",
              "  <tbody>\n",
              "    <tr>\n",
              "      <th>0</th>\n",
              "      <td>Really shouldn't have Han Solo on the cover as...</td>\n",
              "      <td>Kindle</td>\n",
              "      <td>Really shouldn 't have Han Solo on the cover a...</td>\n",
              "    </tr>\n",
              "    <tr>\n",
              "      <th>1</th>\n",
              "      <td>It keeps inside of closets. It is very easy to...</td>\n",
              "      <td>Pet Supplies</td>\n",
              "      <td>It keeps inside of closets . It is very easy t...</td>\n",
              "    </tr>\n",
              "    <tr>\n",
              "      <th>2</th>\n",
              "      <td>This is a great product to accent your pizza a...</td>\n",
              "      <td>Grocery and Gourmet</td>\n",
              "      <td>This is a great product to accent your pizza a...</td>\n",
              "    </tr>\n",
              "    <tr>\n",
              "      <th>3</th>\n",
              "      <td>I love that it has two ports for my phone and ...</td>\n",
              "      <td>Cell Phones and Accessories</td>\n",
              "      <td>I love that it has two ports for my phone and ...</td>\n",
              "    </tr>\n",
              "    <tr>\n",
              "      <th>4</th>\n",
              "      <td>I thought keeping a simple handwritten journal...</td>\n",
              "      <td>Baby</td>\n",
              "      <td>I thought keeping a simple handwritten journal...</td>\n",
              "    </tr>\n",
              "  </tbody>\n",
              "</table>\n",
              "</div>"
            ],
            "text/plain": [
              "                                          reviewText  ...                                   tokenized_review\n",
              "0  Really shouldn't have Han Solo on the cover as...  ...  Really shouldn 't have Han Solo on the cover a...\n",
              "1  It keeps inside of closets. It is very easy to...  ...  It keeps inside of closets . It is very easy t...\n",
              "2  This is a great product to accent your pizza a...  ...  This is a great product to accent your pizza a...\n",
              "3  I love that it has two ports for my phone and ...  ...  I love that it has two ports for my phone and ...\n",
              "4  I thought keeping a simple handwritten journal...  ...  I thought keeping a simple handwritten journal...\n",
              "\n",
              "[5 rows x 3 columns]"
            ]
          },
          "metadata": {
            "tags": []
          },
          "execution_count": 40
        }
      ]
    },
    {
      "cell_type": "code",
      "metadata": {
        "colab_type": "code",
        "id": "qHVv21bCcIXf",
        "colab": {}
      },
      "source": [
        "input_data['tokenized_review_bpe'] = input_data.tokenized_review.apply(apply_bpe)"
      ],
      "execution_count": 0,
      "outputs": []
    },
    {
      "cell_type": "markdown",
      "metadata": {
        "id": "337IN5j-5PHL",
        "colab_type": "text"
      },
      "source": [
        "# Change the file name below"
      ]
    },
    {
      "cell_type": "code",
      "metadata": {
        "id": "x7kkK-LZaR4o",
        "colab_type": "code",
        "outputId": "0dd40b91-7c6a-48f2-d10c-ed476350dc87",
        "colab": {
          "base_uri": "https://localhost:8080/",
          "height": 204
        }
      },
      "source": [
        "input_data.head()"
      ],
      "execution_count": 0,
      "outputs": [
        {
          "output_type": "execute_result",
          "data": {
            "text/html": [
              "<div>\n",
              "<style scoped>\n",
              "    .dataframe tbody tr th:only-of-type {\n",
              "        vertical-align: middle;\n",
              "    }\n",
              "\n",
              "    .dataframe tbody tr th {\n",
              "        vertical-align: top;\n",
              "    }\n",
              "\n",
              "    .dataframe thead th {\n",
              "        text-align: right;\n",
              "    }\n",
              "</style>\n",
              "<table border=\"1\" class=\"dataframe\">\n",
              "  <thead>\n",
              "    <tr style=\"text-align: right;\">\n",
              "      <th></th>\n",
              "      <th>reviewText</th>\n",
              "      <th>label</th>\n",
              "      <th>tokenized_review</th>\n",
              "      <th>tokenized_review_bpe</th>\n",
              "    </tr>\n",
              "  </thead>\n",
              "  <tbody>\n",
              "    <tr>\n",
              "      <th>0</th>\n",
              "      <td>Really shouldn't have Han Solo on the cover as...</td>\n",
              "      <td>Kindle</td>\n",
              "      <td>Really shouldn 't have Han Solo on the cover a...</td>\n",
              "      <td>R@@ e@@ ally sh@@ ouldn 't have H@@ an S@@ olo...</td>\n",
              "    </tr>\n",
              "    <tr>\n",
              "      <th>1</th>\n",
              "      <td>It keeps inside of closets. It is very easy to...</td>\n",
              "      <td>Pet Supplies</td>\n",
              "      <td>It keeps inside of closets . It is very easy t...</td>\n",
              "      <td>I@@ t ke@@ ep@@ s in@@ side of clo@@ sets . I@...</td>\n",
              "    </tr>\n",
              "    <tr>\n",
              "      <th>2</th>\n",
              "      <td>This is a great product to accent your pizza a...</td>\n",
              "      <td>Grocery and Gourmet</td>\n",
              "      <td>This is a great product to accent your pizza a...</td>\n",
              "      <td>T@@ his is a great product to ac@@ cent your p...</td>\n",
              "    </tr>\n",
              "    <tr>\n",
              "      <th>3</th>\n",
              "      <td>I love that it has two ports for my phone and ...</td>\n",
              "      <td>Cell Phones and Accessories</td>\n",
              "      <td>I love that it has two ports for my phone and ...</td>\n",
              "      <td>I love that it has two ports for my phone and ...</td>\n",
              "    </tr>\n",
              "    <tr>\n",
              "      <th>4</th>\n",
              "      <td>I thought keeping a simple handwritten journal...</td>\n",
              "      <td>Baby</td>\n",
              "      <td>I thought keeping a simple handwritten journal...</td>\n",
              "      <td>I thought ke@@ eping a simple hand@@ written j...</td>\n",
              "    </tr>\n",
              "  </tbody>\n",
              "</table>\n",
              "</div>"
            ],
            "text/plain": [
              "                                          reviewText  ...                               tokenized_review_bpe\n",
              "0  Really shouldn't have Han Solo on the cover as...  ...  R@@ e@@ ally sh@@ ouldn 't have H@@ an S@@ olo...\n",
              "1  It keeps inside of closets. It is very easy to...  ...  I@@ t ke@@ ep@@ s in@@ side of clo@@ sets . I@...\n",
              "2  This is a great product to accent your pizza a...  ...  T@@ his is a great product to ac@@ cent your p...\n",
              "3  I love that it has two ports for my phone and ...  ...  I love that it has two ports for my phone and ...\n",
              "4  I thought keeping a simple handwritten journal...  ...  I thought ke@@ eping a simple hand@@ written j...\n",
              "\n",
              "[5 rows x 4 columns]"
            ]
          },
          "metadata": {
            "tags": []
          },
          "execution_count": 42
        }
      ]
    },
    {
      "cell_type": "code",
      "metadata": {
        "colab_type": "code",
        "id": "zg4kEhpSJ8Re",
        "colab": {}
      },
      "source": [
        "# Because of the nature in which LASER tends to perform encoding we have to do this extra tweek\n",
        "def to_list(element):\n",
        "  return [element]"
      ],
      "execution_count": 0,
      "outputs": []
    },
    {
      "cell_type": "code",
      "metadata": {
        "id": "Na5RuYhIalcL",
        "colab_type": "code",
        "colab": {}
      },
      "source": [
        "input_data['tokenized_review_bpe_list'] = input_data.tokenized_review_bpe.apply(to_list)"
      ],
      "execution_count": 0,
      "outputs": []
    },
    {
      "cell_type": "code",
      "metadata": {
        "id": "IKRXB7Gfalpu",
        "colab_type": "code",
        "outputId": "162e3df2-1010-458c-ee61-74643a09b0c4",
        "colab": {
          "base_uri": "https://localhost:8080/",
          "height": 187
        }
      },
      "source": [
        "from pandas import Series\n",
        "\n",
        "def progress_coroutine(print_on = 10):\n",
        "    print (\"Starting progress monitor\")\n",
        "\n",
        "    iterations = 0\n",
        "    while True:\n",
        "        yield\n",
        "        iterations += 1\n",
        "        if (iterations % print_on == 0):\n",
        "            print (\"{} iterations done\".format(iterations))\n",
        "\n",
        "def percentage_coroutine(to_process, print_on_percent = 0.10):\n",
        "    print (\"Starting progress percentage monitor\")\n",
        "\n",
        "    processed = 0\n",
        "    count = 0\n",
        "    print_count = to_process*print_on_percent\n",
        "    while True:\n",
        "        yield\n",
        "        processed += 1\n",
        "        count += 1\n",
        "        if (count >= print_count):\n",
        "            count = 0\n",
        "            pct = (float(processed)/float(to_process))*100\n",
        "\n",
        "            print (\"{}% finished\".format(pct))\n",
        "\n",
        "def trace_progress(func, progress = None):\n",
        "    def callf(*args, **kwargs):\n",
        "        if (progress is not None):\n",
        "            progress.send(None)\n",
        "\n",
        "        return func(*args, **kwargs)\n",
        "\n",
        "    return callf\n",
        "\n",
        "def my_func(i):\n",
        "    return i ** 2\n",
        "\n",
        "data_series = input_data.tokenized_review_bpe_list\n",
        "co1 = progress_coroutine()\n",
        "co2 = percentage_coroutine(len(data_series))\n",
        "input_data['sentence_embedding'] = data_series.apply(trace_progress(sentence_encoder.encode_sentences, progress = co2))"
      ],
      "execution_count": 0,
      "outputs": [
        {
          "output_type": "stream",
          "text": [
            "Starting progress percentage monitor\n",
            "10.004349717268378% finished\n",
            "20.008699434536755% finished\n",
            "30.01304915180513% finished\n",
            "40.01739886907351% finished\n",
            "50.021748586341886% finished\n",
            "60.02609830361026% finished\n",
            "70.03044802087864% finished\n",
            "80.03479773814702% finished\n",
            "90.0391474554154% finished\n"
          ],
          "name": "stdout"
        }
      ]
    },
    {
      "cell_type": "code",
      "metadata": {
        "id": "rQWX4Ks5al0M",
        "colab_type": "code",
        "outputId": "305a5e12-98c6-45d0-b06c-fb16f0b52dee",
        "colab": {
          "base_uri": "https://localhost:8080/",
          "height": 34
        }
      },
      "source": [
        "# The value should be True\n",
        "len(input_data.sentence_embedding.iloc[0]) == 1"
      ],
      "execution_count": 0,
      "outputs": [
        {
          "output_type": "execute_result",
          "data": {
            "text/plain": [
              "True"
            ]
          },
          "metadata": {
            "tags": []
          },
          "execution_count": 46
        }
      ]
    },
    {
      "cell_type": "code",
      "metadata": {
        "id": "IFz3zdFKflU8",
        "colab_type": "code",
        "outputId": "0327abde-f883-4ebe-9653-de6a01ae0c50",
        "colab": {
          "base_uri": "https://localhost:8080/",
          "height": 289
        }
      },
      "source": [
        "input_data.head()"
      ],
      "execution_count": 0,
      "outputs": [
        {
          "output_type": "execute_result",
          "data": {
            "text/html": [
              "<div>\n",
              "<style scoped>\n",
              "    .dataframe tbody tr th:only-of-type {\n",
              "        vertical-align: middle;\n",
              "    }\n",
              "\n",
              "    .dataframe tbody tr th {\n",
              "        vertical-align: top;\n",
              "    }\n",
              "\n",
              "    .dataframe thead th {\n",
              "        text-align: right;\n",
              "    }\n",
              "</style>\n",
              "<table border=\"1\" class=\"dataframe\">\n",
              "  <thead>\n",
              "    <tr style=\"text-align: right;\">\n",
              "      <th></th>\n",
              "      <th>reviewText</th>\n",
              "      <th>label</th>\n",
              "      <th>tokenized_review</th>\n",
              "      <th>tokenized_review_bpe</th>\n",
              "      <th>tokenized_review_bpe_list</th>\n",
              "      <th>sentence_embedding</th>\n",
              "    </tr>\n",
              "  </thead>\n",
              "  <tbody>\n",
              "    <tr>\n",
              "      <th>0</th>\n",
              "      <td>Really shouldn't have Han Solo on the cover as...</td>\n",
              "      <td>Kindle</td>\n",
              "      <td>Really shouldn 't have Han Solo on the cover a...</td>\n",
              "      <td>R@@ e@@ ally sh@@ ouldn 't have H@@ an S@@ olo...</td>\n",
              "      <td>[R@@ e@@ ally sh@@ ouldn 't have H@@ an S@@ ol...</td>\n",
              "      <td>[[0.017125236, -8.193978e-06, 0.014851634, 0.0...</td>\n",
              "    </tr>\n",
              "    <tr>\n",
              "      <th>1</th>\n",
              "      <td>It keeps inside of closets. It is very easy to...</td>\n",
              "      <td>Pet Supplies</td>\n",
              "      <td>It keeps inside of closets . It is very easy t...</td>\n",
              "      <td>I@@ t ke@@ ep@@ s in@@ side of clo@@ sets . I@...</td>\n",
              "      <td>[I@@ t ke@@ ep@@ s in@@ side of clo@@ sets . I...</td>\n",
              "      <td>[[0.009511529, -1.7490187e-05, 0.007552198, 0....</td>\n",
              "    </tr>\n",
              "    <tr>\n",
              "      <th>2</th>\n",
              "      <td>This is a great product to accent your pizza a...</td>\n",
              "      <td>Grocery and Gourmet</td>\n",
              "      <td>This is a great product to accent your pizza a...</td>\n",
              "      <td>T@@ his is a great product to ac@@ cent your p...</td>\n",
              "      <td>[T@@ his is a great product to ac@@ cent your ...</td>\n",
              "      <td>[[0.012629631, -5.835801e-06, -0.0014306013, 0...</td>\n",
              "    </tr>\n",
              "    <tr>\n",
              "      <th>3</th>\n",
              "      <td>I love that it has two ports for my phone and ...</td>\n",
              "      <td>Cell Phones and Accessories</td>\n",
              "      <td>I love that it has two ports for my phone and ...</td>\n",
              "      <td>I love that it has two ports for my phone and ...</td>\n",
              "      <td>[I love that it has two ports for my phone and...</td>\n",
              "      <td>[[0.017519651, -5.7807556e-06, 0.0052580405, 0...</td>\n",
              "    </tr>\n",
              "    <tr>\n",
              "      <th>4</th>\n",
              "      <td>I thought keeping a simple handwritten journal...</td>\n",
              "      <td>Baby</td>\n",
              "      <td>I thought keeping a simple handwritten journal...</td>\n",
              "      <td>I thought ke@@ eping a simple hand@@ written j...</td>\n",
              "      <td>[I thought ke@@ eping a simple hand@@ written ...</td>\n",
              "      <td>[[0.013076796, 0.0029879434, 0.0018654555, 0.0...</td>\n",
              "    </tr>\n",
              "  </tbody>\n",
              "</table>\n",
              "</div>"
            ],
            "text/plain": [
              "                                          reviewText  ...                                 sentence_embedding\n",
              "0  Really shouldn't have Han Solo on the cover as...  ...  [[0.017125236, -8.193978e-06, 0.014851634, 0.0...\n",
              "1  It keeps inside of closets. It is very easy to...  ...  [[0.009511529, -1.7490187e-05, 0.007552198, 0....\n",
              "2  This is a great product to accent your pizza a...  ...  [[0.012629631, -5.835801e-06, -0.0014306013, 0...\n",
              "3  I love that it has two ports for my phone and ...  ...  [[0.017519651, -5.7807556e-06, 0.0052580405, 0...\n",
              "4  I thought keeping a simple handwritten journal...  ...  [[0.013076796, 0.0029879434, 0.0018654555, 0.0...\n",
              "\n",
              "[5 rows x 6 columns]"
            ]
          },
          "metadata": {
            "tags": []
          },
          "execution_count": 47
        }
      ]
    },
    {
      "cell_type": "code",
      "metadata": {
        "id": "9h-poQh2gAqN",
        "colab_type": "code",
        "colab": {}
      },
      "source": [
        "from sklearn.preprocessing import LabelEncoder"
      ],
      "execution_count": 0,
      "outputs": []
    },
    {
      "cell_type": "code",
      "metadata": {
        "id": "eqBXdAvDgHOb",
        "colab_type": "code",
        "colab": {}
      },
      "source": [
        "def get_lebel_from_code(code):\n",
        "  if code not in encoding_to_labels.keys():\n",
        "    raise KeyError(\"Invalid Code\")\n",
        "  return encoding_to_labels[code]\n",
        "\n",
        "def get_all_labels():\n",
        "  return list(encoding_to_labels.values())\n"
      ],
      "execution_count": 0,
      "outputs": []
    },
    {
      "cell_type": "code",
      "metadata": {
        "id": "YBZ4PSQLgIqS",
        "colab_type": "code",
        "colab": {}
      },
      "source": [
        "\"\"\"\n",
        "  Let's encode the values in here so that we can use them as label encoder later\n",
        "\"\"\"\n",
        "# import labelencoder\n",
        "# instantiate labelencoder object\n",
        "le = LabelEncoder()\n",
        "\n",
        "input_data['labels_encoded'] = le.fit_transform(input_data['label'])"
      ],
      "execution_count": 0,
      "outputs": []
    },
    {
      "cell_type": "code",
      "metadata": {
        "id": "HV0b3C2KtWf4",
        "colab_type": "code",
        "colab": {}
      },
      "source": [
        "input_data['labels_encoded']=input_data.labels_encoded + 23 #Done for one shot df concatenation. Avoid running this cell for any other task"
      ],
      "execution_count": 0,
      "outputs": []
    },
    {
      "cell_type": "code",
      "metadata": {
        "id": "v6Zh4v9SgYkU",
        "colab_type": "code",
        "outputId": "1b3f07bc-05ed-42f6-bc85-b582f7f7f97d",
        "colab": {
          "base_uri": "https://localhost:8080/",
          "height": 453
        }
      },
      "source": [
        "input_data.head(7)"
      ],
      "execution_count": 0,
      "outputs": [
        {
          "output_type": "execute_result",
          "data": {
            "text/html": [
              "<div>\n",
              "<style scoped>\n",
              "    .dataframe tbody tr th:only-of-type {\n",
              "        vertical-align: middle;\n",
              "    }\n",
              "\n",
              "    .dataframe tbody tr th {\n",
              "        vertical-align: top;\n",
              "    }\n",
              "\n",
              "    .dataframe thead th {\n",
              "        text-align: right;\n",
              "    }\n",
              "</style>\n",
              "<table border=\"1\" class=\"dataframe\">\n",
              "  <thead>\n",
              "    <tr style=\"text-align: right;\">\n",
              "      <th></th>\n",
              "      <th>label</th>\n",
              "      <th>review_body</th>\n",
              "      <th>tokenized_review</th>\n",
              "      <th>tokenized_review_bpe</th>\n",
              "      <th>tokenized_review_bpe_list</th>\n",
              "      <th>sentence_embedding</th>\n",
              "      <th>labels_encoded</th>\n",
              "    </tr>\n",
              "  </thead>\n",
              "  <tbody>\n",
              "    <tr>\n",
              "      <th>0</th>\n",
              "      <td>Camera</td>\n",
              "      <td>Sehr gute Fotoqualität mit dieser Linse  der A...</td>\n",
              "      <td>Sehr gute Fotoqualität mit dieser Linse der Ad...</td>\n",
              "      <td>S@@ eh@@ r gute F@@ oto@@ qualität mit dieser ...</td>\n",
              "      <td>[S@@ eh@@ r gute F@@ oto@@ qualität mit dieser...</td>\n",
              "      <td>[[0.010873658, 0.00056933204, 0.0012553579, 0....</td>\n",
              "      <td>23</td>\n",
              "    </tr>\n",
              "    <tr>\n",
              "      <th>1</th>\n",
              "      <td>Home</td>\n",
              "      <td>Die Helligkeit der LEDs entspricht den Angaben...</td>\n",
              "      <td>Die Helligkeit der LEDs entspricht den Angaben...</td>\n",
              "      <td>D@@ ie H@@ el@@ lig@@ keit der L@@ E@@ D@@ s e...</td>\n",
              "      <td>[D@@ ie H@@ el@@ lig@@ keit der L@@ E@@ D@@ s ...</td>\n",
              "      <td>[[0.021158801, -7.3974647e-06, 0.006525718, 0....</td>\n",
              "      <td>24</td>\n",
              "    </tr>\n",
              "    <tr>\n",
              "      <th>2</th>\n",
              "      <td>Music</td>\n",
              "      <td>ARTPOP ist echt ein super Album  Lady Gaga hat...</td>\n",
              "      <td>ARTPOP ist echt ein super Album Lady Gaga hat ...</td>\n",
              "      <td>A@@ R@@ T@@ P@@ O@@ P ist echt ein super A@@ l...</td>\n",
              "      <td>[A@@ R@@ T@@ P@@ O@@ P ist echt ein super A@@ ...</td>\n",
              "      <td>[[0.015974987, 0.0047645643, 0.022270927, 0.04...</td>\n",
              "      <td>25</td>\n",
              "    </tr>\n",
              "    <tr>\n",
              "      <th>3</th>\n",
              "      <td>PC</td>\n",
              "      <td>Es handelt sich um eine positive Transaktion  ...</td>\n",
              "      <td>Es handelt sich um eine positive Transaktion d...</td>\n",
              "      <td>E@@ s handelt sich um eine positive T@@ ran@@ ...</td>\n",
              "      <td>[E@@ s handelt sich um eine positive T@@ ran@@...</td>\n",
              "      <td>[[0.010150607, 0.0031098844, 0.009219669, 0.02...</td>\n",
              "      <td>26</td>\n",
              "    </tr>\n",
              "    <tr>\n",
              "      <th>4</th>\n",
              "      <td>Personal_Care_Appliances</td>\n",
              "      <td>Aufzeichnen funktioniert ohne Probleme  IOS Ap...</td>\n",
              "      <td>Aufzeichnen funktioniert ohne Probleme IOS App...</td>\n",
              "      <td>A@@ uf@@ zeich@@ nen funktion@@ iert ohne P@@ ...</td>\n",
              "      <td>[A@@ uf@@ zeich@@ nen funktion@@ iert ohne P@@...</td>\n",
              "      <td>[[0.011473727, -3.923003e-05, 0.0009151518, 0....</td>\n",
              "      <td>27</td>\n",
              "    </tr>\n",
              "    <tr>\n",
              "      <th>5</th>\n",
              "      <td>Watches</td>\n",
              "      <td>habe die Uhr jetzt seit  Wochen und bin begeis...</td>\n",
              "      <td>habe die Uhr jetzt seit Wochen und bin begeist...</td>\n",
              "      <td>habe die U@@ hr jetzt seit W@@ o@@ chen und bi...</td>\n",
              "      <td>[habe die U@@ hr jetzt seit W@@ o@@ chen und b...</td>\n",
              "      <td>[[0.009419642, 0.0016664175, -0.0016825718, 0....</td>\n",
              "      <td>28</td>\n",
              "    </tr>\n",
              "    <tr>\n",
              "      <th>6</th>\n",
              "      <td>Wireless</td>\n",
              "      <td>Wurde für meinen Sohn gekauft  Ist ständig in ...</td>\n",
              "      <td>Wurde für meinen Sohn gekauft Ist ständig in B...</td>\n",
              "      <td>W@@ ur@@ de für meinen S@@ oh@@ n ge@@ kau@@ f...</td>\n",
              "      <td>[W@@ ur@@ de für meinen S@@ oh@@ n ge@@ kau@@ ...</td>\n",
              "      <td>[[0.013822481, -9.5300595e-05, 0.0038704055, 0...</td>\n",
              "      <td>29</td>\n",
              "    </tr>\n",
              "  </tbody>\n",
              "</table>\n",
              "</div>"
            ],
            "text/plain": [
              "                      label  ... labels_encoded\n",
              "0                    Camera  ...             23\n",
              "1                      Home  ...             24\n",
              "2                     Music  ...             25\n",
              "3                        PC  ...             26\n",
              "4  Personal_Care_Appliances  ...             27\n",
              "5                   Watches  ...             28\n",
              "6                  Wireless  ...             29\n",
              "\n",
              "[7 rows x 7 columns]"
            ]
          },
          "metadata": {
            "tags": []
          },
          "execution_count": 51
        }
      ]
    },
    {
      "cell_type": "code",
      "metadata": {
        "id": "Pn4ECZ4EazX7",
        "colab_type": "code",
        "outputId": "a478d889-7dfb-4c0f-e482-ee3c47d2ce8f",
        "colab": {
          "base_uri": "https://localhost:8080/",
          "height": 204
        }
      },
      "source": [
        "# We used this here: https://stackoverflow.com/questions/45846189/how-to-delete-all-columns-in-dataframe-except-certain-ones\n",
        "input_data = input_data[['sentence_embedding','labels_encoded']]\n",
        "input_data.head()"
      ],
      "execution_count": 0,
      "outputs": [
        {
          "output_type": "execute_result",
          "data": {
            "text/html": [
              "<div>\n",
              "<style scoped>\n",
              "    .dataframe tbody tr th:only-of-type {\n",
              "        vertical-align: middle;\n",
              "    }\n",
              "\n",
              "    .dataframe tbody tr th {\n",
              "        vertical-align: top;\n",
              "    }\n",
              "\n",
              "    .dataframe thead th {\n",
              "        text-align: right;\n",
              "    }\n",
              "</style>\n",
              "<table border=\"1\" class=\"dataframe\">\n",
              "  <thead>\n",
              "    <tr style=\"text-align: right;\">\n",
              "      <th></th>\n",
              "      <th>sentence_embedding</th>\n",
              "      <th>labels_encoded</th>\n",
              "    </tr>\n",
              "  </thead>\n",
              "  <tbody>\n",
              "    <tr>\n",
              "      <th>0</th>\n",
              "      <td>[[0.017125236, -8.193978e-06, 0.014851634, 0.0...</td>\n",
              "      <td>13</td>\n",
              "    </tr>\n",
              "    <tr>\n",
              "      <th>1</th>\n",
              "      <td>[[0.009511529, -1.7490187e-05, 0.007552198, 0....</td>\n",
              "      <td>18</td>\n",
              "    </tr>\n",
              "    <tr>\n",
              "      <th>2</th>\n",
              "      <td>[[0.012629631, -5.835801e-06, -0.0014306013, 0...</td>\n",
              "      <td>10</td>\n",
              "    </tr>\n",
              "    <tr>\n",
              "      <th>3</th>\n",
              "      <td>[[0.017519651, -5.7807556e-06, 0.0052580405, 0...</td>\n",
              "      <td>6</td>\n",
              "    </tr>\n",
              "    <tr>\n",
              "      <th>4</th>\n",
              "      <td>[[0.013076796, 0.0029879434, 0.0018654555, 0.0...</td>\n",
              "      <td>3</td>\n",
              "    </tr>\n",
              "  </tbody>\n",
              "</table>\n",
              "</div>"
            ],
            "text/plain": [
              "                                  sentence_embedding  labels_encoded\n",
              "0  [[0.017125236, -8.193978e-06, 0.014851634, 0.0...              13\n",
              "1  [[0.009511529, -1.7490187e-05, 0.007552198, 0....              18\n",
              "2  [[0.012629631, -5.835801e-06, -0.0014306013, 0...              10\n",
              "3  [[0.017519651, -5.7807556e-06, 0.0052580405, 0...               6\n",
              "4  [[0.013076796, 0.0029879434, 0.0018654555, 0.0...               3"
            ]
          },
          "metadata": {
            "tags": []
          },
          "execution_count": 53
        }
      ]
    },
    {
      "cell_type": "code",
      "metadata": {
        "id": "eERAlWMBa2p2",
        "colab_type": "code",
        "colab": {}
      },
      "source": [
        "input_data.to_pickle('/content/gdrive/My Drive/dtrain_2k_oneshot.pkl')"
      ],
      "execution_count": 0,
      "outputs": []
    },
    {
      "cell_type": "code",
      "metadata": {
        "id": "eYuhMMNqa6fk",
        "colab_type": "code",
        "colab": {}
      },
      "source": [
        "# Now hopefuly reading looks good as well\n",
        "import pandas as pd\n",
        "input_new = pd.read_pickle('/content/gdrive/My Drive/dtest_oneshot.pkl')"
      ],
      "execution_count": 0,
      "outputs": []
    },
    {
      "cell_type": "code",
      "metadata": {
        "id": "wvRZK46Qa-WN",
        "colab_type": "code",
        "outputId": "d3ab5d9d-7253-495a-c26b-a818c01c3a6a",
        "colab": {
          "base_uri": "https://localhost:8080/",
          "height": 34
        }
      },
      "source": [
        "sorted(input_new.labels_encoded.unique())"
      ],
      "execution_count": 11,
      "outputs": [
        {
          "output_type": "execute_result",
          "data": {
            "text/plain": [
              "[23, 24, 25, 26, 27, 28, 29]"
            ]
          },
          "metadata": {
            "tags": []
          },
          "execution_count": 11
        }
      ]
    },
    {
      "cell_type": "code",
      "metadata": {
        "id": "OQhe6zW_uBgT",
        "colab_type": "code",
        "outputId": "57941232-4e32-4f09-efb0-bc6ab154d1a6",
        "colab": {
          "base_uri": "https://localhost:8080/",
          "height": 204
        }
      },
      "source": [
        "input_new.head()"
      ],
      "execution_count": 12,
      "outputs": [
        {
          "output_type": "execute_result",
          "data": {
            "text/html": [
              "<div>\n",
              "<style scoped>\n",
              "    .dataframe tbody tr th:only-of-type {\n",
              "        vertical-align: middle;\n",
              "    }\n",
              "\n",
              "    .dataframe tbody tr th {\n",
              "        vertical-align: top;\n",
              "    }\n",
              "\n",
              "    .dataframe thead th {\n",
              "        text-align: right;\n",
              "    }\n",
              "</style>\n",
              "<table border=\"1\" class=\"dataframe\">\n",
              "  <thead>\n",
              "    <tr style=\"text-align: right;\">\n",
              "      <th></th>\n",
              "      <th>sentence_embedding</th>\n",
              "      <th>labels_encoded</th>\n",
              "    </tr>\n",
              "  </thead>\n",
              "  <tbody>\n",
              "    <tr>\n",
              "      <th>0</th>\n",
              "      <td>[[0.010873658, 0.00056933204, 0.0012553579, 0....</td>\n",
              "      <td>23</td>\n",
              "    </tr>\n",
              "    <tr>\n",
              "      <th>1</th>\n",
              "      <td>[[0.021158801, -7.3974647e-06, 0.006525718, 0....</td>\n",
              "      <td>24</td>\n",
              "    </tr>\n",
              "    <tr>\n",
              "      <th>2</th>\n",
              "      <td>[[0.015974987, 0.0047645643, 0.022270927, 0.04...</td>\n",
              "      <td>25</td>\n",
              "    </tr>\n",
              "    <tr>\n",
              "      <th>3</th>\n",
              "      <td>[[0.010150607, 0.0031098844, 0.009219669, 0.02...</td>\n",
              "      <td>26</td>\n",
              "    </tr>\n",
              "    <tr>\n",
              "      <th>4</th>\n",
              "      <td>[[0.011473727, -3.923003e-05, 0.0009151518, 0....</td>\n",
              "      <td>27</td>\n",
              "    </tr>\n",
              "  </tbody>\n",
              "</table>\n",
              "</div>"
            ],
            "text/plain": [
              "                                  sentence_embedding  labels_encoded\n",
              "0  [[0.010873658, 0.00056933204, 0.0012553579, 0....              23\n",
              "1  [[0.021158801, -7.3974647e-06, 0.006525718, 0....              24\n",
              "2  [[0.015974987, 0.0047645643, 0.022270927, 0.04...              25\n",
              "3  [[0.010150607, 0.0031098844, 0.009219669, 0.02...              26\n",
              "4  [[0.011473727, -3.923003e-05, 0.0009151518, 0....              27"
            ]
          },
          "metadata": {
            "tags": []
          },
          "execution_count": 12
        }
      ]
    },
    {
      "cell_type": "code",
      "metadata": {
        "id": "WesgBm6HbBZN",
        "colab_type": "code",
        "outputId": "35f57421-9702-422b-e85d-22013d1ccbfb",
        "colab": {
          "base_uri": "https://localhost:8080/",
          "height": 282
        }
      },
      "source": [
        "(input_new.labels_encoded != input_data.labels_encoded).sum()"
      ],
      "execution_count": 0,
      "outputs": [
        {
          "output_type": "error",
          "ename": "ValueError",
          "evalue": "ignored",
          "traceback": [
            "\u001b[0;31m---------------------------------------------------------------------------\u001b[0m",
            "\u001b[0;31mValueError\u001b[0m                                Traceback (most recent call last)",
            "\u001b[0;32m<ipython-input-57-79fa17ba57b6>\u001b[0m in \u001b[0;36m<module>\u001b[0;34m()\u001b[0m\n\u001b[0;32m----> 1\u001b[0;31m \u001b[0;34m(\u001b[0m\u001b[0minput_new\u001b[0m\u001b[0;34m.\u001b[0m\u001b[0mlabels_encoded\u001b[0m \u001b[0;34m!=\u001b[0m \u001b[0minput_data\u001b[0m\u001b[0;34m.\u001b[0m\u001b[0mlabels_encoded\u001b[0m\u001b[0;34m)\u001b[0m\u001b[0;34m.\u001b[0m\u001b[0msum\u001b[0m\u001b[0;34m(\u001b[0m\u001b[0;34m)\u001b[0m\u001b[0;34m\u001b[0m\u001b[0;34m\u001b[0m\u001b[0m\n\u001b[0m",
            "\u001b[0;32m/usr/local/lib/python3.6/dist-packages/pandas/core/ops.py\u001b[0m in \u001b[0;36mwrapper\u001b[0;34m(self, other, axis)\u001b[0m\n\u001b[1;32m   1674\u001b[0m \u001b[0;34m\u001b[0m\u001b[0m\n\u001b[1;32m   1675\u001b[0m         \u001b[0;32melif\u001b[0m \u001b[0misinstance\u001b[0m\u001b[0;34m(\u001b[0m\u001b[0mother\u001b[0m\u001b[0;34m,\u001b[0m \u001b[0mABCSeries\u001b[0m\u001b[0;34m)\u001b[0m \u001b[0;32mand\u001b[0m \u001b[0;32mnot\u001b[0m \u001b[0mself\u001b[0m\u001b[0;34m.\u001b[0m\u001b[0m_indexed_same\u001b[0m\u001b[0;34m(\u001b[0m\u001b[0mother\u001b[0m\u001b[0;34m)\u001b[0m\u001b[0;34m:\u001b[0m\u001b[0;34m\u001b[0m\u001b[0;34m\u001b[0m\u001b[0m\n\u001b[0;32m-> 1676\u001b[0;31m             raise ValueError(\"Can only compare identically-labeled \"\n\u001b[0m\u001b[1;32m   1677\u001b[0m                              \"Series objects\")\n\u001b[1;32m   1678\u001b[0m \u001b[0;34m\u001b[0m\u001b[0m\n",
            "\u001b[0;31mValueError\u001b[0m: Can only compare identically-labeled Series objects"
          ]
        }
      ]
    },
    {
      "cell_type": "code",
      "metadata": {
        "id": "DgDfh8w6uF3e",
        "colab_type": "code",
        "outputId": "670554b6-4241-4d3a-f5af-e2cda8636849",
        "colab": {
          "base_uri": "https://localhost:8080/",
          "height": 1000
        }
      },
      "source": [
        "oneshot_final = pd.concat([input_new,input_data], ignore_index=True)\n",
        "oneshot_final.head(57)"
      ],
      "execution_count": 14,
      "outputs": [
        {
          "output_type": "execute_result",
          "data": {
            "text/html": [
              "<div>\n",
              "<style scoped>\n",
              "    .dataframe tbody tr th:only-of-type {\n",
              "        vertical-align: middle;\n",
              "    }\n",
              "\n",
              "    .dataframe tbody tr th {\n",
              "        vertical-align: top;\n",
              "    }\n",
              "\n",
              "    .dataframe thead th {\n",
              "        text-align: right;\n",
              "    }\n",
              "</style>\n",
              "<table border=\"1\" class=\"dataframe\">\n",
              "  <thead>\n",
              "    <tr style=\"text-align: right;\">\n",
              "      <th></th>\n",
              "      <th>sentence_embedding</th>\n",
              "      <th>labels_encoded</th>\n",
              "    </tr>\n",
              "  </thead>\n",
              "  <tbody>\n",
              "    <tr>\n",
              "      <th>0</th>\n",
              "      <td>[[0.010873658, 0.00056933204, 0.0012553579, 0....</td>\n",
              "      <td>23</td>\n",
              "    </tr>\n",
              "    <tr>\n",
              "      <th>1</th>\n",
              "      <td>[[0.021158801, -7.3974647e-06, 0.006525718, 0....</td>\n",
              "      <td>24</td>\n",
              "    </tr>\n",
              "    <tr>\n",
              "      <th>2</th>\n",
              "      <td>[[0.015974987, 0.0047645643, 0.022270927, 0.04...</td>\n",
              "      <td>25</td>\n",
              "    </tr>\n",
              "    <tr>\n",
              "      <th>3</th>\n",
              "      <td>[[0.010150607, 0.0031098844, 0.009219669, 0.02...</td>\n",
              "      <td>26</td>\n",
              "    </tr>\n",
              "    <tr>\n",
              "      <th>4</th>\n",
              "      <td>[[0.011473727, -3.923003e-05, 0.0009151518, 0....</td>\n",
              "      <td>27</td>\n",
              "    </tr>\n",
              "    <tr>\n",
              "      <th>5</th>\n",
              "      <td>[[0.009419642, 0.0016664175, -0.0016825718, 0....</td>\n",
              "      <td>28</td>\n",
              "    </tr>\n",
              "    <tr>\n",
              "      <th>6</th>\n",
              "      <td>[[0.013822481, -9.5300595e-05, 0.0038704055, 0...</td>\n",
              "      <td>29</td>\n",
              "    </tr>\n",
              "    <tr>\n",
              "      <th>7</th>\n",
              "      <td>[[0.014273701, -2.654478e-06, 0.011555177, 0.0...</td>\n",
              "      <td>15</td>\n",
              "    </tr>\n",
              "    <tr>\n",
              "      <th>8</th>\n",
              "      <td>[[0.024300303, 0.012155454, 0.00908428, 0.0483...</td>\n",
              "      <td>6</td>\n",
              "    </tr>\n",
              "    <tr>\n",
              "      <th>9</th>\n",
              "      <td>[[0.015452269, 0.009879952, 0.003731233, 0.047...</td>\n",
              "      <td>6</td>\n",
              "    </tr>\n",
              "    <tr>\n",
              "      <th>10</th>\n",
              "      <td>[[0.011728342, -1.7874214e-05, -0.0019276353, ...</td>\n",
              "      <td>13</td>\n",
              "    </tr>\n",
              "    <tr>\n",
              "      <th>11</th>\n",
              "      <td>[[0.016072787, -3.5306418e-06, -0.003643863, 0...</td>\n",
              "      <td>7</td>\n",
              "    </tr>\n",
              "    <tr>\n",
              "      <th>12</th>\n",
              "      <td>[[0.0127860205, -2.6760908e-06, -1.9180232e-05...</td>\n",
              "      <td>10</td>\n",
              "    </tr>\n",
              "    <tr>\n",
              "      <th>13</th>\n",
              "      <td>[[0.0054177083, 0.0010034887, 0.011310469, 0.0...</td>\n",
              "      <td>5</td>\n",
              "    </tr>\n",
              "    <tr>\n",
              "      <th>14</th>\n",
              "      <td>[[0.028962884, 0.006281495, -0.0005602504, 0.0...</td>\n",
              "      <td>3</td>\n",
              "    </tr>\n",
              "    <tr>\n",
              "      <th>15</th>\n",
              "      <td>[[0.019599153, -2.4795088e-05, 0.0065543386, 0...</td>\n",
              "      <td>16</td>\n",
              "    </tr>\n",
              "    <tr>\n",
              "      <th>16</th>\n",
              "      <td>[[0.013432096, -9.846759e-06, 0.0014299382, 0....</td>\n",
              "      <td>14</td>\n",
              "    </tr>\n",
              "    <tr>\n",
              "      <th>17</th>\n",
              "      <td>[[0.013488649, 0.008031089, 0.002879079, 0.074...</td>\n",
              "      <td>19</td>\n",
              "    </tr>\n",
              "    <tr>\n",
              "      <th>18</th>\n",
              "      <td>[[0.019432867, -2.3474054e-06, 0.003900889, 0....</td>\n",
              "      <td>3</td>\n",
              "    </tr>\n",
              "    <tr>\n",
              "      <th>19</th>\n",
              "      <td>[[0.01956873, 0.0026477484, 0.0069227144, 0.02...</td>\n",
              "      <td>6</td>\n",
              "    </tr>\n",
              "    <tr>\n",
              "      <th>20</th>\n",
              "      <td>[[0.013132588, 0.011282308, 0.005055357, 0.013...</td>\n",
              "      <td>17</td>\n",
              "    </tr>\n",
              "    <tr>\n",
              "      <th>21</th>\n",
              "      <td>[[0.015201045, -5.304989e-06, 0.0011937923, 0....</td>\n",
              "      <td>22</td>\n",
              "    </tr>\n",
              "    <tr>\n",
              "      <th>22</th>\n",
              "      <td>[[0.020993954, 0.0013251343, -4.174451e-05, 0....</td>\n",
              "      <td>12</td>\n",
              "    </tr>\n",
              "    <tr>\n",
              "      <th>23</th>\n",
              "      <td>[[0.009428308, 3.3427434e-05, 0.025292085, 0.0...</td>\n",
              "      <td>2</td>\n",
              "    </tr>\n",
              "    <tr>\n",
              "      <th>24</th>\n",
              "      <td>[[0.0132291345, 0.005582868, 0.0006405569, 0.0...</td>\n",
              "      <td>9</td>\n",
              "    </tr>\n",
              "    <tr>\n",
              "      <th>25</th>\n",
              "      <td>[[0.01890898, -1.599345e-05, 0.015295973, 0.03...</td>\n",
              "      <td>14</td>\n",
              "    </tr>\n",
              "    <tr>\n",
              "      <th>26</th>\n",
              "      <td>[[0.018114965, 0.0037530365, 0.015770465, 0.00...</td>\n",
              "      <td>9</td>\n",
              "    </tr>\n",
              "    <tr>\n",
              "      <th>27</th>\n",
              "      <td>[[0.015410025, -2.067577e-05, 0.00086468516, 0...</td>\n",
              "      <td>15</td>\n",
              "    </tr>\n",
              "    <tr>\n",
              "      <th>28</th>\n",
              "      <td>[[0.024339229, -3.0145622e-05, 0.0033669583, 0...</td>\n",
              "      <td>18</td>\n",
              "    </tr>\n",
              "    <tr>\n",
              "      <th>29</th>\n",
              "      <td>[[0.017894905, -1.6079126e-05, 0.0007337279, 0...</td>\n",
              "      <td>1</td>\n",
              "    </tr>\n",
              "    <tr>\n",
              "      <th>30</th>\n",
              "      <td>[[0.02528551, 0.012456693, 0.01392498, 0.05276...</td>\n",
              "      <td>3</td>\n",
              "    </tr>\n",
              "    <tr>\n",
              "      <th>31</th>\n",
              "      <td>[[0.03831667, -8.273418e-06, 0.0071165464, 0.0...</td>\n",
              "      <td>3</td>\n",
              "    </tr>\n",
              "    <tr>\n",
              "      <th>32</th>\n",
              "      <td>[[0.019003477, 0.0015349851, 0.009303989, 0.03...</td>\n",
              "      <td>2</td>\n",
              "    </tr>\n",
              "    <tr>\n",
              "      <th>33</th>\n",
              "      <td>[[0.01262791, -8.377223e-06, 0.0017550879, 0.0...</td>\n",
              "      <td>21</td>\n",
              "    </tr>\n",
              "    <tr>\n",
              "      <th>34</th>\n",
              "      <td>[[0.01441971, -1.1878743e-05, 8.4960826e-05, 0...</td>\n",
              "      <td>11</td>\n",
              "    </tr>\n",
              "    <tr>\n",
              "      <th>35</th>\n",
              "      <td>[[0.030219331, 0.030223949, 0.005116222, 0.052...</td>\n",
              "      <td>14</td>\n",
              "    </tr>\n",
              "    <tr>\n",
              "      <th>36</th>\n",
              "      <td>[[0.017967416, -1.3733823e-05, 0.0047679585, 0...</td>\n",
              "      <td>19</td>\n",
              "    </tr>\n",
              "    <tr>\n",
              "      <th>37</th>\n",
              "      <td>[[0.03476555, 0.0002771172, 0.007829813, 0.048...</td>\n",
              "      <td>18</td>\n",
              "    </tr>\n",
              "    <tr>\n",
              "      <th>38</th>\n",
              "      <td>[[0.012399555, -3.0131798e-06, 0.0007325351, 0...</td>\n",
              "      <td>4</td>\n",
              "    </tr>\n",
              "    <tr>\n",
              "      <th>39</th>\n",
              "      <td>[[0.023599464, -8.1176795e-06, 0.0051160986, 0...</td>\n",
              "      <td>8</td>\n",
              "    </tr>\n",
              "    <tr>\n",
              "      <th>40</th>\n",
              "      <td>[[0.014193313, 0.013291254, 0.0072761355, 0.01...</td>\n",
              "      <td>0</td>\n",
              "    </tr>\n",
              "    <tr>\n",
              "      <th>41</th>\n",
              "      <td>[[0.028013036, 0.011658554, 0.00850673, 0.0304...</td>\n",
              "      <td>0</td>\n",
              "    </tr>\n",
              "    <tr>\n",
              "      <th>42</th>\n",
              "      <td>[[0.018966215, 0.018179236, 0.00998833, 0.0251...</td>\n",
              "      <td>22</td>\n",
              "    </tr>\n",
              "    <tr>\n",
              "      <th>43</th>\n",
              "      <td>[[0.028296858, 0.012327826, 0.009893549, 0.071...</td>\n",
              "      <td>22</td>\n",
              "    </tr>\n",
              "    <tr>\n",
              "      <th>44</th>\n",
              "      <td>[[0.015609335, -3.0126557e-06, -0.0011721937, ...</td>\n",
              "      <td>19</td>\n",
              "    </tr>\n",
              "    <tr>\n",
              "      <th>45</th>\n",
              "      <td>[[0.022148915, 0.008060619, 0.008285354, 0.051...</td>\n",
              "      <td>14</td>\n",
              "    </tr>\n",
              "    <tr>\n",
              "      <th>46</th>\n",
              "      <td>[[0.018720139, 0.0022598377, 0.0055419193, 0.0...</td>\n",
              "      <td>5</td>\n",
              "    </tr>\n",
              "    <tr>\n",
              "      <th>47</th>\n",
              "      <td>[[0.027909668, 0.009245606, 0.0027131604, 0.01...</td>\n",
              "      <td>11</td>\n",
              "    </tr>\n",
              "    <tr>\n",
              "      <th>48</th>\n",
              "      <td>[[0.014911221, 0.0011579057, 0.009727868, 0.02...</td>\n",
              "      <td>11</td>\n",
              "    </tr>\n",
              "    <tr>\n",
              "      <th>49</th>\n",
              "      <td>[[0.016411167, 0.0098326765, 0.017545847, 0.04...</td>\n",
              "      <td>8</td>\n",
              "    </tr>\n",
              "    <tr>\n",
              "      <th>50</th>\n",
              "      <td>[[0.03282609, -6.737364e-06, 0.00016631937, 0....</td>\n",
              "      <td>13</td>\n",
              "    </tr>\n",
              "    <tr>\n",
              "      <th>51</th>\n",
              "      <td>[[0.017344028, 0.0068330294, 0.008047904, 0.04...</td>\n",
              "      <td>21</td>\n",
              "    </tr>\n",
              "    <tr>\n",
              "      <th>52</th>\n",
              "      <td>[[0.013885696, 0.0011259367, 0.00701287, 0.047...</td>\n",
              "      <td>14</td>\n",
              "    </tr>\n",
              "    <tr>\n",
              "      <th>53</th>\n",
              "      <td>[[0.019741999, -1.4354917e-05, 0.0007816084, 0...</td>\n",
              "      <td>9</td>\n",
              "    </tr>\n",
              "    <tr>\n",
              "      <th>54</th>\n",
              "      <td>[[0.017576823, -1.2286363e-05, 0.0005927178, 0...</td>\n",
              "      <td>15</td>\n",
              "    </tr>\n",
              "    <tr>\n",
              "      <th>55</th>\n",
              "      <td>[[0.020290041, 0.012746696, 0.0050258297, 0.03...</td>\n",
              "      <td>16</td>\n",
              "    </tr>\n",
              "    <tr>\n",
              "      <th>56</th>\n",
              "      <td>[[0.014631505, 0.00013457779, 0.00033390842, 0...</td>\n",
              "      <td>1</td>\n",
              "    </tr>\n",
              "  </tbody>\n",
              "</table>\n",
              "</div>"
            ],
            "text/plain": [
              "                                   sentence_embedding  labels_encoded\n",
              "0   [[0.010873658, 0.00056933204, 0.0012553579, 0....              23\n",
              "1   [[0.021158801, -7.3974647e-06, 0.006525718, 0....              24\n",
              "2   [[0.015974987, 0.0047645643, 0.022270927, 0.04...              25\n",
              "3   [[0.010150607, 0.0031098844, 0.009219669, 0.02...              26\n",
              "4   [[0.011473727, -3.923003e-05, 0.0009151518, 0....              27\n",
              "5   [[0.009419642, 0.0016664175, -0.0016825718, 0....              28\n",
              "6   [[0.013822481, -9.5300595e-05, 0.0038704055, 0...              29\n",
              "7   [[0.014273701, -2.654478e-06, 0.011555177, 0.0...              15\n",
              "8   [[0.024300303, 0.012155454, 0.00908428, 0.0483...               6\n",
              "9   [[0.015452269, 0.009879952, 0.003731233, 0.047...               6\n",
              "10  [[0.011728342, -1.7874214e-05, -0.0019276353, ...              13\n",
              "11  [[0.016072787, -3.5306418e-06, -0.003643863, 0...               7\n",
              "12  [[0.0127860205, -2.6760908e-06, -1.9180232e-05...              10\n",
              "13  [[0.0054177083, 0.0010034887, 0.011310469, 0.0...               5\n",
              "14  [[0.028962884, 0.006281495, -0.0005602504, 0.0...               3\n",
              "15  [[0.019599153, -2.4795088e-05, 0.0065543386, 0...              16\n",
              "16  [[0.013432096, -9.846759e-06, 0.0014299382, 0....              14\n",
              "17  [[0.013488649, 0.008031089, 0.002879079, 0.074...              19\n",
              "18  [[0.019432867, -2.3474054e-06, 0.003900889, 0....               3\n",
              "19  [[0.01956873, 0.0026477484, 0.0069227144, 0.02...               6\n",
              "20  [[0.013132588, 0.011282308, 0.005055357, 0.013...              17\n",
              "21  [[0.015201045, -5.304989e-06, 0.0011937923, 0....              22\n",
              "22  [[0.020993954, 0.0013251343, -4.174451e-05, 0....              12\n",
              "23  [[0.009428308, 3.3427434e-05, 0.025292085, 0.0...               2\n",
              "24  [[0.0132291345, 0.005582868, 0.0006405569, 0.0...               9\n",
              "25  [[0.01890898, -1.599345e-05, 0.015295973, 0.03...              14\n",
              "26  [[0.018114965, 0.0037530365, 0.015770465, 0.00...               9\n",
              "27  [[0.015410025, -2.067577e-05, 0.00086468516, 0...              15\n",
              "28  [[0.024339229, -3.0145622e-05, 0.0033669583, 0...              18\n",
              "29  [[0.017894905, -1.6079126e-05, 0.0007337279, 0...               1\n",
              "30  [[0.02528551, 0.012456693, 0.01392498, 0.05276...               3\n",
              "31  [[0.03831667, -8.273418e-06, 0.0071165464, 0.0...               3\n",
              "32  [[0.019003477, 0.0015349851, 0.009303989, 0.03...               2\n",
              "33  [[0.01262791, -8.377223e-06, 0.0017550879, 0.0...              21\n",
              "34  [[0.01441971, -1.1878743e-05, 8.4960826e-05, 0...              11\n",
              "35  [[0.030219331, 0.030223949, 0.005116222, 0.052...              14\n",
              "36  [[0.017967416, -1.3733823e-05, 0.0047679585, 0...              19\n",
              "37  [[0.03476555, 0.0002771172, 0.007829813, 0.048...              18\n",
              "38  [[0.012399555, -3.0131798e-06, 0.0007325351, 0...               4\n",
              "39  [[0.023599464, -8.1176795e-06, 0.0051160986, 0...               8\n",
              "40  [[0.014193313, 0.013291254, 0.0072761355, 0.01...               0\n",
              "41  [[0.028013036, 0.011658554, 0.00850673, 0.0304...               0\n",
              "42  [[0.018966215, 0.018179236, 0.00998833, 0.0251...              22\n",
              "43  [[0.028296858, 0.012327826, 0.009893549, 0.071...              22\n",
              "44  [[0.015609335, -3.0126557e-06, -0.0011721937, ...              19\n",
              "45  [[0.022148915, 0.008060619, 0.008285354, 0.051...              14\n",
              "46  [[0.018720139, 0.0022598377, 0.0055419193, 0.0...               5\n",
              "47  [[0.027909668, 0.009245606, 0.0027131604, 0.01...              11\n",
              "48  [[0.014911221, 0.0011579057, 0.009727868, 0.02...              11\n",
              "49  [[0.016411167, 0.0098326765, 0.017545847, 0.04...               8\n",
              "50  [[0.03282609, -6.737364e-06, 0.00016631937, 0....              13\n",
              "51  [[0.017344028, 0.0068330294, 0.008047904, 0.04...              21\n",
              "52  [[0.013885696, 0.0011259367, 0.00701287, 0.047...              14\n",
              "53  [[0.019741999, -1.4354917e-05, 0.0007816084, 0...               9\n",
              "54  [[0.017576823, -1.2286363e-05, 0.0005927178, 0...              15\n",
              "55  [[0.020290041, 0.012746696, 0.0050258297, 0.03...              16\n",
              "56  [[0.014631505, 0.00013457779, 0.00033390842, 0...               1"
            ]
          },
          "metadata": {
            "tags": []
          },
          "execution_count": 14
        }
      ]
    },
    {
      "cell_type": "code",
      "metadata": {
        "id": "gu81oasvug_g",
        "colab_type": "code",
        "outputId": "41a1ddb9-7c36-42c8-9acb-b2626eb482d2",
        "colab": {
          "base_uri": "https://localhost:8080/",
          "height": 34
        }
      },
      "source": [
        "oneshot_final.shape"
      ],
      "execution_count": 15,
      "outputs": [
        {
          "output_type": "execute_result",
          "data": {
            "text/plain": [
              "(193947, 2)"
            ]
          },
          "metadata": {
            "tags": []
          },
          "execution_count": 15
        }
      ]
    },
    {
      "cell_type": "code",
      "metadata": {
        "id": "ihU7FFgVu0Yz",
        "colab_type": "code",
        "outputId": "1ee2fbc3-795b-43a0-9c45-85a90457ba4e",
        "colab": {
          "base_uri": "https://localhost:8080/",
          "height": 527
        }
      },
      "source": [
        "sorted(oneshot_final.labels_encoded.unique()) #Making sure there are 30 product cats now"
      ],
      "execution_count": 16,
      "outputs": [
        {
          "output_type": "execute_result",
          "data": {
            "text/plain": [
              "[0,\n",
              " 1,\n",
              " 2,\n",
              " 3,\n",
              " 4,\n",
              " 5,\n",
              " 6,\n",
              " 7,\n",
              " 8,\n",
              " 9,\n",
              " 10,\n",
              " 11,\n",
              " 12,\n",
              " 13,\n",
              " 14,\n",
              " 15,\n",
              " 16,\n",
              " 17,\n",
              " 18,\n",
              " 19,\n",
              " 20,\n",
              " 21,\n",
              " 22,\n",
              " 23,\n",
              " 24,\n",
              " 25,\n",
              " 26,\n",
              " 27,\n",
              " 28,\n",
              " 29]"
            ]
          },
          "metadata": {
            "tags": []
          },
          "execution_count": 16
        }
      ]
    },
    {
      "cell_type": "code",
      "metadata": {
        "id": "l5-JNiOyuols",
        "colab_type": "code",
        "colab": {}
      },
      "source": [
        "oneshot_final.to_pickle('/content/gdrive/My Drive/230k_final_oneshot_labelsreshuffled.pkl')"
      ],
      "execution_count": 0,
      "outputs": []
    },
    {
      "cell_type": "code",
      "metadata": {
        "id": "xDxk08TYuyOV",
        "colab_type": "code",
        "colab": {}
      },
      "source": [
        ""
      ],
      "execution_count": 0,
      "outputs": []
    }
  ]
}