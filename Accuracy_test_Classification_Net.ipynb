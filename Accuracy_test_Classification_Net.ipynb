{
  "nbformat": 4,
  "nbformat_minor": 0,
  "metadata": {
    "colab": {
      "name": "Copy of Classification-Net",
      "version": "0.3.2",
      "provenance": [],
      "collapsed_sections": [
        "UQ1lLYsyvIzg",
        "0OlV5dgdfHKz"
      ],
      "toc_visible": true,
      "include_colab_link": true
    },
    "kernelspec": {
      "name": "python3",
      "display_name": "Python 3"
    },
    "accelerator": "GPU"
  },
  "cells": [
    {
      "cell_type": "markdown",
      "metadata": {
        "id": "view-in-github",
        "colab_type": "text"
      },
      "source": [
        "<a href=\"https://colab.research.google.com/github/VindhyaSRajan/NLP_Praktikum/blob/master/Accuracy_test_Classification_Net.ipynb\" target=\"_parent\"><img src=\"https://colab.research.google.com/assets/colab-badge.svg\" alt=\"Open In Colab\"/></a>"
      ]
    },
    {
      "cell_type": "code",
      "metadata": {
        "id": "daymP20xX_7T",
        "colab_type": "code",
        "colab": {}
      },
      "source": [
        "import seaborn as sns\n",
        "import matplotlib.pyplot as plt \n",
        "from torch.utils.data import Dataset\n",
        "import numpy as np\n",
        "import pandas as pd\n",
        "from sklearn.preprocessing import LabelEncoder\n",
        "from pandas import Series\n",
        "from google.colab import drive\n",
        "from torch.utils.data import DataLoader\n",
        "import torch.nn as nn\n",
        "import torch.nn.functional as F\n",
        "import torch\n",
        "import torch.optim as optim\n",
        "from torch.optim import lr_scheduler\n",
        "from tensorflow import summary\n",
        "from torch.utils.data import BatchSampler\n",
        "from collections import Counter\n",
        "from sklearn.metrics import f1_score,accuracy_score, confusion_matrix, classification_report\n",
        "from torch.utils.tensorboard import SummaryWriter\n",
        "import sklearn.metrics as metrics\n",
        "from sklearn.metrics import roc_curve, auc\n",
        "from sklearn.preprocessing import label_binarize"
      ],
      "execution_count": 0,
      "outputs": []
    },
    {
      "cell_type": "code",
      "metadata": {
        "id": "e-J64A0YqMvJ",
        "colab_type": "code",
        "colab": {}
      },
      "source": [
        "# Dictionary for label to index, this has been pre-generated\n",
        "encoding_to_labels = {\n",
        "   2: \"Automotive\",                \n",
        "3: \"Baby\",                                          \n",
        "13:\"Digital_Ebook_Purchase\",    \n",
        "8: \"Digital_Music_Purchase\",    \n",
        "0: \"Digital_Video_Download\",    \n",
        "9: \"Electronics\",               \n",
        "12:\"Home\",                      \n",
        "1: \"Mobile_Apps\",                                   \n",
        "15:\"Musical Instruments\",                             \n",
        "7: \"Shoes\",                     \n",
        "19:\"Sports\",                    \n",
        "21:\"Toys\",                      \n",
        "14:\"Video\",                     \n",
        "5: \"Video DVD\",                  \n",
        "}"
      ],
      "execution_count": 0,
      "outputs": []
    },
    {
      "cell_type": "code",
      "metadata": {
        "id": "E-JUCiTYsRWV",
        "colab_type": "code",
        "colab": {}
      },
      "source": [
        "def get_lebel_from_code(code):\n",
        "  if code not in encoding_to_labels.keys():\n",
        "    raise KeyError(\"Invalid Code\")\n",
        "  return encoding_to_labels[code]\n",
        "\n",
        "def get_all_labels():\n",
        "  return list(encoding_to_labels.values())"
      ],
      "execution_count": 0,
      "outputs": []
    },
    {
      "cell_type": "code",
      "metadata": {
        "colab_type": "code",
        "id": "GNIm96jp_zhM",
        "colab": {
          "base_uri": "https://localhost:8080/",
          "height": 34
        },
        "outputId": "856e3600-48eb-451f-f905-9649f8b42bdd"
      },
      "source": [
        "!pip install -q tb-nightly"
      ],
      "execution_count": 4,
      "outputs": [
        {
          "output_type": "stream",
          "text": [
            "\u001b[K     |████████████████████████████████| 3.9MB 2.8MB/s \n",
            "\u001b[?25h"
          ],
          "name": "stdout"
        }
      ]
    },
    {
      "cell_type": "code",
      "metadata": {
        "colab_type": "code",
        "id": "0QcrlYeTdBR-",
        "colab": {}
      },
      "source": [
        "# # Delete any old logs.... be smart while using this\n",
        "% rm -rf /content/logs/"
      ],
      "execution_count": 0,
      "outputs": []
    },
    {
      "cell_type": "code",
      "metadata": {
        "colab_type": "code",
        "id": "rOreic85dBSC",
        "colab": {}
      },
      "source": [
        "% mkdir -p '/content/logs/tensorboard/train/'\n",
        "% mkdir -p '/content/logs/tensorboard/val/'"
      ],
      "execution_count": 0,
      "outputs": []
    },
    {
      "cell_type": "code",
      "metadata": {
        "id": "DfajFKSRoqSW",
        "colab_type": "code",
        "colab": {}
      },
      "source": [
        "%load_ext tensorboard"
      ],
      "execution_count": 0,
      "outputs": []
    },
    {
      "cell_type": "markdown",
      "metadata": {
        "id": "eENbB1ut3MPP",
        "colab_type": "text"
      },
      "source": [
        "#Read the Data"
      ]
    },
    {
      "cell_type": "code",
      "metadata": {
        "id": "ERTjB0zztxnN",
        "colab_type": "code",
        "outputId": "d517d8fe-d724-49da-da97-4e708c051fe6",
        "colab": {
          "base_uri": "https://localhost:8080/",
          "height": 34
        }
      },
      "source": [
        "# Run this cell to mount your Google Drive.\n",
        "drive.mount('/content/drive')"
      ],
      "execution_count": 9,
      "outputs": [
        {
          "output_type": "stream",
          "text": [
            "Drive already mounted at /content/drive; to attempt to forcibly remount, call drive.mount(\"/content/drive\", force_remount=True).\n"
          ],
          "name": "stdout"
        }
      ]
    },
    {
      "cell_type": "code",
      "metadata": {
        "colab_type": "code",
        "id": "6Vo2FWUWwnbv",
        "outputId": "c56791ef-ee81-4344-b8e4-2ae722b4b463",
        "colab": {
          "base_uri": "https://localhost:8080/",
          "height": 34
        }
      },
      "source": [
        "%cd /content/\n",
        "test_data = pd.read_pickle('/content/drive/My Drive/dtest_20k_accuracytest_encoded_labelsmappedandreduced.pkl')"
      ],
      "execution_count": 10,
      "outputs": [
        {
          "output_type": "stream",
          "text": [
            "/content\n"
          ],
          "name": "stdout"
        }
      ]
    },
    {
      "cell_type": "code",
      "metadata": {
        "id": "lptdySB3giiT",
        "colab_type": "code",
        "outputId": "0c231908-1c24-4ad4-be18-770605225f1e",
        "colab": {
          "base_uri": "https://localhost:8080/",
          "height": 204
        }
      },
      "source": [
        "test_data.head()"
      ],
      "execution_count": 11,
      "outputs": [
        {
          "output_type": "execute_result",
          "data": {
            "text/html": [
              "<div>\n",
              "<style scoped>\n",
              "    .dataframe tbody tr th:only-of-type {\n",
              "        vertical-align: middle;\n",
              "    }\n",
              "\n",
              "    .dataframe tbody tr th {\n",
              "        vertical-align: top;\n",
              "    }\n",
              "\n",
              "    .dataframe thead th {\n",
              "        text-align: right;\n",
              "    }\n",
              "</style>\n",
              "<table border=\"1\" class=\"dataframe\">\n",
              "  <thead>\n",
              "    <tr style=\"text-align: right;\">\n",
              "      <th></th>\n",
              "      <th>sentence_embedding</th>\n",
              "      <th>labels_encoded</th>\n",
              "    </tr>\n",
              "  </thead>\n",
              "  <tbody>\n",
              "    <tr>\n",
              "      <th>0</th>\n",
              "      <td>[[0.020630155, -5.427392e-05, -0.0005429585, 0...</td>\n",
              "      <td>2</td>\n",
              "    </tr>\n",
              "    <tr>\n",
              "      <th>1</th>\n",
              "      <td>[[0.009404534, -0.00013506821, 0.0029931439, 0...</td>\n",
              "      <td>2</td>\n",
              "    </tr>\n",
              "    <tr>\n",
              "      <th>2</th>\n",
              "      <td>[[0.0118809715, -1.7096989e-05, 0.017329859, 0...</td>\n",
              "      <td>2</td>\n",
              "    </tr>\n",
              "    <tr>\n",
              "      <th>3</th>\n",
              "      <td>[[0.013619319, -0.000120394856, -0.00017446173...</td>\n",
              "      <td>2</td>\n",
              "    </tr>\n",
              "    <tr>\n",
              "      <th>4</th>\n",
              "      <td>[[0.013776152, 0.0014088053, 0.0023799718, 0.0...</td>\n",
              "      <td>2</td>\n",
              "    </tr>\n",
              "  </tbody>\n",
              "</table>\n",
              "</div>"
            ],
            "text/plain": [
              "                                  sentence_embedding  labels_encoded\n",
              "0  [[0.020630155, -5.427392e-05, -0.0005429585, 0...               2\n",
              "1  [[0.009404534, -0.00013506821, 0.0029931439, 0...               2\n",
              "2  [[0.0118809715, -1.7096989e-05, 0.017329859, 0...               2\n",
              "3  [[0.013619319, -0.000120394856, -0.00017446173...               2\n",
              "4  [[0.013776152, 0.0014088053, 0.0023799718, 0.0...               2"
            ]
          },
          "metadata": {
            "tags": []
          },
          "execution_count": 11
        }
      ]
    },
    {
      "cell_type": "code",
      "metadata": {
        "colab_type": "code",
        "id": "5XVwbe1mwnb2",
        "outputId": "01646222-02c5-4471-e22b-5ddf7dda5edc",
        "colab": {
          "base_uri": "https://localhost:8080/",
          "height": 34
        }
      },
      "source": [
        "len(test_data)\n",
        "# test_data.columns"
      ],
      "execution_count": 12,
      "outputs": [
        {
          "output_type": "execute_result",
          "data": {
            "text/plain": [
              "13184"
            ]
          },
          "metadata": {
            "tags": []
          },
          "execution_count": 12
        }
      ]
    },
    {
      "cell_type": "code",
      "metadata": {
        "id": "kLsdLnjKiAr-",
        "colab_type": "code",
        "colab": {}
      },
      "source": [
        "def random_selection(data_frame, num_samples):\n",
        "  sampled_df = data_frame.sample(n=num_samples)\n",
        "  return sampled_df"
      ],
      "execution_count": 0,
      "outputs": []
    },
    {
      "cell_type": "code",
      "metadata": {
        "id": "IuGOnw02iwOb",
        "colab_type": "code",
        "outputId": "6c3d6ff6-7026-4b2d-bbb2-1ab14e6da391",
        "colab": {
          "base_uri": "https://localhost:8080/",
          "height": 34
        }
      },
      "source": [
        "class_list = set(test_data.labels_encoded)\n",
        "class_list"
      ],
      "execution_count": 14,
      "outputs": [
        {
          "output_type": "execute_result",
          "data": {
            "text/plain": [
              "{0, 1, 2, 3, 5, 7, 8, 9, 13, 14, 15, 19, 21, 22}"
            ]
          },
          "metadata": {
            "tags": []
          },
          "execution_count": 14
        }
      ]
    },
    {
      "cell_type": "code",
      "metadata": {
        "id": "BaHi2dZ9hInA",
        "colab_type": "code",
        "outputId": "a5d7ce49-a92a-4cf9-f24d-f38502c1574d",
        "colab": {
          "base_uri": "https://localhost:8080/",
          "height": 34
        }
      },
      "source": [
        "df_per_class_dict = dict()\n",
        "for label_type in class_list:\n",
        "    df_per_class_dict[label_type] = test_data[test_data.labels_encoded == label_type]\n",
        "    \n",
        "df_per_class_dict.keys() "
      ],
      "execution_count": 15,
      "outputs": [
        {
          "output_type": "execute_result",
          "data": {
            "text/plain": [
              "dict_keys([0, 1, 2, 3, 5, 7, 8, 9, 13, 14, 15, 19, 21, 22])"
            ]
          },
          "metadata": {
            "tags": []
          },
          "execution_count": 15
        }
      ]
    },
    {
      "cell_type": "code",
      "metadata": {
        "id": "rwbsYlEZoyuV",
        "colab_type": "code",
        "outputId": "6077ad16-2eaf-424b-f7f8-132c365647c5",
        "colab": {
          "base_uri": "https://localhost:8080/",
          "height": 255
        }
      },
      "source": [
        "for key, val in df_per_class_dict.items():\n",
        "  print(\"Key has {} and length of list is {}\".format(key, len(val)))"
      ],
      "execution_count": 16,
      "outputs": [
        {
          "output_type": "stream",
          "text": [
            "Key has 0 and length of list is 999\n",
            "Key has 1 and length of list is 999\n",
            "Key has 2 and length of list is 402\n",
            "Key has 3 and length of list is 794\n",
            "Key has 5 and length of list is 999\n",
            "Key has 7 and length of list is 999\n",
            "Key has 8 and length of list is 999\n",
            "Key has 9 and length of list is 999\n",
            "Key has 13 and length of list is 999\n",
            "Key has 14 and length of list is 999\n",
            "Key has 15 and length of list is 999\n",
            "Key has 19 and length of list is 999\n",
            "Key has 21 and length of list is 999\n",
            "Key has 22 and length of list is 999\n"
          ],
          "name": "stdout"
        }
      ]
    },
    {
      "cell_type": "code",
      "metadata": {
        "id": "1cyvqVc_n2K_",
        "colab_type": "code",
        "colab": {}
      },
      "source": [
        "num_samples_per_class = 1"
      ],
      "execution_count": 0,
      "outputs": []
    },
    {
      "cell_type": "code",
      "metadata": {
        "id": "4ctQNJu9kBh2",
        "colab_type": "code",
        "colab": {}
      },
      "source": [
        "# https://pandas.pydata.org/pandas-docs/version/0.18/merging.html\n",
        "def create_random_frame(df_per_class, num_samples):\n",
        "    list_of_seed_df = []\n",
        "    list_of_test_df = []\n",
        "    for cat,data_frame_of_class in df_per_class.items():\n",
        "        random_df = random_selection(data_frame_of_class, num_samples)\n",
        "        # https://stackoverflow.com/questions/42363706/how-to-extract-rows-in-a-pandas-dataframe-not-in-a-subset-dataframe\n",
        "        extract_idx = list(set(data_frame_of_class.index) - set(random_df.index))\n",
        "        remaining_terms = data_frame_of_class.loc[extract_idx]\n",
        "        list_of_seed_df.append(random_df)\n",
        "        list_of_test_df.append(remaining_terms)\n",
        "    train_set_df = pd.concat(list_of_seed_df)\n",
        "    test_set_df = pd.concat(list_of_test_df)\n",
        "    return train_set_df, test_set_df"
      ],
      "execution_count": 0,
      "outputs": []
    },
    {
      "cell_type": "code",
      "metadata": {
        "id": "FE3ECzPNoECf",
        "colab_type": "code",
        "colab": {}
      },
      "source": [
        "train_df, test_df = create_random_frame(df_per_class_dict, num_samples_per_class)"
      ],
      "execution_count": 0,
      "outputs": []
    },
    {
      "cell_type": "code",
      "metadata": {
        "id": "yx7WPaTzn8mo",
        "colab_type": "code",
        "outputId": "fa34575b-82b4-4b6e-e7dc-330453294083",
        "colab": {
          "base_uri": "https://localhost:8080/",
          "height": 514
        }
      },
      "source": [
        "train_df.groupby(train_df.labels_encoded).count()"
      ],
      "execution_count": 132,
      "outputs": [
        {
          "output_type": "execute_result",
          "data": {
            "text/html": [
              "<div>\n",
              "<style scoped>\n",
              "    .dataframe tbody tr th:only-of-type {\n",
              "        vertical-align: middle;\n",
              "    }\n",
              "\n",
              "    .dataframe tbody tr th {\n",
              "        vertical-align: top;\n",
              "    }\n",
              "\n",
              "    .dataframe thead th {\n",
              "        text-align: right;\n",
              "    }\n",
              "</style>\n",
              "<table border=\"1\" class=\"dataframe\">\n",
              "  <thead>\n",
              "    <tr style=\"text-align: right;\">\n",
              "      <th></th>\n",
              "      <th>sentence_embedding</th>\n",
              "    </tr>\n",
              "    <tr>\n",
              "      <th>labels_encoded</th>\n",
              "      <th></th>\n",
              "    </tr>\n",
              "  </thead>\n",
              "  <tbody>\n",
              "    <tr>\n",
              "      <th>0</th>\n",
              "      <td>1</td>\n",
              "    </tr>\n",
              "    <tr>\n",
              "      <th>1</th>\n",
              "      <td>1</td>\n",
              "    </tr>\n",
              "    <tr>\n",
              "      <th>2</th>\n",
              "      <td>1</td>\n",
              "    </tr>\n",
              "    <tr>\n",
              "      <th>3</th>\n",
              "      <td>1</td>\n",
              "    </tr>\n",
              "    <tr>\n",
              "      <th>5</th>\n",
              "      <td>1</td>\n",
              "    </tr>\n",
              "    <tr>\n",
              "      <th>7</th>\n",
              "      <td>1</td>\n",
              "    </tr>\n",
              "    <tr>\n",
              "      <th>8</th>\n",
              "      <td>1</td>\n",
              "    </tr>\n",
              "    <tr>\n",
              "      <th>9</th>\n",
              "      <td>1</td>\n",
              "    </tr>\n",
              "    <tr>\n",
              "      <th>13</th>\n",
              "      <td>1</td>\n",
              "    </tr>\n",
              "    <tr>\n",
              "      <th>14</th>\n",
              "      <td>1</td>\n",
              "    </tr>\n",
              "    <tr>\n",
              "      <th>15</th>\n",
              "      <td>1</td>\n",
              "    </tr>\n",
              "    <tr>\n",
              "      <th>19</th>\n",
              "      <td>1</td>\n",
              "    </tr>\n",
              "    <tr>\n",
              "      <th>21</th>\n",
              "      <td>1</td>\n",
              "    </tr>\n",
              "    <tr>\n",
              "      <th>22</th>\n",
              "      <td>1</td>\n",
              "    </tr>\n",
              "  </tbody>\n",
              "</table>\n",
              "</div>"
            ],
            "text/plain": [
              "                sentence_embedding\n",
              "labels_encoded                    \n",
              "0                                1\n",
              "1                                1\n",
              "2                                1\n",
              "3                                1\n",
              "5                                1\n",
              "7                                1\n",
              "8                                1\n",
              "9                                1\n",
              "13                               1\n",
              "14                               1\n",
              "15                               1\n",
              "19                               1\n",
              "21                               1\n",
              "22                               1"
            ]
          },
          "metadata": {
            "tags": []
          },
          "execution_count": 132
        }
      ]
    },
    {
      "cell_type": "code",
      "metadata": {
        "id": "ev0UhPKLrq__",
        "colab_type": "code",
        "outputId": "1207b370-c899-4f32-fbf6-fb68d0557f86",
        "colab": {
          "base_uri": "https://localhost:8080/",
          "height": 514
        }
      },
      "source": [
        "test_df.groupby(test_df.labels_encoded).count()"
      ],
      "execution_count": 133,
      "outputs": [
        {
          "output_type": "execute_result",
          "data": {
            "text/html": [
              "<div>\n",
              "<style scoped>\n",
              "    .dataframe tbody tr th:only-of-type {\n",
              "        vertical-align: middle;\n",
              "    }\n",
              "\n",
              "    .dataframe tbody tr th {\n",
              "        vertical-align: top;\n",
              "    }\n",
              "\n",
              "    .dataframe thead th {\n",
              "        text-align: right;\n",
              "    }\n",
              "</style>\n",
              "<table border=\"1\" class=\"dataframe\">\n",
              "  <thead>\n",
              "    <tr style=\"text-align: right;\">\n",
              "      <th></th>\n",
              "      <th>sentence_embedding</th>\n",
              "    </tr>\n",
              "    <tr>\n",
              "      <th>labels_encoded</th>\n",
              "      <th></th>\n",
              "    </tr>\n",
              "  </thead>\n",
              "  <tbody>\n",
              "    <tr>\n",
              "      <th>0</th>\n",
              "      <td>998</td>\n",
              "    </tr>\n",
              "    <tr>\n",
              "      <th>1</th>\n",
              "      <td>998</td>\n",
              "    </tr>\n",
              "    <tr>\n",
              "      <th>2</th>\n",
              "      <td>401</td>\n",
              "    </tr>\n",
              "    <tr>\n",
              "      <th>3</th>\n",
              "      <td>793</td>\n",
              "    </tr>\n",
              "    <tr>\n",
              "      <th>5</th>\n",
              "      <td>998</td>\n",
              "    </tr>\n",
              "    <tr>\n",
              "      <th>7</th>\n",
              "      <td>998</td>\n",
              "    </tr>\n",
              "    <tr>\n",
              "      <th>8</th>\n",
              "      <td>998</td>\n",
              "    </tr>\n",
              "    <tr>\n",
              "      <th>9</th>\n",
              "      <td>998</td>\n",
              "    </tr>\n",
              "    <tr>\n",
              "      <th>13</th>\n",
              "      <td>998</td>\n",
              "    </tr>\n",
              "    <tr>\n",
              "      <th>14</th>\n",
              "      <td>998</td>\n",
              "    </tr>\n",
              "    <tr>\n",
              "      <th>15</th>\n",
              "      <td>998</td>\n",
              "    </tr>\n",
              "    <tr>\n",
              "      <th>19</th>\n",
              "      <td>998</td>\n",
              "    </tr>\n",
              "    <tr>\n",
              "      <th>21</th>\n",
              "      <td>998</td>\n",
              "    </tr>\n",
              "    <tr>\n",
              "      <th>22</th>\n",
              "      <td>998</td>\n",
              "    </tr>\n",
              "  </tbody>\n",
              "</table>\n",
              "</div>"
            ],
            "text/plain": [
              "                sentence_embedding\n",
              "labels_encoded                    \n",
              "0                              998\n",
              "1                              998\n",
              "2                              401\n",
              "3                              793\n",
              "5                              998\n",
              "7                              998\n",
              "8                              998\n",
              "9                              998\n",
              "13                             998\n",
              "14                             998\n",
              "15                             998\n",
              "19                             998\n",
              "21                             998\n",
              "22                             998"
            ]
          },
          "metadata": {
            "tags": []
          },
          "execution_count": 133
        }
      ]
    },
    {
      "cell_type": "code",
      "metadata": {
        "id": "rE9hfpyts0Pr",
        "colab_type": "code",
        "outputId": "1a1dfc2b-b02d-4d6b-ce7b-365668efd5bd",
        "colab": {
          "base_uri": "https://localhost:8080/",
          "height": 34
        }
      },
      "source": [
        "(train_df.sentence_embedding.isin(test_df.sentence_embedding)).sum() == 0"
      ],
      "execution_count": 134,
      "outputs": [
        {
          "output_type": "execute_result",
          "data": {
            "text/plain": [
              "True"
            ]
          },
          "metadata": {
            "tags": []
          },
          "execution_count": 134
        }
      ]
    },
    {
      "cell_type": "markdown",
      "metadata": {
        "id": "SHPAPG1ogqiO",
        "colab_type": "text"
      },
      "source": [
        "# The three networks that need to be loaded"
      ]
    },
    {
      "cell_type": "code",
      "metadata": {
        "id": "vbJFhGMaM-A3",
        "colab_type": "code",
        "colab": {}
      },
      "source": [
        "class TripletNetwork(nn.Module):\n",
        "    \n",
        "    def __init__(self):\n",
        "        super(TripletNetwork, self).__init__()\n",
        "\n",
        "        self.input_dim=1024\n",
        "        self.fc = nn.Sequential(nn.Linear(1024, 512),\n",
        "                                  nn.BatchNorm1d(num_features=512),\n",
        "                                  nn.ReLU(),\n",
        "                                  #nn.Dropout(),\n",
        "                                  nn.Linear(512,256),\n",
        "                                  nn.BatchNorm1d(num_features=256),\n",
        "                                  nn.ReLU(),\n",
        "                                  #nn.Dropout(p=0.6),\n",
        "                                  nn.Linear(256,64) #earlier 64\n",
        "                               )\n",
        "       \n",
        "    def forward(self, x1, x2, x3):\n",
        "       \n",
        "        \"\"\"\n",
        "          We updated the network now and are directly getting the sentence embeddings\n",
        "        \"\"\"\n",
        "        # These are the embeddings and what we want to achieve is to make\n",
        "        # these embeddings which should be in the same region denoting their language to\n",
        "        # fall a bit away based on the task at hand\n",
        "        output1 = self.fc(x1.cuda())\n",
        "        output2 = self.fc(x2.cuda())\n",
        "        output3 = self.fc(x3.cuda())\n",
        "        \n",
        "        return (output1, output2, output3)\n",
        "\n",
        "    def get_embedding(self, x):\n",
        "        return self.encoder.encode_sentences(sentences = x)"
      ],
      "execution_count": 0,
      "outputs": []
    },
    {
      "cell_type": "code",
      "metadata": {
        "id": "mVI_Mn79OkcA",
        "colab_type": "code",
        "colab": {}
      },
      "source": [
        "class ClassificationNet(nn.Module):\n",
        "  \n",
        "\n",
        "  def __init__(self, embedding_network, num_classes):\n",
        "    super(ClassificationNet, self).__init__()\n",
        "    self.embedding_network = embedding_network #We would like to freeze these embeddings\n",
        "    self.num_classes = num_classes\n",
        "    self.nonlinear = nn.ReLU()\n",
        "    self.fc1 = nn.Linear(64, 64)\n",
        "    self.fc2 = nn.Linear(64, 32)\n",
        "    self.fc3 = nn.Linear(32, self.num_classes)\n",
        "    # Freeze the weights of this network\n",
        "    \"\"\" This attempt is to first allow classification network to train\"\"\"\n",
        "    for param in self.embedding_network.fc.parameters():\n",
        "           param.requires_grad = False\n",
        "    \n",
        "  \n",
        "\n",
        "  def forward(self,x):\n",
        "    x = self.embedding_network.fc(x)\n",
        "    x = self.fc1(self.nonlinear(x))\n",
        "    x = self.fc2(self.nonlinear(x))\n",
        "    x = self.fc3(self.nonlinear(x))\n",
        "    return x"
      ],
      "execution_count": 0,
      "outputs": []
    },
    {
      "cell_type": "code",
      "metadata": {
        "id": "dX8B_3GoT9c7",
        "colab_type": "code",
        "colab": {}
      },
      "source": [
        "# We need to define a specific dataloader in this case, which shall be frankly, quite simple and dummy\n",
        "class SoftmaxDataset(Dataset):\n",
        "    \"\"\"\n",
        "    Train: For each sample (anchor) randomly chooses a positive and negative samples\n",
        "    Test: Creates fixed triplets for testing\n",
        "    \"\"\"\n",
        "\n",
        "    def __init__(self, dataset, select_column):\n",
        "         \n",
        "        \n",
        "        self.dataset = dataset\n",
        "        self.train_labels = self.dataset.labels_encoded\n",
        "            # Drop the labels column so that remaining features form part of the training set\n",
        "        self.dataset = self.dataset.drop('labels_encoded', axis=1)\n",
        "        self.train_data = self.dataset\n",
        "        self.select_column = select_column\n",
        "       \n",
        "    def __getitem__(self, index):\n",
        "        #print(type(self.train_data))\n",
        "        selected_frame, label = self.train_data.iloc[index], self.train_labels.iloc[index]\n",
        "        str_data = selected_frame[self.select_column]\n",
        "\n",
        "        return str_data, label\n",
        "\n",
        "    def __len__(self):\n",
        "        return len(self.dataset)"
      ],
      "execution_count": 0,
      "outputs": []
    },
    {
      "cell_type": "markdown",
      "metadata": {
        "id": "UQ1lLYsyvIzg",
        "colab_type": "text"
      },
      "source": [
        "# Classification Network"
      ]
    },
    {
      "cell_type": "code",
      "metadata": {
        "id": "ZC0nL-sYSOcf",
        "colab_type": "code",
        "colab": {}
      },
      "source": [
        "# Global declarations\n",
        "num_classes=23\n",
        "num_epochs = 200\n",
        "batch_size = 100"
      ],
      "execution_count": 0,
      "outputs": []
    },
    {
      "cell_type": "code",
      "metadata": {
        "colab_type": "code",
        "id": "MjSwcL7J0zZm",
        "outputId": "5b954561-5f43-4737-f0c8-f689bdb782da",
        "colab": {
          "base_uri": "https://localhost:8080/",
          "height": 208
        }
      },
      "source": [
        "# Load a pre-existing model \n",
        "PATH = '/content/11-model-GOOD.pth'\n",
        "model = TripletNetwork()\n",
        "model.load_state_dict(torch.load(PATH))\n",
        "model.cuda()"
      ],
      "execution_count": 0,
      "outputs": [
        {
          "output_type": "execute_result",
          "data": {
            "text/plain": [
              "TripletNetwork(\n",
              "  (fc): Sequential(\n",
              "    (0): Linear(in_features=1024, out_features=512, bias=True)\n",
              "    (1): BatchNorm1d(512, eps=1e-05, momentum=0.1, affine=True, track_running_stats=True)\n",
              "    (2): ReLU()\n",
              "    (3): Linear(in_features=512, out_features=256, bias=True)\n",
              "    (4): BatchNorm1d(256, eps=1e-05, momentum=0.1, affine=True, track_running_stats=True)\n",
              "    (5): ReLU()\n",
              "    (6): Linear(in_features=256, out_features=64, bias=True)\n",
              "  )\n",
              ")"
            ]
          },
          "metadata": {
            "tags": []
          },
          "execution_count": 77
        }
      ]
    },
    {
      "cell_type": "code",
      "metadata": {
        "id": "TzXYFUDYRZtZ",
        "colab_type": "code",
        "outputId": "ce43f243-91af-4951-db0d-65caf8be2c97",
        "colab": {
          "base_uri": "https://localhost:8080/",
          "height": 312
        }
      },
      "source": [
        "num_classes = max(set(train_df.labels_encoded)) + 1\n",
        "net = ClassificationNet(embedding_network=model, num_classes=num_classes)\n",
        "net.cuda()"
      ],
      "execution_count": 0,
      "outputs": [
        {
          "output_type": "execute_result",
          "data": {
            "text/plain": [
              "ClassificationNet(\n",
              "  (embedding_network): TripletNetwork(\n",
              "    (fc): Sequential(\n",
              "      (0): Linear(in_features=1024, out_features=512, bias=True)\n",
              "      (1): BatchNorm1d(512, eps=1e-05, momentum=0.1, affine=True, track_running_stats=True)\n",
              "      (2): ReLU()\n",
              "      (3): Linear(in_features=512, out_features=256, bias=True)\n",
              "      (4): BatchNorm1d(256, eps=1e-05, momentum=0.1, affine=True, track_running_stats=True)\n",
              "      (5): ReLU()\n",
              "      (6): Linear(in_features=256, out_features=64, bias=True)\n",
              "    )\n",
              "  )\n",
              "  (nonlinear): ReLU()\n",
              "  (fc1): Linear(in_features=64, out_features=64, bias=True)\n",
              "  (fc2): Linear(in_features=64, out_features=32, bias=True)\n",
              "  (fc3): Linear(in_features=32, out_features=23, bias=True)\n",
              ")"
            ]
          },
          "metadata": {
            "tags": []
          },
          "execution_count": 78
        }
      ]
    },
    {
      "cell_type": "code",
      "metadata": {
        "id": "m4kYkHpsRaoR",
        "colab_type": "code",
        "colab": {}
      },
      "source": [
        "criterion = nn.CrossEntropyLoss()\n",
        "optimizer = optim.Adam(net.parameters(), lr=1e-3)"
      ],
      "execution_count": 0,
      "outputs": []
    },
    {
      "cell_type": "code",
      "metadata": {
        "id": "ptV1nJq2YM4-",
        "colab_type": "code",
        "colab": {}
      },
      "source": [
        "softmax_train_dataset = SoftmaxDataset(dataset=train_df,select_column='sentence_embedding')\n",
        "softmax_test_dataset = SoftmaxDataset(dataset=test_df,select_column='sentence_embedding')\n",
        "# Now the dataloaders need to be defined as well\n",
        "classification_train_loader = DataLoader(softmax_train_dataset, batch_size=batch_size,shuffle=True)\n",
        "classification_test_loader = DataLoader(softmax_test_dataset, batch_size=batch_size,shuffle=True)"
      ],
      "execution_count": 0,
      "outputs": []
    },
    {
      "cell_type": "code",
      "metadata": {
        "colab_type": "code",
        "id": "WfPWuYg3GkKg",
        "colab": {}
      },
      "source": [
        "train_writer = SummaryWriter('/content/logs/tensorboard/train/')\n",
        "val_writer = SummaryWriter('/content/logs/tensorboard/val/')"
      ],
      "execution_count": 0,
      "outputs": []
    },
    {
      "cell_type": "code",
      "metadata": {
        "id": "OXkjJP4dQ0m1",
        "colab_type": "code",
        "outputId": "70e7721a-74e6-406b-ce2a-e5708456f296",
        "colab": {
          "base_uri": "https://localhost:8080/",
          "height": 1000
        }
      },
      "source": [
        "# Next we need to train this network in order to learn the weights of the fc layer and cross entropy weights\n",
        "for epoch in range(num_epochs):  # loop over the dataset multiple times\n",
        "    correct = 0\n",
        "    total = 0\n",
        "    running_loss = 0.0\n",
        "    for i, data in enumerate(classification_train_loader, 0):\n",
        "        # get the inputs; data is a list of [inputs, labels]\n",
        "        inputs, labels = data\n",
        "        inputs = inputs.cuda()\n",
        "        labels = labels.cuda()\n",
        "        #reshape the input to align\n",
        "        batch_size = inputs.shape[0]\n",
        "        inputs = inputs.reshape(batch_size,-1)\n",
        "        # zero the parameter gradients\n",
        "        optimizer.zero_grad()\n",
        "        # forward + backward + optimize\n",
        "        outputs = net(inputs)\n",
        "        loss = criterion(outputs, labels)\n",
        "        loss.backward()\n",
        "        optimizer.step()\n",
        "        # Write the scalars\n",
        "        running_loss += loss.item()\n",
        "        _, predicted = torch.max(outputs.data, 1)\n",
        "        total += labels.size(0)\n",
        "        correct += (predicted == labels).cpu().sum().item()\n",
        "    print(\"loss is {}\".format(running_loss/total))   \n",
        "    print('Accuracy of the network on the train samples: {} '.format((100 * correct / total)))\n",
        "    train_writer.add_scalar('Loss', running_loss/total,epoch)\n",
        "    train_writer.add_scalar('Accuracy', 100*correct/total,epoch)\n",
        "    # Now this is the section for testing the model in the same epoch\n",
        "    correct = 0\n",
        "    total = 0\n",
        "    loss_val = 0\n",
        "    with torch.no_grad():\n",
        "        for data in classification_test_loader:\n",
        "            inputs, labels = data\n",
        "            inputs = inputs.cuda()\n",
        "            batch_size = inputs.shape[0]\n",
        "            inputs = inputs.reshape(batch_size,-1)\n",
        "            # Next the evaluation\n",
        "            outputs = net(inputs)\n",
        "            labels = labels.cuda()\n",
        "            loss = criterion(outputs, labels)\n",
        "            loss_val = loss_val + loss.item()\n",
        "            _, predicted = torch.max(outputs.data, 1)\n",
        "            total += labels.size(0)\n",
        "            correct += (predicted == labels).cpu().sum().item()\n",
        "            \n",
        "    print('Accuracy of the network on the test samples:{}'.format(\n",
        "        (100 * correct / total)))\n",
        "    print(\"epoch is {} loss validation set is {}\".format(epoch, loss_val/total)) \n",
        "    torch.save(net.state_dict(), '/content/{}-classifier.pth'.format(epoch))\n",
        "    val_writer.add_scalar('Loss', loss_val/total,epoch)\n",
        "    val_writer.add_scalar('Accuracy', 100*correct/total,epoch)\n",
        "print('Finished Training')"
      ],
      "execution_count": 0,
      "outputs": [
        {
          "output_type": "stream",
          "text": [
            "loss is 0.04459913969039917\n",
            "Accuracy of the network on the train samples: 7.857142857142857 \n",
            "Accuracy of the network on the test samples:5.136461208218338\n",
            "epoch is 0 loss validation set is 0.03140084645163973\n",
            "loss is 0.04440448795046125\n",
            "Accuracy of the network on the train samples: 5.0 \n",
            "Accuracy of the network on the test samples:5.749770009199632\n",
            "epoch is 1 loss validation set is 0.031244066148329204\n",
            "loss is 0.04383443934576852\n",
            "Accuracy of the network on the train samples: 11.428571428571429 \n",
            "Accuracy of the network on the test samples:7.727690892364305\n",
            "epoch is 2 loss validation set is 0.031082401810084263\n",
            "loss is 0.0435438905443464\n",
            "Accuracy of the network on the train samples: 12.142857142857142 \n",
            "Accuracy of the network on the test samples:9.306961054891138\n",
            "epoch is 3 loss validation set is 0.030912430529139664\n",
            "loss is 0.04333219528198242\n",
            "Accuracy of the network on the train samples: 14.285714285714286 \n",
            "Accuracy of the network on the test samples:9.858938975774302\n",
            "epoch is 4 loss validation set is 0.03072531188203308\n",
            "loss is 0.042953259604317805\n",
            "Accuracy of the network on the train samples: 12.857142857142858 \n",
            "Accuracy of the network on the test samples:10.081263416130021\n",
            "epoch is 5 loss validation set is 0.03053906760088544\n",
            "loss is 0.04269410371780395\n",
            "Accuracy of the network on the train samples: 12.857142857142858 \n",
            "Accuracy of the network on the test samples:10.571910456915056\n",
            "epoch is 6 loss validation set is 0.03032085071930451\n",
            "loss is 0.04201584543500628\n",
            "Accuracy of the network on the train samples: 12.142857142857142 \n",
            "Accuracy of the network on the test samples:10.870898497393437\n",
            "epoch is 7 loss validation set is 0.030088260673884416\n",
            "loss is 0.041450796808515274\n",
            "Accuracy of the network on the train samples: 11.428571428571429 \n",
            "Accuracy of the network on the test samples:11.277215578043545\n",
            "epoch is 8 loss validation set is 0.02984285137105741\n",
            "loss is 0.04141851663589478\n",
            "Accuracy of the network on the train samples: 13.571428571428571 \n",
            "Accuracy of the network on the test samples:11.553204538485128\n",
            "epoch is 9 loss validation set is 0.029564416708298454\n",
            "loss is 0.04066704511642456\n",
            "Accuracy of the network on the train samples: 14.285714285714286 \n",
            "Accuracy of the network on the test samples:12.020852499233364\n",
            "epoch is 10 loss validation set is 0.029285519922192717\n",
            "loss is 0.039982935360499794\n",
            "Accuracy of the network on the train samples: 17.857142857142858 \n",
            "Accuracy of the network on the test samples:12.77215578043545\n",
            "epoch is 11 loss validation set is 0.028982815659144876\n",
            "loss is 0.03969969749450684\n",
            "Accuracy of the network on the train samples: 16.428571428571427 \n",
            "Accuracy of the network on the test samples:13.791781662066851\n",
            "epoch is 12 loss validation set is 0.028675630720653843\n",
            "loss is 0.039075735637119836\n",
            "Accuracy of the network on the train samples: 19.285714285714285 \n",
            "Accuracy of the network on the test samples:14.251763262802822\n",
            "epoch is 13 loss validation set is 0.02837262059310871\n",
            "loss is 0.037979170254298616\n",
            "Accuracy of the network on the train samples: 21.428571428571427 \n",
            "Accuracy of the network on the test samples:14.918736583869979\n",
            "epoch is 14 loss validation set is 0.0280412697090177\n",
            "loss is 0.03772222314562116\n",
            "Accuracy of the network on the train samples: 22.142857142857142 \n",
            "Accuracy of the network on the test samples:15.225390984360626\n",
            "epoch is 15 loss validation set is 0.02772768331210111\n",
            "loss is 0.036577318395887105\n",
            "Accuracy of the network on the train samples: 25.714285714285715 \n",
            "Accuracy of the network on the test samples:15.823367065317388\n",
            "epoch is 16 loss validation set is 0.02743333740784178\n",
            "loss is 0.03679408516202654\n",
            "Accuracy of the network on the train samples: 27.142857142857142 \n",
            "Accuracy of the network on the test samples:16.068690585709906\n",
            "epoch is 17 loss validation set is 0.027156963227022574\n",
            "loss is 0.03593757152557373\n",
            "Accuracy of the network on the train samples: 27.857142857142858 \n",
            "Accuracy of the network on the test samples:15.999693345599509\n",
            "epoch is 18 loss validation set is 0.026892685480769958\n",
            "loss is 0.035229556901114324\n",
            "Accuracy of the network on the train samples: 25.714285714285715 \n",
            "Accuracy of the network on the test samples:15.792701625268323\n",
            "epoch is 19 loss validation set is 0.026633382812302306\n",
            "loss is 0.03487665823527745\n",
            "Accuracy of the network on the train samples: 29.285714285714285 \n",
            "Accuracy of the network on the test samples:15.37871818460595\n",
            "epoch is 20 loss validation set is 0.026410620386561744\n",
            "loss is 0.03471752064568656\n",
            "Accuracy of the network on the train samples: 28.571428571428573 \n",
            "Accuracy of the network on the test samples:15.532045384851273\n",
            "epoch is 21 loss validation set is 0.026151704938087827\n",
            "loss is 0.03357728379113334\n",
            "Accuracy of the network on the train samples: 30.714285714285715 \n",
            "Accuracy of the network on the test samples:15.125728304201166\n",
            "epoch is 22 loss validation set is 0.02595249985449521\n",
            "loss is 0.03247504234313965\n",
            "Accuracy of the network on the train samples: 35.0 \n",
            "Accuracy of the network on the test samples:15.470714504753143\n",
            "epoch is 23 loss validation set is 0.025772862440236174\n",
            "loss is 0.03334243638174875\n",
            "Accuracy of the network on the train samples: 32.142857142857146 \n",
            "Accuracy of the network on the test samples:15.700705305121128\n",
            "epoch is 24 loss validation set is 0.02556569734916699\n",
            "loss is 0.03256852286202567\n",
            "Accuracy of the network on the train samples: 35.714285714285715 \n",
            "Accuracy of the network on the test samples:15.501379944802208\n",
            "epoch is 25 loss validation set is 0.025398759197070166\n",
            "loss is 0.032138468538011826\n",
            "Accuracy of the network on the train samples: 36.42857142857143 \n",
            "Accuracy of the network on the test samples:16.367678626188287\n",
            "epoch is 26 loss validation set is 0.025255276340898726\n",
            "loss is 0.031319149902888706\n",
            "Accuracy of the network on the train samples: 35.0 \n",
            "Accuracy of the network on the test samples:17.049984667279976\n",
            "epoch is 27 loss validation set is 0.02509800993347051\n",
            "loss is 0.03148900440761021\n",
            "Accuracy of the network on the train samples: 40.0 \n",
            "Accuracy of the network on the test samples:16.90432382704692\n",
            "epoch is 28 loss validation set is 0.025057194021646686\n",
            "loss is 0.03059248583657401\n",
            "Accuracy of the network on the train samples: 37.857142857142854 \n",
            "Accuracy of the network on the test samples:16.651333946642133\n",
            "epoch is 29 loss validation set is 0.024955601989765982\n",
            "loss is 0.03095736333302089\n",
            "Accuracy of the network on the train samples: 41.42857142857143 \n",
            "Accuracy of the network on the test samples:16.74333026678933\n",
            "epoch is 30 loss validation set is 0.024942700115678795\n",
            "loss is 0.03048090934753418\n",
            "Accuracy of the network on the train samples: 42.142857142857146 \n",
            "Accuracy of the network on the test samples:16.344679546151486\n",
            "epoch is 31 loss validation set is 0.0249774579035289\n",
            "loss is 0.029491523333958217\n",
            "Accuracy of the network on the train samples: 38.57142857142857 \n",
            "Accuracy of the network on the test samples:16.130021465808035\n",
            "epoch is 32 loss validation set is 0.02494681835613233\n",
            "loss is 0.029100372110094343\n",
            "Accuracy of the network on the train samples: 40.0 \n",
            "Accuracy of the network on the test samples:16.314014106102423\n",
            "epoch is 33 loss validation set is 0.02489095829411249\n",
            "loss is 0.029307167870657784\n",
            "Accuracy of the network on the train samples: 39.285714285714285 \n",
            "Accuracy of the network on the test samples:16.084023305734437\n",
            "epoch is 34 loss validation set is 0.024921335040042458\n",
            "loss is 0.02894079259463719\n",
            "Accuracy of the network on the train samples: 37.857142857142854 \n",
            "Accuracy of the network on the test samples:16.1836859858939\n",
            "epoch is 35 loss validation set is 0.024875782724905145\n",
            "loss is 0.027931227854319982\n",
            "Accuracy of the network on the train samples: 47.857142857142854 \n",
            "Accuracy of the network on the test samples:16.85832566697332\n",
            "epoch is 36 loss validation set is 0.02482646787799015\n",
            "loss is 0.028460471970694404\n",
            "Accuracy of the network on the train samples: 42.142857142857146 \n",
            "Accuracy of the network on the test samples:17.272309107635696\n",
            "epoch is 37 loss validation set is 0.024841383990609766\n",
            "loss is 0.028318234852382114\n",
            "Accuracy of the network on the train samples: 43.57142857142857 \n",
            "Accuracy of the network on the test samples:17.333639987733825\n",
            "epoch is 38 loss validation set is 0.024794680726414844\n",
            "loss is 0.0282174961907523\n",
            "Accuracy of the network on the train samples: 40.0 \n",
            "Accuracy of the network on the test samples:17.44096902790555\n",
            "epoch is 39 loss validation set is 0.024863528825139314\n",
            "loss is 0.02785347104072571\n",
            "Accuracy of the network on the train samples: 45.714285714285715 \n",
            "Accuracy of the network on the test samples:17.594296228150874\n",
            "epoch is 40 loss validation set is 0.024888871089697836\n",
            "loss is 0.026789072581699918\n",
            "Accuracy of the network on the train samples: 45.714285714285715 \n",
            "Accuracy of the network on the test samples:17.16498006746397\n",
            "epoch is 41 loss validation set is 0.02496963289755687\n",
            "loss is 0.02700992056301662\n",
            "Accuracy of the network on the train samples: 44.285714285714285 \n",
            "Accuracy of the network on the test samples:17.1803127874885\n",
            "epoch is 42 loss validation set is 0.02500275699538857\n",
            "loss is 0.025990909337997435\n",
            "Accuracy of the network on the train samples: 45.0 \n",
            "Accuracy of the network on the test samples:16.704998466727996\n",
            "epoch is 43 loss validation set is 0.025131928485728816\n",
            "loss is 0.02675026399748666\n",
            "Accuracy of the network on the train samples: 45.0 \n",
            "Accuracy of the network on the test samples:16.88132474701012\n",
            "epoch is 44 loss validation set is 0.02517929368865742\n",
            "loss is 0.026551470586231776\n",
            "Accuracy of the network on the train samples: 42.857142857142854 \n",
            "Accuracy of the network on the test samples:16.973321067157315\n",
            "epoch is 45 loss validation set is 0.025298323360040707\n",
            "loss is 0.02708465542112078\n",
            "Accuracy of the network on the train samples: 41.42857142857143 \n",
            "Accuracy of the network on the test samples:17.41796994786875\n",
            "epoch is 46 loss validation set is 0.025210135738310803\n",
            "loss is 0.027013553040368215\n",
            "Accuracy of the network on the train samples: 43.57142857142857 \n",
            "Accuracy of the network on the test samples:17.356639067770622\n",
            "epoch is 47 loss validation set is 0.025197150223973848\n",
            "loss is 0.02584250399044582\n",
            "Accuracy of the network on the train samples: 42.142857142857146 \n",
            "Accuracy of the network on the test samples:17.509966268015948\n",
            "epoch is 48 loss validation set is 0.025205119224239514\n",
            "loss is 0.02532813038144793\n",
            "Accuracy of the network on the train samples: 44.285714285714285 \n",
            "Accuracy of the network on the test samples:18.215271389144434\n",
            "epoch is 49 loss validation set is 0.02512307883186305\n",
            "loss is 0.025472245046070645\n",
            "Accuracy of the network on the train samples: 48.57142857142857 \n",
            "Accuracy of the network on the test samples:18.14627414903404\n",
            "epoch is 50 loss validation set is 0.025179001879962592\n",
            "loss is 0.024886591945375715\n",
            "Accuracy of the network on the train samples: 47.857142857142854 \n",
            "Accuracy of the network on the test samples:17.969947868751916\n",
            "epoch is 51 loss validation set is 0.025264026105349065\n",
            "loss is 0.02577027678489685\n",
            "Accuracy of the network on the train samples: 47.857142857142854 \n",
            "Accuracy of the network on the test samples:18.10027598896044\n",
            "epoch is 52 loss validation set is 0.025282768631449362\n",
            "loss is 0.02451122488294329\n",
            "Accuracy of the network on the train samples: 48.57142857142857 \n",
            "Accuracy of the network on the test samples:18.092609628948175\n",
            "epoch is 53 loss validation set is 0.025396486653465684\n",
            "loss is 0.023939686162131175\n",
            "Accuracy of the network on the train samples: 49.285714285714285 \n",
            "Accuracy of the network on the test samples:18.130941429009507\n",
            "epoch is 54 loss validation set is 0.025420017803201498\n",
            "loss is 0.025649149077279228\n",
            "Accuracy of the network on the train samples: 51.42857142857143 \n",
            "Accuracy of the network on the test samples:18.268935909230297\n",
            "epoch is 55 loss validation set is 0.025583825422846734\n",
            "loss is 0.02401557905333383\n",
            "Accuracy of the network on the train samples: 51.42857142857143 \n",
            "Accuracy of the network on the test samples:18.215271389144434\n",
            "epoch is 56 loss validation set is 0.025598773631681077\n",
            "loss is 0.02301714335169111\n",
            "Accuracy of the network on the train samples: 52.857142857142854 \n",
            "Accuracy of the network on the test samples:17.931616068690587\n",
            "epoch is 57 loss validation set is 0.025627340341191903\n",
            "loss is 0.023247555324009486\n",
            "Accuracy of the network on the train samples: 52.857142857142854 \n",
            "Accuracy of the network on the test samples:18.14627414903404\n",
            "epoch is 58 loss validation set is 0.0257707386797683\n",
            "loss is 0.023169387238366264\n",
            "Accuracy of the network on the train samples: 54.285714285714285 \n",
            "Accuracy of the network on the test samples:18.291934989267094\n",
            "epoch is 59 loss validation set is 0.02585589275225581\n",
            "loss is 0.022157331023897442\n",
            "Accuracy of the network on the train samples: 56.42857142857143 \n",
            "Accuracy of the network on the test samples:18.14627414903404\n",
            "epoch is 60 loss validation set is 0.025898760409122666\n",
            "loss is 0.024056075300489154\n",
            "Accuracy of the network on the train samples: 45.714285714285715 \n",
            "Accuracy of the network on the test samples:18.08494326893591\n",
            "epoch is 61 loss validation set is 0.025934014865789848\n",
            "loss is 0.0214053784097944\n",
            "Accuracy of the network on the train samples: 55.714285714285715 \n",
            "Accuracy of the network on the test samples:17.916283348666052\n",
            "epoch is 62 loss validation set is 0.025989682332243302\n",
            "loss is 0.022857754571097236\n",
            "Accuracy of the network on the train samples: 52.857142857142854 \n",
            "Accuracy of the network on the test samples:18.475927629561482\n",
            "epoch is 63 loss validation set is 0.025989123170853248\n",
            "loss is 0.02167984332357134\n",
            "Accuracy of the network on the train samples: 51.42857142857143 \n",
            "Accuracy of the network on the test samples:18.48359398957375\n",
            "epoch is 64 loss validation set is 0.026128622568739372\n",
            "loss is 0.022240723030907766\n",
            "Accuracy of the network on the train samples: 57.857142857142854 \n",
            "Accuracy of the network on the test samples:18.061944188899112\n",
            "epoch is 65 loss validation set is 0.02634808588378892\n",
            "loss is 0.022191579001290457\n",
            "Accuracy of the network on the train samples: 55.714285714285715 \n",
            "Accuracy of the network on the test samples:17.82428702851886\n",
            "epoch is 66 loss validation set is 0.026422782311297677\n",
            "loss is 0.021117516926356723\n",
            "Accuracy of the network on the train samples: 56.42857142857143 \n",
            "Accuracy of the network on the test samples:18.16160686905857\n",
            "epoch is 67 loss validation set is 0.02652385517411055\n",
            "loss is 0.022397281442369733\n",
            "Accuracy of the network on the train samples: 57.857142857142854 \n",
            "Accuracy of the network on the test samples:18.130941429009507\n",
            "epoch is 68 loss validation set is 0.026695789697893338\n",
            "loss is 0.020626839569636752\n",
            "Accuracy of the network on the train samples: 58.57142857142857 \n",
            "Accuracy of the network on the test samples:17.939282428702853\n",
            "epoch is 69 loss validation set is 0.026839132361600678\n",
            "loss is 0.02028942108154297\n",
            "Accuracy of the network on the train samples: 57.142857142857146 \n",
            "Accuracy of the network on the test samples:17.670959828273535\n",
            "epoch is 70 loss validation set is 0.026985334439790894\n",
            "loss is 0.02080685496330261\n",
            "Accuracy of the network on the train samples: 57.857142857142854 \n",
            "Accuracy of the network on the test samples:18.115608708984976\n",
            "epoch is 71 loss validation set is 0.026946262050647377\n",
            "loss is 0.02008170911243984\n",
            "Accuracy of the network on the train samples: 60.0 \n",
            "Accuracy of the network on the test samples:18.452928549524685\n",
            "epoch is 72 loss validation set is 0.026977973512914494\n",
            "loss is 0.02005247644015721\n",
            "Accuracy of the network on the train samples: 57.142857142857146 \n",
            "Accuracy of the network on the test samples:18.276602269242563\n",
            "epoch is 73 loss validation set is 0.02701782617273597\n",
            "loss is 0.02052021196910313\n",
            "Accuracy of the network on the train samples: 59.285714285714285 \n",
            "Accuracy of the network on the test samples:18.44526218951242\n",
            "epoch is 74 loss validation set is 0.02713201743113925\n",
            "loss is 0.019659256083624704\n",
            "Accuracy of the network on the train samples: 57.857142857142854 \n",
            "Accuracy of the network on the test samples:18.031278748850045\n",
            "epoch is 75 loss validation set is 0.02717902531692566\n",
            "loss is 0.01974071775163923\n",
            "Accuracy of the network on the train samples: 60.714285714285715 \n",
            "Accuracy of the network on the test samples:17.969947868751916\n",
            "epoch is 76 loss validation set is 0.027375234357786486\n",
            "loss is 0.021776703425816127\n",
            "Accuracy of the network on the train samples: 52.857142857142854 \n",
            "Accuracy of the network on the test samples:17.686292548298066\n",
            "epoch is 77 loss validation set is 0.027376706872166246\n",
            "loss is 0.019287869759968348\n",
            "Accuracy of the network on the train samples: 64.28571428571429 \n",
            "Accuracy of the network on the test samples:17.52529898804048\n",
            "epoch is 78 loss validation set is 0.02744059234044187\n",
            "loss is 0.019923813853945052\n",
            "Accuracy of the network on the train samples: 62.142857142857146 \n",
            "Accuracy of the network on the test samples:17.90095062864152\n",
            "epoch is 79 loss validation set is 0.027455612071194336\n",
            "loss is 0.019603141716548374\n",
            "Accuracy of the network on the train samples: 60.714285714285715 \n",
            "Accuracy of the network on the test samples:18.069610548911378\n",
            "epoch is 80 loss validation set is 0.027537948238597402\n",
            "loss is 0.018108007737568446\n",
            "Accuracy of the network on the train samples: 65.71428571428571 \n",
            "Accuracy of the network on the test samples:18.03894510886231\n",
            "epoch is 81 loss validation set is 0.027612323886739152\n",
            "loss is 0.01990796753338405\n",
            "Accuracy of the network on the train samples: 62.857142857142854 \n",
            "Accuracy of the network on the test samples:18.452928549524685\n",
            "epoch is 82 loss validation set is 0.02764139377204453\n",
            "loss is 0.01931898423603603\n",
            "Accuracy of the network on the train samples: 67.14285714285714 \n",
            "Accuracy of the network on the test samples:18.092609628948175\n",
            "epoch is 83 loss validation set is 0.02787519310998317\n",
            "loss is 0.018718011038643973\n",
            "Accuracy of the network on the train samples: 63.57142857142857 \n",
            "Accuracy of the network on the test samples:18.031278748850045\n",
            "epoch is 84 loss validation set is 0.02786085308420625\n",
            "loss is 0.018554967641830445\n",
            "Accuracy of the network on the train samples: 67.85714285714286 \n",
            "Accuracy of the network on the test samples:18.38393130941429\n",
            "epoch is 85 loss validation set is 0.027858699768169348\n",
            "loss is 0.019900834560394286\n",
            "Accuracy of the network on the train samples: 62.857142857142854 \n",
            "Accuracy of the network on the test samples:18.452928549524685\n",
            "epoch is 86 loss validation set is 0.028085071775160914\n",
            "loss is 0.018101114886147636\n",
            "Accuracy of the network on the train samples: 67.14285714285714 \n",
            "Accuracy of the network on the test samples:18.215271389144434\n",
            "epoch is 87 loss validation set is 0.028172664483680714\n",
            "loss is 0.018420472315379553\n",
            "Accuracy of the network on the train samples: 65.71428571428571 \n",
            "Accuracy of the network on the test samples:17.785955228457528\n",
            "epoch is 88 loss validation set is 0.028516046750841607\n",
            "loss is 0.017294064589909144\n",
            "Accuracy of the network on the train samples: 67.14285714285714 \n",
            "Accuracy of the network on the test samples:17.977614228764182\n",
            "epoch is 89 loss validation set is 0.028652330934178863\n",
            "loss is 0.01860610672405788\n",
            "Accuracy of the network on the train samples: 62.142857142857146 \n",
            "Accuracy of the network on the test samples:17.19564550751303\n",
            "epoch is 90 loss validation set is 0.028794559917724852\n",
            "loss is 0.01717834642955235\n",
            "Accuracy of the network on the train samples: 70.0 \n",
            "Accuracy of the network on the test samples:18.08494326893591\n",
            "epoch is 91 loss validation set is 0.028610633582799794\n",
            "loss is 0.016864338091441562\n",
            "Accuracy of the network on the train samples: 71.42857142857143 \n",
            "Accuracy of the network on the test samples:18.08494326893591\n",
            "epoch is 92 loss validation set is 0.02871006802158537\n",
            "loss is 0.017139890364238193\n",
            "Accuracy of the network on the train samples: 64.28571428571429 \n",
            "Accuracy of the network on the test samples:18.429929469487888\n",
            "epoch is 93 loss validation set is 0.028855201657730097\n",
            "loss is 0.01694888642856053\n",
            "Accuracy of the network on the train samples: 69.28571428571429 \n",
            "Accuracy of the network on the test samples:18.50659306961055\n",
            "epoch is 94 loss validation set is 0.028907328432814836\n",
            "loss is 0.01747937457902091\n",
            "Accuracy of the network on the train samples: 67.85714285714286 \n",
            "Accuracy of the network on the test samples:18.115608708984976\n",
            "epoch is 95 loss validation set is 0.0290275748358735\n",
            "loss is 0.016047229937144688\n",
            "Accuracy of the network on the train samples: 70.0 \n",
            "Accuracy of the network on the test samples:18.422263109475622\n",
            "epoch is 96 loss validation set is 0.029138367276950614\n",
            "loss is 0.0158899188041687\n",
            "Accuracy of the network on the train samples: 68.57142857142857 \n",
            "Accuracy of the network on the test samples:18.268935909230297\n",
            "epoch is 97 loss validation set is 0.029181279641870558\n",
            "loss is 0.01648009249142238\n",
            "Accuracy of the network on the train samples: 72.14285714285714 \n",
            "Accuracy of the network on the test samples:18.192272309107636\n",
            "epoch is 98 loss validation set is 0.029328501542555487\n",
            "loss is 0.01571710365159171\n",
            "Accuracy of the network on the train samples: 70.0 \n",
            "Accuracy of the network on the test samples:18.698252069917203\n",
            "epoch is 99 loss validation set is 0.029229263665668075\n",
            "loss is 0.01626160570553371\n",
            "Accuracy of the network on the train samples: 72.85714285714286 \n",
            "Accuracy of the network on the test samples:18.238270469181234\n",
            "epoch is 100 loss validation set is 0.029377740974332687\n",
            "loss is 0.01529811109815325\n",
            "Accuracy of the network on the train samples: 70.71428571428571 \n",
            "Accuracy of the network on the test samples:18.713584789941734\n",
            "epoch is 101 loss validation set is 0.029478507460863522\n",
            "loss is 0.0152340510061809\n",
            "Accuracy of the network on the train samples: 75.71428571428571 \n",
            "Accuracy of the network on the test samples:18.44526218951242\n",
            "epoch is 102 loss validation set is 0.02974449688947409\n",
            "loss is 0.015662723779678346\n",
            "Accuracy of the network on the train samples: 72.14285714285714 \n",
            "Accuracy of the network on the test samples:18.337933149340692\n",
            "epoch is 103 loss validation set is 0.02984094482665777\n",
            "loss is 0.014764621428080967\n",
            "Accuracy of the network on the train samples: 72.14285714285714 \n",
            "Accuracy of the network on the test samples:17.86261882858019\n",
            "epoch is 104 loss validation set is 0.030046736305749187\n",
            "loss is 0.015680272238595146\n",
            "Accuracy of the network on the train samples: 69.28571428571429 \n",
            "Accuracy of the network on the test samples:18.138607789021773\n",
            "epoch is 105 loss validation set is 0.030191124582246782\n",
            "loss is 0.015204939671925136\n",
            "Accuracy of the network on the train samples: 70.0 \n",
            "Accuracy of the network on the test samples:17.923949708678318\n",
            "epoch is 106 loss validation set is 0.0303604674463585\n",
            "loss is 0.01574096041066306\n",
            "Accuracy of the network on the train samples: 71.42857142857143 \n",
            "Accuracy of the network on the test samples:18.16160686905857\n",
            "epoch is 107 loss validation set is 0.030349044977467106\n",
            "loss is 0.014023129854883467\n",
            "Accuracy of the network on the train samples: 77.14285714285714 \n",
            "Accuracy of the network on the test samples:18.2459368291935\n",
            "epoch is 108 loss validation set is 0.030531854780858663\n",
            "loss is 0.014971237097467695\n",
            "Accuracy of the network on the train samples: 75.0 \n",
            "Accuracy of the network on the test samples:17.847286108555657\n",
            "epoch is 109 loss validation set is 0.0305598948638668\n",
            "loss is 0.01471015555518014\n",
            "Accuracy of the network on the train samples: 71.42857142857143 \n",
            "Accuracy of the network on the test samples:18.215271389144434\n",
            "epoch is 110 loss validation set is 0.03070858856608845\n",
            "loss is 0.015445459740502494\n",
            "Accuracy of the network on the train samples: 75.0 \n",
            "Accuracy of the network on the test samples:18.353265869365224\n",
            "epoch is 111 loss validation set is 0.03074341698023338\n",
            "loss is 0.014837437442370824\n",
            "Accuracy of the network on the train samples: 74.28571428571429 \n",
            "Accuracy of the network on the test samples:18.698252069917203\n",
            "epoch is 112 loss validation set is 0.03079078554631888\n",
            "loss is 0.01410764924117497\n",
            "Accuracy of the network on the train samples: 71.42857142857143 \n",
            "Accuracy of the network on the test samples:18.44526218951242\n",
            "epoch is 113 loss validation set is 0.030857088137389473\n",
            "loss is 0.013026450787271772\n",
            "Accuracy of the network on the train samples: 75.71428571428571 \n",
            "Accuracy of the network on the test samples:18.061944188899112\n",
            "epoch is 114 loss validation set is 0.031133231941961284\n",
            "loss is 0.014175564476421902\n",
            "Accuracy of the network on the train samples: 72.14285714285714 \n",
            "Accuracy of the network on the test samples:18.253603189205766\n",
            "epoch is 115 loss validation set is 0.031321360139311624\n",
            "loss is 0.014355230331420898\n",
            "Accuracy of the network on the train samples: 74.28571428571429 \n",
            "Accuracy of the network on the test samples:17.808954308494325\n",
            "epoch is 116 loss validation set is 0.03143642026198784\n",
            "loss is 0.01355860275881631\n",
            "Accuracy of the network on the train samples: 75.0 \n",
            "Accuracy of the network on the test samples:17.96228150873965\n",
            "epoch is 117 loss validation set is 0.03172957268422164\n",
            "loss is 0.01357710531779698\n",
            "Accuracy of the network on the train samples: 75.71428571428571 \n",
            "Accuracy of the network on the test samples:17.954615148727385\n",
            "epoch is 118 loss validation set is 0.031703061941977986\n",
            "loss is 0.012492117711475917\n",
            "Accuracy of the network on the train samples: 75.71428571428571 \n",
            "Accuracy of the network on the test samples:17.793621588469794\n",
            "epoch is 119 loss validation set is 0.0317139266020533\n",
            "loss is 0.016557606628962926\n",
            "Accuracy of the network on the train samples: 71.42857142857143 \n",
            "Accuracy of the network on the test samples:18.061944188899112\n",
            "epoch is 120 loss validation set is 0.031811395714305656\n",
            "loss is 0.013991984724998473\n",
            "Accuracy of the network on the train samples: 74.28571428571429 \n",
            "Accuracy of the network on the test samples:18.613922109782276\n",
            "epoch is 121 loss validation set is 0.031718765581652125\n",
            "loss is 0.01309102007320949\n",
            "Accuracy of the network on the train samples: 76.42857142857143 \n",
            "Accuracy of the network on the test samples:18.253603189205766\n",
            "epoch is 122 loss validation set is 0.031780390131148195\n",
            "loss is 0.012868710926600866\n",
            "Accuracy of the network on the train samples: 77.85714285714286 \n",
            "Accuracy of the network on the test samples:18.422263109475622\n",
            "epoch is 123 loss validation set is 0.03178729670283912\n",
            "loss is 0.012419711266245161\n",
            "Accuracy of the network on the train samples: 77.85714285714286 \n",
            "Accuracy of the network on the test samples:18.276602269242563\n",
            "epoch is 124 loss validation set is 0.03170293383128948\n",
            "loss is 0.01217544674873352\n",
            "Accuracy of the network on the train samples: 75.0 \n",
            "Accuracy of the network on the test samples:18.437595829500154\n",
            "epoch is 125 loss validation set is 0.03198883945464503\n",
            "loss is 0.013013288804462978\n",
            "Accuracy of the network on the train samples: 76.42857142857143 \n",
            "Accuracy of the network on the test samples:18.437595829500154\n",
            "epoch is 126 loss validation set is 0.03206707752397988\n",
            "loss is 0.012170786091259548\n",
            "Accuracy of the network on the train samples: 80.71428571428571 \n",
            "Accuracy of the network on the test samples:18.537258509659612\n",
            "epoch is 127 loss validation set is 0.03240586473180706\n",
            "loss is 0.011828285029956273\n",
            "Accuracy of the network on the train samples: 80.71428571428571 \n",
            "Accuracy of the network on the test samples:18.475927629561482\n",
            "epoch is 128 loss validation set is 0.03269257912128405\n",
            "loss is 0.013909680502755302\n",
            "Accuracy of the network on the train samples: 73.57142857142857 \n",
            "Accuracy of the network on the test samples:18.537258509659612\n",
            "epoch is 129 loss validation set is 0.0326982454009233\n",
            "loss is 0.011001312306949071\n",
            "Accuracy of the network on the train samples: 84.28571428571429 \n",
            "Accuracy of the network on the test samples:18.39926402943882\n",
            "epoch is 130 loss validation set is 0.0327032245547082\n",
            "loss is 0.012954539912087577\n",
            "Accuracy of the network on the train samples: 79.28571428571429 \n",
            "Accuracy of the network on the test samples:18.345599509352958\n",
            "epoch is 131 loss validation set is 0.032661956024111434\n",
            "loss is 0.013480178373200553\n",
            "Accuracy of the network on the train samples: 75.0 \n",
            "Accuracy of the network on the test samples:18.176939589083105\n",
            "epoch is 132 loss validation set is 0.032669044809449634\n",
            "loss is 0.012091481259890966\n",
            "Accuracy of the network on the train samples: 77.14285714285714 \n",
            "Accuracy of the network on the test samples:18.230604109168965\n",
            "epoch is 134 loss validation set is 0.0328449646193204\n",
            "loss is 0.011168771130698068\n",
            "Accuracy of the network on the train samples: 82.85714285714286 \n",
            "Accuracy of the network on the test samples:17.755289788408465\n",
            "epoch is 135 loss validation set is 0.032932815980194756\n",
            "loss is 0.012329786590167454\n",
            "Accuracy of the network on the train samples: 79.28571428571429 \n",
            "Accuracy of the network on the test samples:17.83961974854339\n",
            "epoch is 136 loss validation set is 0.03308574853956754\n",
            "loss is 0.011236557790211269\n",
            "Accuracy of the network on the train samples: 79.28571428571429 \n",
            "Accuracy of the network on the test samples:17.7246243483594\n",
            "epoch is 137 loss validation set is 0.03343387298589833\n",
            "loss is 0.012348289149148123\n",
            "Accuracy of the network on the train samples: 82.85714285714286 \n",
            "Accuracy of the network on the test samples:17.655627108249003\n",
            "epoch is 138 loss validation set is 0.033698856355368234\n",
            "loss is 0.011447385804993765\n",
            "Accuracy of the network on the train samples: 80.0 \n",
            "Accuracy of the network on the test samples:17.785955228457528\n",
            "epoch is 139 loss validation set is 0.03362953714050789\n",
            "loss is 0.012108314037322997\n",
            "Accuracy of the network on the train samples: 82.14285714285714 \n",
            "Accuracy of the network on the test samples:17.908616988653787\n",
            "epoch is 140 loss validation set is 0.0337147530292814\n",
            "loss is 0.010373076796531678\n",
            "Accuracy of the network on the train samples: 81.42857142857143 \n",
            "Accuracy of the network on the test samples:18.192272309107636\n",
            "epoch is 141 loss validation set is 0.033860319306315986\n",
            "loss is 0.012397960679871695\n",
            "Accuracy of the network on the train samples: 80.0 \n",
            "Accuracy of the network on the test samples:17.96228150873965\n",
            "epoch is 142 loss validation set is 0.03382926091793965\n",
            "loss is 0.010481269444738116\n",
            "Accuracy of the network on the train samples: 80.0 \n",
            "Accuracy of the network on the test samples:18.18460594909537\n",
            "epoch is 143 loss validation set is 0.0339522990885047\n",
            "loss is 0.009569671750068665\n",
            "Accuracy of the network on the train samples: 85.71428571428571 \n",
            "Accuracy of the network on the test samples:18.230604109168965\n",
            "epoch is 144 loss validation set is 0.03389046642539765\n",
            "loss is 0.009774091839790344\n",
            "Accuracy of the network on the train samples: 85.71428571428571 \n",
            "Accuracy of the network on the test samples:17.94694878871512\n",
            "epoch is 145 loss validation set is 0.03418671711936607\n",
            "loss is 0.010667534385408675\n",
            "Accuracy of the network on the train samples: 82.14285714285714 \n",
            "Accuracy of the network on the test samples:18.03894510886231\n",
            "epoch is 146 loss validation set is 0.03426394625991007\n",
            "loss is 0.010182748096329824\n",
            "Accuracy of the network on the train samples: 86.42857142857143 \n",
            "Accuracy of the network on the test samples:17.82428702851886\n",
            "epoch is 147 loss validation set is 0.034524787042594984\n",
            "loss is 0.009381046891212464\n",
            "Accuracy of the network on the train samples: 87.14285714285714 \n",
            "Accuracy of the network on the test samples:17.908616988653787\n",
            "epoch is 148 loss validation set is 0.03462182051636112\n",
            "loss is 0.011214305247579302\n",
            "Accuracy of the network on the train samples: 79.28571428571429 \n",
            "Accuracy of the network on the test samples:17.793621588469794\n",
            "epoch is 149 loss validation set is 0.03469852324973875\n",
            "loss is 0.009901152764047896\n",
            "Accuracy of the network on the train samples: 82.85714285714286 \n",
            "Accuracy of the network on the test samples:17.816620668506594\n",
            "epoch is 150 loss validation set is 0.03468182088041262\n",
            "loss is 0.009626144596508571\n",
            "Accuracy of the network on the train samples: 85.0 \n",
            "Accuracy of the network on the test samples:18.046611468874577\n",
            "epoch is 151 loss validation set is 0.034582749059396956\n",
            "loss is 0.01003883523600442\n",
            "Accuracy of the network on the train samples: 83.57142857142857 \n",
            "Accuracy of the network on the test samples:18.468261269549217\n",
            "epoch is 152 loss validation set is 0.034704825750928245\n",
            "loss is 0.011609101295471191\n",
            "Accuracy of the network on the train samples: 80.71428571428571 \n",
            "Accuracy of the network on the test samples:18.253603189205766\n",
            "epoch is 153 loss validation set is 0.03486779777230898\n",
            "loss is 0.01291558699948447\n",
            "Accuracy of the network on the train samples: 78.57142857142857 \n",
            "Accuracy of the network on the test samples:18.590923029745476\n",
            "epoch is 154 loss validation set is 0.034971855217530955\n",
            "loss is 0.008887174725532531\n",
            "Accuracy of the network on the train samples: 85.71428571428571 \n",
            "Accuracy of the network on the test samples:18.437595829500154\n",
            "epoch is 155 loss validation set is 0.03498703082329435\n",
            "loss is 0.009286635262625558\n",
            "Accuracy of the network on the train samples: 86.42857142857143 \n",
            "Accuracy of the network on the test samples:18.429929469487888\n",
            "epoch is 156 loss validation set is 0.03524358509801276\n",
            "loss is 0.009338595611708505\n",
            "Accuracy of the network on the train samples: 84.28571428571429 \n",
            "Accuracy of the network on the test samples:18.636921189819073\n",
            "epoch is 157 loss validation set is 0.03529513918596775\n",
            "loss is 0.009536564775875637\n",
            "Accuracy of the network on the train samples: 89.28571428571429 \n",
            "Accuracy of the network on the test samples:18.652253909843605\n",
            "epoch is 158 loss validation set is 0.03549809771715882\n",
            "loss is 0.008738002181053162\n",
            "Accuracy of the network on the train samples: 84.28571428571429 \n",
            "Accuracy of the network on the test samples:18.276602269242563\n",
            "epoch is 159 loss validation set is 0.03549369996912236\n",
            "loss is 0.009177305442946298\n",
            "Accuracy of the network on the train samples: 87.14285714285714 \n",
            "Accuracy of the network on the test samples:18.230604109168965\n",
            "epoch is 160 loss validation set is 0.03541735904928147\n",
            "loss is 0.007999302659715926\n",
            "Accuracy of the network on the train samples: 85.71428571428571 \n",
            "Accuracy of the network on the test samples:17.532965348052745\n",
            "epoch is 161 loss validation set is 0.03554493974813176\n",
            "loss is 0.008448692304747445\n",
            "Accuracy of the network on the train samples: 87.85714285714286 \n",
            "Accuracy of the network on the test samples:18.414596749463353\n",
            "epoch is 162 loss validation set is 0.035396080136262574\n",
            "loss is 0.00938741649900164\n",
            "Accuracy of the network on the train samples: 87.85714285714286 \n",
            "Accuracy of the network on the test samples:18.169273229070836\n",
            "epoch is 163 loss validation set is 0.0358995444311828\n",
            "loss is 0.009405995266778128\n",
            "Accuracy of the network on the train samples: 85.71428571428571 \n",
            "Accuracy of the network on the test samples:18.291934989267094\n",
            "epoch is 164 loss validation set is 0.03580683160873689\n",
            "loss is 0.0091103589960507\n",
            "Accuracy of the network on the train samples: 87.14285714285714 \n",
            "Accuracy of the network on the test samples:18.253603189205766\n",
            "epoch is 165 loss validation set is 0.03621287738498242\n",
            "loss is 0.008612090349197387\n",
            "Accuracy of the network on the train samples: 85.71428571428571 \n",
            "Accuracy of the network on the test samples:17.992946948788717\n",
            "epoch is 166 loss validation set is 0.0365852495893603\n",
            "loss is 0.009253938283239092\n",
            "Accuracy of the network on the train samples: 87.14285714285714 \n",
            "Accuracy of the network on the test samples:18.061944188899112\n",
            "epoch is 167 loss validation set is 0.036727550734555345\n",
            "loss is 0.00910476062979017\n",
            "Accuracy of the network on the train samples: 85.0 \n",
            "Accuracy of the network on the test samples:17.923949708678318\n",
            "epoch is 168 loss validation set is 0.03687276621970323\n",
            "loss is 0.008272798572267806\n",
            "Accuracy of the network on the train samples: 88.57142857142857 \n",
            "Accuracy of the network on the test samples:18.16160686905857\n",
            "epoch is 169 loss validation set is 0.036754117919345165\n",
            "loss is 0.008390451541968755\n",
            "Accuracy of the network on the train samples: 90.0 \n",
            "Accuracy of the network on the test samples:17.83961974854339\n",
            "epoch is 170 loss validation set is 0.03689337328729802\n",
            "loss is 0.007849495112895965\n",
            "Accuracy of the network on the train samples: 90.0 \n",
            "Accuracy of the network on the test samples:18.68291934989267\n",
            "epoch is 171 loss validation set is 0.03675699398511029\n",
            "loss is 0.0077587625810078215\n",
            "Accuracy of the network on the train samples: 89.28571428571429 \n",
            "Accuracy of the network on the test samples:18.50659306961055\n",
            "epoch is 172 loss validation set is 0.036561890472410936\n",
            "loss is 0.00795517201934542\n",
            "Accuracy of the network on the train samples: 88.57142857142857 \n",
            "Accuracy of the network on the test samples:18.46059490953695\n",
            "epoch is 173 loss validation set is 0.03659328475608229\n",
            "loss is 0.008172521846635\n",
            "Accuracy of the network on the train samples: 90.0 \n",
            "Accuracy of the network on the test samples:18.18460594909537\n",
            "epoch is 174 loss validation set is 0.03678134684181038\n",
            "loss is 0.008755486564976829\n",
            "Accuracy of the network on the train samples: 91.42857142857143 \n",
            "Accuracy of the network on the test samples:18.268935909230297\n",
            "epoch is 175 loss validation set is 0.03688747922689115\n",
            "loss is 0.00803771870476859\n",
            "Accuracy of the network on the train samples: 87.85714285714286 \n",
            "Accuracy of the network on the test samples:17.977614228764182\n",
            "epoch is 176 loss validation set is 0.037244411214514404\n",
            "loss is 0.009099186531135015\n",
            "Accuracy of the network on the train samples: 87.85714285714286 \n",
            "Accuracy of the network on the test samples:17.893284268629255\n",
            "epoch is 177 loss validation set is 0.0374708789983654\n",
            "loss is 0.007770818471908569\n",
            "Accuracy of the network on the train samples: 90.0 \n",
            "Accuracy of the network on the test samples:17.640294388224472\n",
            "epoch is 178 loss validation set is 0.03784240125622789\n",
            "loss is 0.008092151582241058\n",
            "Accuracy of the network on the train samples: 88.57142857142857 \n",
            "Accuracy of the network on the test samples:18.115608708984976\n",
            "epoch is 179 loss validation set is 0.03772239162672593\n",
            "loss is 0.0073366037436894006\n",
            "Accuracy of the network on the train samples: 90.71428571428571 \n",
            "Accuracy of the network on the test samples:18.12327506899724\n",
            "epoch is 180 loss validation set is 0.03806079572711536\n",
            "loss is 0.009403903143746513\n",
            "Accuracy of the network on the train samples: 89.28571428571429 \n",
            "Accuracy of the network on the test samples:18.061944188899112\n",
            "epoch is 181 loss validation set is 0.03777774549707683\n",
            "loss is 0.00786298598561968\n",
            "Accuracy of the network on the train samples: 90.0 \n",
            "Accuracy of the network on the test samples:17.7246243483594\n",
            "epoch is 182 loss validation set is 0.03801030922213861\n",
            "loss is 0.008781930804252625\n",
            "Accuracy of the network on the train samples: 89.28571428571429 \n",
            "Accuracy of the network on the test samples:17.893284268629255\n",
            "epoch is 183 loss validation set is 0.03804959614048045\n",
            "loss is 0.011615656954901559\n",
            "Accuracy of the network on the train samples: 85.0 \n",
            "Accuracy of the network on the test samples:18.046611468874577\n",
            "epoch is 184 loss validation set is 0.038096399732763436\n",
            "loss is 0.008176582838807787\n",
            "Accuracy of the network on the train samples: 90.0 \n",
            "Accuracy of the network on the test samples:17.7016252683226\n",
            "epoch is 185 loss validation set is 0.03805986767859226\n",
            "loss is 0.006813127228191921\n",
            "Accuracy of the network on the train samples: 93.57142857142857 \n",
            "Accuracy of the network on the test samples:17.94694878871512\n",
            "epoch is 186 loss validation set is 0.03796451042781246\n",
            "loss is 0.007252675082002368\n",
            "Accuracy of the network on the train samples: 88.57142857142857 \n",
            "Accuracy of the network on the test samples:18.215271389144434\n",
            "epoch is 187 loss validation set is 0.03787361835270928\n",
            "loss is 0.006940178998879024\n",
            "Accuracy of the network on the train samples: 92.85714285714286 \n",
            "Accuracy of the network on the test samples:17.808954308494325\n",
            "epoch is 188 loss validation set is 0.0382370603336801\n",
            "loss is 0.0075798430613109044\n",
            "Accuracy of the network on the train samples: 88.57142857142857 \n",
            "Accuracy of the network on the test samples:17.73995706838393\n",
            "epoch is 189 loss validation set is 0.038606723094783434\n",
            "loss is 0.008037789378847394\n",
            "Accuracy of the network on the train samples: 87.14285714285714 \n",
            "Accuracy of the network on the test samples:17.877951548604724\n",
            "epoch is 190 loss validation set is 0.03876785554245402\n",
            "loss is 0.0078002806220735825\n",
            "Accuracy of the network on the train samples: 90.71428571428571 \n",
            "Accuracy of the network on the test samples:17.86261882858019\n",
            "epoch is 191 loss validation set is 0.03903433250086836\n",
            "loss is 0.0075998459543500626\n",
            "Accuracy of the network on the train samples: 90.71428571428571 \n",
            "Accuracy of the network on the test samples:17.594296228150874\n",
            "epoch is 192 loss validation set is 0.03913685141147846\n",
            "loss is 0.007630649847643716\n",
            "Accuracy of the network on the train samples: 89.28571428571429 \n",
            "Accuracy of the network on the test samples:17.808954308494325\n",
            "epoch is 193 loss validation set is 0.03902457579993207\n",
            "loss is 0.007273771294525691\n",
            "Accuracy of the network on the train samples: 88.57142857142857 \n",
            "Accuracy of the network on the test samples:17.509966268015948\n",
            "epoch is 194 loss validation set is 0.038902547801063676\n",
            "loss is 0.006819582198347364\n",
            "Accuracy of the network on the train samples: 92.14285714285714 \n",
            "Accuracy of the network on the test samples:17.76295614842073\n",
            "epoch is 195 loss validation set is 0.03892956425974757\n",
            "loss is 0.010414035831178938\n",
            "Accuracy of the network on the train samples: 85.0 \n",
            "Accuracy of the network on the test samples:18.192272309107636\n",
            "epoch is 196 loss validation set is 0.038899699042670315\n",
            "loss is 0.007269216861043658\n",
            "Accuracy of the network on the train samples: 90.71428571428571 \n",
            "Accuracy of the network on the test samples:17.66329346826127\n",
            "epoch is 197 loss validation set is 0.03913745369073329\n",
            "loss is 0.007550127378531865\n",
            "Accuracy of the network on the train samples: 87.85714285714286 \n",
            "Accuracy of the network on the test samples:17.647960748236738\n",
            "epoch is 198 loss validation set is 0.039242873762839046\n",
            "loss is 0.0068237447312899996\n",
            "Accuracy of the network on the train samples: 93.57142857142857 \n",
            "Accuracy of the network on the test samples:17.785955228457528\n",
            "epoch is 199 loss validation set is 0.03950192552883543\n",
            "Finished Training\n"
          ],
          "name": "stdout"
        }
      ]
    },
    {
      "cell_type": "code",
      "metadata": {
        "colab_type": "code",
        "id": "rct7EmUMGzHI",
        "outputId": "ff9cc240-f4de-4ee0-cbaa-7da64f3fb84b",
        "colab": {
          "base_uri": "https://localhost:8080/",
          "height": 35
        }
      },
      "source": [
        "%tensorboard --logdir /content/logs/tensorboard"
      ],
      "execution_count": 0,
      "outputs": [
        {
          "output_type": "stream",
          "text": [
            "UsageError: Line magic function `%tensorboard` not found.\n"
          ],
          "name": "stderr"
        }
      ]
    },
    {
      "cell_type": "markdown",
      "metadata": {
        "id": "0OlV5dgdfHKz",
        "colab_type": "text"
      },
      "source": [
        "# The Classification Dataset Evaluation"
      ]
    },
    {
      "cell_type": "code",
      "metadata": {
        "id": "uCnOhz2Yg3T6",
        "colab_type": "code",
        "outputId": "7559ef66-a9b6-46a5-ea7a-8c856560c006",
        "colab": {
          "base_uri": "https://localhost:8080/",
          "height": 312
        }
      },
      "source": [
        "# First load the best model based on the classification scenario above\n",
        "net = ClassificationNet(embedding_network=model, num_classes=num_classes)\n",
        "PATH = '/content/126-classifier.pth'\n",
        "net.load_state_dict(torch.load(PATH))\n",
        "net.cuda()"
      ],
      "execution_count": 0,
      "outputs": [
        {
          "output_type": "execute_result",
          "data": {
            "text/plain": [
              "ClassificationNet(\n",
              "  (embedding_network): TripletNetwork(\n",
              "    (fc): Sequential(\n",
              "      (0): Linear(in_features=1024, out_features=512, bias=True)\n",
              "      (1): BatchNorm1d(512, eps=1e-05, momentum=0.1, affine=True, track_running_stats=True)\n",
              "      (2): ReLU()\n",
              "      (3): Linear(in_features=512, out_features=256, bias=True)\n",
              "      (4): BatchNorm1d(256, eps=1e-05, momentum=0.1, affine=True, track_running_stats=True)\n",
              "      (5): ReLU()\n",
              "      (6): Linear(in_features=256, out_features=64, bias=True)\n",
              "    )\n",
              "  )\n",
              "  (nonlinear): ReLU()\n",
              "  (fc1): Linear(in_features=64, out_features=64, bias=True)\n",
              "  (fc2): Linear(in_features=64, out_features=32, bias=True)\n",
              "  (fc3): Linear(in_features=32, out_features=23, bias=True)\n",
              ")"
            ]
          },
          "metadata": {
            "tags": []
          },
          "execution_count": 84
        }
      ]
    },
    {
      "cell_type": "code",
      "metadata": {
        "id": "zsGspogEg3dW",
        "colab_type": "code",
        "colab": {}
      },
      "source": [
        "# TODO: Still not ready. Please refer to the KNN part for now\n",
        "all_labels = []\n",
        "all_predictions=[]\n",
        "with torch.no_grad():\n",
        "    for data in classification_test_loader:\n",
        "        inputs, labels = data\n",
        "        inputs = inputs.cuda()\n",
        "        batch_size = inputs.shape[0]\n",
        "        inputs = inputs.reshape(batch_size,-1)\n",
        "        # Next the evaluation\n",
        "        outputs = net(inputs)\n",
        "        labels = labels.cuda()\n",
        "        loss = criterion(outputs, labels)\n",
        "        loss_val = loss_val + loss.item()\n",
        "        _, predicted = torch.max(outputs.data, 1)\n",
        "        for idx in range(batch_size):\n",
        "            all_predictions.append(predicted[idx].item())\n",
        "            all_labels.append(labels[idx].item())\n"
      ],
      "execution_count": 0,
      "outputs": []
    },
    {
      "cell_type": "code",
      "metadata": {
        "colab_type": "code",
        "id": "7IOcTdmFInnH",
        "colab": {}
      },
      "source": [
        "labels = list(set(train_df.labels_encoded))\n",
        "cm = confusion_matrix(all_labels, all_predictions, labels)"
      ],
      "execution_count": 0,
      "outputs": []
    },
    {
      "cell_type": "code",
      "metadata": {
        "colab_type": "code",
        "id": "JClpBpSJK-sD",
        "outputId": "1b9b0bd9-0846-4a86-b6b4-d651b0665213",
        "colab": {
          "base_uri": "https://localhost:8080/",
          "height": 289
        }
      },
      "source": [
        "fig = plt.figure()\n",
        "ax = fig.add_subplot(111)\n",
        "cax = ax.matshow(cm)\n",
        "plt.title('Confusion matrix of the classifier')\n",
        "fig.colorbar(cax)\n",
        "ax.set_xticklabels([''] + get_all_labels())\n",
        "ax.set_yticklabels([''] + get_all_labels())\n",
        "plt.xlabel('Predicted')\n",
        "plt.ylabel('True')\n",
        "plt.show()"
      ],
      "execution_count": 0,
      "outputs": [
        {
          "output_type": "display_data",
          "data": {
            "image/png": "[encoded data removed]",
            "text/plain": [
              "<Figure size 432x288 with 2 Axes>"
            ]
          },
          "metadata": {
            "tags": []
          }
        }
      ]
    },
    {
      "cell_type": "code",
      "metadata": {
        "colab_type": "code",
        "id": "83WzcFdcK-sJ",
        "outputId": "78b0fc87-cdca-4165-cb3b-517b920f9099",
        "colab": {
          "base_uri": "https://localhost:8080/",
          "height": 365
        }
      },
      "source": [
        "ax= plt.subplot()\n",
        "sns.heatmap(cm, annot=False, ax = ax, fmt='g', cmap='Greens'); #annot=True to annotate cells\n",
        "\n",
        "# labels, title and ticks\n",
        "ax.set_xlabel('Predicted labels');ax.set_ylabel('True labels'); \n",
        "ax.set_title('Confusion Matrix'); \n",
        "ax.xaxis.set_ticklabels([''] + get_all_labels());\n",
        "ax.yaxis.set_ticklabels([''] + get_all_labels());"
      ],
      "execution_count": 0,
      "outputs": [
        {
          "output_type": "display_data",
          "data": {
            "image/png": "[encoded data removed]",
            "text/plain": [
              "<Figure size 432x288 with 2 Axes>"
            ]
          },
          "metadata": {
            "tags": []
          }
        }
      ]
    },
    {
      "cell_type": "code",
      "metadata": {
        "colab_type": "code",
        "id": "sTu_7QLyK-sN",
        "outputId": "627c6413-63b3-46ee-dbe7-6626a3537e00",
        "colab": {
          "base_uri": "https://localhost:8080/",
          "height": 436
        }
      },
      "source": [
        "print(classification_report(all_labels, all_predictions,labels=labels, target_names=get_all_labels()))"
      ],
      "execution_count": 0,
      "outputs": [
        {
          "output_type": "stream",
          "text": [
            "                             precision    recall  f1-score   support\n",
            "\n",
            "      Amazon Instant Videos       0.18      0.19      0.18       989\n",
            "               Android Apps       0.21      0.27      0.23       989\n",
            "                 Automotive       0.06      0.18      0.09       392\n",
            "                       Baby       0.17      0.26      0.20       784\n",
            "                     Beauty       0.17      0.22      0.19       989\n",
            "              CDs and Vinyl       0.20      0.19      0.19       989\n",
            "Cell Phones and Accessories       0.29      0.17      0.21       989\n",
            "   Clothing, Shoes, Jewelry       0.13      0.08      0.09       989\n",
            "              Digital Music       0.42      0.37      0.39       989\n",
            "                Electronics       0.29      0.29      0.29       989\n",
            "        Grocery and Gourmet       0.14      0.18      0.16       989\n",
            "   Health and Personal Care       0.12      0.05      0.07       989\n",
            "           Home and Kitchen       0.11      0.05      0.07       989\n",
            "                     Kindle       0.10      0.09      0.10       989\n",
            "\n",
            "                   accuracy                           0.18     13044\n",
            "                  macro avg       0.18      0.18      0.18     13044\n",
            "               weighted avg       0.19      0.18      0.18     13044\n",
            "\n"
          ],
          "name": "stdout"
        },
        {
          "output_type": "stream",
          "text": [
            "/usr/local/lib/python3.6/dist-packages/sklearn/metrics/classification.py:1870: UserWarning: labels size, 14, does not match size of target_names, 23\n",
            "  .format(len(labels), len(target_names))\n"
          ],
          "name": "stderr"
        }
      ]
    },
    {
      "cell_type": "markdown",
      "metadata": {
        "id": "3kLxjnxIfa6U",
        "colab_type": "text"
      },
      "source": [
        "# Now the Nearest Neighbour Part"
      ]
    },
    {
      "cell_type": "code",
      "metadata": {
        "colab_type": "code",
        "id": "ykFCG_mlxVnE",
        "colab": {}
      },
      "source": [
        "# We need to define a specific dataloader in this case, which shall be frankly, quite simple and dummy\n",
        "class TestDataset(Dataset):\n",
        "    \"\"\"\n",
        "    Train: For each sample (anchor) randomly chooses a positive and negative samples\n",
        "    Test: Creates fixed triplets for testing\n",
        "    \"\"\"\n",
        "\n",
        "    def __init__(self, dataset, select_column):\n",
        "         \n",
        "        \n",
        "        self.dataset = dataset\n",
        "        self.train_labels = self.dataset.labels_encoded\n",
        "            # Drop the labels column so that remaining features form part of the training set\n",
        "        self.dataset = self.dataset.drop('labels_encoded', axis=1)\n",
        "        self.train_data = self.dataset\n",
        "        self.select_column = select_column\n",
        "       \n",
        "    def __getitem__(self, index):\n",
        "        #print(type(self.train_data))\n",
        "        selected_frame, label = self.train_data.iloc[index], self.train_labels.iloc[index]\n",
        "        str_data = selected_frame[self.select_column]\n",
        "\n",
        "        return str_data, label\n",
        "\n",
        "    def __len__(self):\n",
        "        return len(self.dataset)"
      ],
      "execution_count": 0,
      "outputs": []
    },
    {
      "cell_type": "code",
      "metadata": {
        "colab_type": "code",
        "id": "1bcxIkQnx40i",
        "colab": {}
      },
      "source": [
        "# Global declarations\n",
        "batch_size = 30"
      ],
      "execution_count": 0,
      "outputs": []
    },
    {
      "cell_type": "code",
      "metadata": {
        "colab_type": "code",
        "id": "5lRDgP4N7U4l",
        "colab": {}
      },
      "source": [
        "one_shot_train_dataset = SoftmaxDataset(dataset=train_df,select_column='sentence_embedding')\n",
        "one_shot_test_dataset = SoftmaxDataset(dataset=test_df,select_column='sentence_embedding')\n",
        "# Now the dataloaders need to be defined as well\n",
        "one_shot_train_loader = DataLoader(one_shot_train_dataset, batch_size=batch_size,shuffle=True)\n",
        "one_shot_test_loader = DataLoader(one_shot_test_dataset, batch_size=batch_size,shuffle=True)"
      ],
      "execution_count": 0,
      "outputs": []
    },
    {
      "cell_type": "code",
      "metadata": {
        "colab_type": "code",
        "outputId": "0534e5c8-c147-4f9f-b8ae-81e964b64502",
        "id": "ZTNsLHmDvmAP",
        "colab": {
          "base_uri": "https://localhost:8080/",
          "height": 204
        }
      },
      "source": [
        "# Load a pre-existing model \n",
        "PATH = '/content/11-model-GOOD.pth'\n",
        "model = TripletNetwork()\n",
        "model.load_state_dict(torch.load(PATH))\n",
        "model.cuda()"
      ],
      "execution_count": 141,
      "outputs": [
        {
          "output_type": "execute_result",
          "data": {
            "text/plain": [
              "TripletNetwork(\n",
              "  (fc): Sequential(\n",
              "    (0): Linear(in_features=1024, out_features=512, bias=True)\n",
              "    (1): BatchNorm1d(512, eps=1e-05, momentum=0.1, affine=True, track_running_stats=True)\n",
              "    (2): ReLU()\n",
              "    (3): Linear(in_features=512, out_features=256, bias=True)\n",
              "    (4): BatchNorm1d(256, eps=1e-05, momentum=0.1, affine=True, track_running_stats=True)\n",
              "    (5): ReLU()\n",
              "    (6): Linear(in_features=256, out_features=64, bias=True)\n",
              "  )\n",
              ")"
            ]
          },
          "metadata": {
            "tags": []
          },
          "execution_count": 141
        }
      ]
    },
    {
      "cell_type": "code",
      "metadata": {
        "colab_type": "code",
        "id": "ppZ_kSqnzkTK",
        "colab": {}
      },
      "source": [
        "embedding_model = model"
      ],
      "execution_count": 0,
      "outputs": []
    },
    {
      "cell_type": "code",
      "metadata": {
        "colab_type": "code",
        "id": "19dhXYv79Ndg",
        "colab": {}
      },
      "source": [
        "# Let us save the embedding of all elements in the train_data as well as their index\n",
        "# this can be used later for our purpose\n",
        "embedding_space_one_shot = []\n",
        "for i, data in enumerate(one_shot_train_loader, 0):\n",
        "        # get the inputs; data is a list of [inputs, labels]\n",
        "        inputs, labels = data\n",
        "        inputs = inputs.cuda()\n",
        "        batch_size = inputs.shape[0]\n",
        "        inputs = inputs.reshape(batch_size,-1)\n",
        "        labels = labels.cuda()\n",
        "        embeddings = embedding_model.fc(inputs)\n",
        "        for index,tensor in enumerate(embeddings):\n",
        "           embedding_space_one_shot.append((labels[index],tensor))"
      ],
      "execution_count": 0,
      "outputs": []
    },
    {
      "cell_type": "code",
      "metadata": {
        "colab_type": "code",
        "outputId": "63585d0f-b385-4045-f617-ceaf333164f4",
        "id": "fI6UTX2w9Ndv",
        "colab": {
          "base_uri": "https://localhost:8080/",
          "height": 34
        }
      },
      "source": [
        "y_train = []\n",
        "dist = []\n",
        "for index,space in embedding_space_one_shot[:-1]:\n",
        "  dist.append(space)\n",
        "  y_train.append(index.item())\n",
        "# dist = [space for index,space in embedding_space_one_shot[:-1]]\n",
        "result = torch.stack(dist, dim=0)\n",
        "result.shape"
      ],
      "execution_count": 144,
      "outputs": [
        {
          "output_type": "execute_result",
          "data": {
            "text/plain": [
              "torch.Size([13, 64])"
            ]
          },
          "metadata": {
            "tags": []
          },
          "execution_count": 144
        }
      ]
    },
    {
      "cell_type": "code",
      "metadata": {
        "colab_type": "code",
        "id": "GlmGHMbl15lJ",
        "colab": {}
      },
      "source": [
        "#select the norm\n",
        "def select_norm(vector_x, power=2):\n",
        "  return torch.norm(vector_x,p=power,dim=1)"
      ],
      "execution_count": 0,
      "outputs": []
    },
    {
      "cell_type": "code",
      "metadata": {
        "colab_type": "code",
        "id": "SpFLKZlxyGEG",
        "colab": {}
      },
      "source": [
        "def k_nearest_neighbour(distance_embeddings, vector, k=5):  \n",
        "    updated_result = select_norm(vector_x=(distance_embeddings - vector), power=2)\n",
        "    values, indices = torch.topk(updated_result,k=k ,largest=False)\n",
        "    candidate_indexes = []\n",
        "    for index in indices:\n",
        "      candidate_indexes.append((embedding_space_one_shot[index][0]).item())\n",
        "    return Counter(candidate_indexes).most_common(1)[0][0]"
      ],
      "execution_count": 0,
      "outputs": []
    },
    {
      "cell_type": "code",
      "metadata": {
        "colab_type": "code",
        "id": "RvfnqzTiyGEK",
        "outputId": "5296e15d-0e68-472e-f1eb-3611664d2814",
        "colab": {
          "base_uri": "https://localhost:8080/",
          "height": 34
        }
      },
      "source": [
        "correct = 0\n",
        "total = 0\n",
        "all_labels = []\n",
        "all_predictions_one_shot=[]\n",
        "for data in one_shot_test_loader:\n",
        "    inputs, labels = data\n",
        "    inputs = inputs.cuda()\n",
        "    batch_size = inputs.shape[0]\n",
        "    inputs = inputs.reshape(batch_size,-1)\n",
        "    # Next the evaluation\n",
        "    \n",
        "    output = embedding_model.fc(inputs)\n",
        "    for idx,query in enumerate(output):\n",
        "        predicted = k_nearest_neighbour(result, query, 5)\n",
        "#         print(labels[idx])\n",
        "#         print(predicted)\n",
        "        all_predictions_one_shot.append(predicted)\n",
        "        correct += (predicted == labels[idx])\n",
        "        all_labels.append(labels[idx].item())\n",
        "    total += labels.size(0)\n",
        "    correct = correct.cpu().sum()\n",
        "print('Accuracy of the network on the test samples: %d %%' % (\n",
        "        100 * correct /total))"
      ],
      "execution_count": 147,
      "outputs": [
        {
          "output_type": "stream",
          "text": [
            "Accuracy of the network on the test samples: 12 %\n"
          ],
          "name": "stdout"
        }
      ]
    },
    {
      "cell_type": "code",
      "metadata": {
        "colab_type": "code",
        "id": "M77ure6NE0jp",
        "outputId": "a2b49e29-679a-43d7-864b-e89e6f432e5f",
        "colab": {
          "base_uri": "https://localhost:8080/",
          "height": 34
        }
      },
      "source": [
        "f1_score(all_labels, all_predictions_one_shot, average='micro') "
      ],
      "execution_count": 148,
      "outputs": [
        {
          "output_type": "execute_result",
          "data": {
            "text/plain": [
              "0.12027334851936218"
            ]
          },
          "metadata": {
            "tags": []
          },
          "execution_count": 148
        }
      ]
    },
    {
      "cell_type": "code",
      "metadata": {
        "colab_type": "code",
        "id": "aVu1tX0aE0j4",
        "outputId": "d4a018c3-9a48-43f6-cbb4-8bb289b044ca",
        "colab": {
          "base_uri": "https://localhost:8080/",
          "height": 88
        }
      },
      "source": [
        "f1_score(all_labels, all_predictions_one_shot, average='macro') "
      ],
      "execution_count": 149,
      "outputs": [
        {
          "output_type": "stream",
          "text": [
            "/usr/local/lib/python3.6/dist-packages/sklearn/metrics/classification.py:1437: UndefinedMetricWarning: F-score is ill-defined and being set to 0.0 in labels with no predicted samples.\n",
            "  'precision', 'predicted', average, warn_for)\n"
          ],
          "name": "stderr"
        },
        {
          "output_type": "execute_result",
          "data": {
            "text/plain": [
              "0.10328135298913357"
            ]
          },
          "metadata": {
            "tags": []
          },
          "execution_count": 149
        }
      ]
    },
    {
      "cell_type": "code",
      "metadata": {
        "colab_type": "code",
        "id": "s53zB2QuE0j_",
        "colab": {}
      },
      "source": [
        "labels = list(set(train_df.labels_encoded))\n",
        "cm = confusion_matrix(all_labels, all_predictions_one_shot, labels)"
      ],
      "execution_count": 0,
      "outputs": []
    },
    {
      "cell_type": "code",
      "metadata": {
        "colab_type": "code",
        "id": "nrb57_FnE0kH",
        "outputId": "48a85e93-9450-46c0-cabe-434e1c33210d",
        "colab": {
          "base_uri": "https://localhost:8080/",
          "height": 289
        }
      },
      "source": [
        "fig = plt.figure()\n",
        "ax = fig.add_subplot(111)\n",
        "cax = ax.matshow(cm)\n",
        "plt.title('Confusion matrix of the classifier')\n",
        "fig.colorbar(cax)\n",
        "ax.set_xticklabels([''] + get_all_labels())\n",
        "ax.set_yticklabels([''] + get_all_labels())\n",
        "plt.xlabel('Predicted')\n",
        "plt.ylabel('True')\n",
        "#plt.show()\n",
        "plt.savefig('Classifier_confusionMatrix_1_30_acc11_labelsencoded.png', dpi = 200)\n"
      ],
      "execution_count": 151,
      "outputs": [
        {
          "output_type": "display_data",
          "data": {
            "image/png": "[encoded data removed]",
            "text/plain": [
              "<Figure size 432x288 with 2 Axes>"
            ]
          },
          "metadata": {
            "tags": []
          }
        }
      ]
    },
    {
      "cell_type": "code",
      "metadata": {
        "colab_type": "code",
        "id": "SAKbybszE0kK",
        "outputId": "93ff46f4-91f7-4706-98d8-7901f1d45d46",
        "colab": {
          "base_uri": "https://localhost:8080/",
          "height": 296
        }
      },
      "source": [
        "ax= plt.subplot()\n",
        "sns.heatmap(cm, annot=False, ax = ax, fmt='g', cmap='Greens'); #annot=True to annotate cells\n",
        "\n",
        "# labels, title and ticks\n",
        "ax.set_xlabel('Predicted labels');ax.set_ylabel('True labels'); \n",
        "ax.set_title('Confusion Matrix'); \n",
        "ax.xaxis.set_ticklabels([''] + get_all_labels());\n",
        "ax.yaxis.set_ticklabels([''] + get_all_labels());\n",
        "plt.savefig('ConfusionMatrix_1_30_acc11_labelsencoded.png', dpi = 200)"
      ],
      "execution_count": 152,
      "outputs": [
        {
          "output_type": "display_data",
          "data": {
            "image/png": "[encoded data removed]",
            "text/plain": [
              "<Figure size 432x288 with 2 Axes>"
            ]
          },
          "metadata": {
            "tags": []
          }
        }
      ]
    },
    {
      "cell_type": "code",
      "metadata": {
        "colab_type": "code",
        "id": "h7wAVfL8E0kN",
        "outputId": "9c1b107d-c542-447d-ff6f-f859b5ead7e9",
        "colab": {
          "base_uri": "https://localhost:8080/",
          "height": 34
        }
      },
      "source": [
        "accuracy_score(all_labels, all_predictions_one_shot)"
      ],
      "execution_count": 153,
      "outputs": [
        {
          "output_type": "execute_result",
          "data": {
            "text/plain": [
              "0.12027334851936218"
            ]
          },
          "metadata": {
            "tags": []
          },
          "execution_count": 153
        }
      ]
    },
    {
      "cell_type": "code",
      "metadata": {
        "colab_type": "code",
        "id": "nQemngRdE0kT",
        "outputId": "0c958156-bcd0-4e10-fb3b-090b74b8fcda",
        "colab": {
          "base_uri": "https://localhost:8080/",
          "height": 462
        }
      },
      "source": [
        "print(classification_report(all_labels, all_predictions_one_shot,labels=labels, target_names=get_all_labels()))"
      ],
      "execution_count": 154,
      "outputs": [
        {
          "output_type": "stream",
          "text": [
            "                        precision    recall  f1-score   support\n",
            "\n",
            "            Automotive       0.10      0.02      0.03       998\n",
            "                  Baby       0.10      0.18      0.13       998\n",
            "Digital_Ebook_Purchase       0.02      0.06      0.03       401\n",
            "Digital_Music_Purchase       0.12      0.13      0.13       793\n",
            "Digital_Video_Download       0.10      0.09      0.09       998\n",
            "           Electronics       0.20      0.05      0.07       998\n",
            "                  Home       0.21      0.10      0.13       998\n",
            "           Mobile_Apps       0.17      0.35      0.23       998\n",
            "   Musical Instruments       0.02      0.01      0.02       998\n",
            "                 Shoes       0.27      0.38      0.32       998\n",
            "                Sports       0.14      0.11      0.12       998\n",
            "                  Toys       0.05      0.06      0.06       998\n",
            "                 Video       0.00      0.00      0.00       998\n",
            "             Video DVD       0.08      0.11      0.09       998\n",
            "\n",
            "              accuracy                           0.12     13170\n",
            "             macro avg       0.11      0.12      0.10     13170\n",
            "          weighted avg       0.12      0.12      0.11     13170\n",
            "\n"
          ],
          "name": "stdout"
        },
        {
          "output_type": "stream",
          "text": [
            "/usr/local/lib/python3.6/dist-packages/sklearn/metrics/classification.py:1870: UserWarning: labels size, 14, does not match size of target_names, 15\n",
            "  .format(len(labels), len(target_names))\n",
            "/usr/local/lib/python3.6/dist-packages/sklearn/metrics/classification.py:1437: UndefinedMetricWarning: Precision and F-score are ill-defined and being set to 0.0 in labels with no predicted samples.\n",
            "  'precision', 'predicted', average, warn_for)\n"
          ],
          "name": "stderr"
        }
      ]
    },
    {
      "cell_type": "code",
      "metadata": {
        "id": "clHglQjIyRPs",
        "colab_type": "code",
        "colab": {}
      },
      "source": [
        ""
      ],
      "execution_count": 0,
      "outputs": []
    }
  ]
}